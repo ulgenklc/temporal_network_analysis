{
 "cells": [
  {
   "cell_type": "code",
   "execution_count": 39,
   "metadata": {},
   "outputs": [],
   "source": [
    "import chart_studio.plotly as py\n",
    "import plotly.graph_objs as go\n",
    "import igraph as ig\n",
    "import numpy as np\n",
    "import chart_studio\n",
    "chart_studio.tools.set_credentials_file(username='bengieru', api_key='aEWAksFu2EImuQ4jxWut')"
   ]
  },
  {
   "cell_type": "code",
   "execution_count": 57,
   "metadata": {},
   "outputs": [],
   "source": [
    "layers = 2\n",
    "nodes = 9\n",
    "n = layers*nodes\n",
    "intra_edges = [(0,1),(0,3),(1,4),(3,4),(7,8),(5,8),(5,7),(9,10),(9,12),(9,13),(10,13),(12,13),(16,17),(14,17),(14,16)]\n",
    "inter_edges =  [(i,i+nodes) for i in range(nodes)]\n",
    "G = ig.Graph(edges)\n",
    "\n",
    "comm1 = [0, 1, 3, 4]\n",
    "comm2 = [5, 7, 8]\n",
    "group =[]\n",
    "for i in range(n):\n",
    "    if i%nodes in comm1:group.append(0)\n",
    "    elif i%nodes in comm2:group.append(1)\n",
    "    else:group.append(i*10)"
   ]
  },
  {
   "cell_type": "code",
   "execution_count": 58,
   "metadata": {},
   "outputs": [],
   "source": [
    "Xn=[2 for k in range(nodes)] + [1 for k in range(nodes)]# x-coordinates of nodes\n",
    "Yn=[]\n",
    "for i in range(n):\n",
    "    if i%3 ==2: Yn.append(1)\n",
    "    elif i%3 ==1: Yn.append(0)\n",
    "    elif i%3 ==0: Yn.append(-1)# y-coordinates\n",
    "Zn=[]\n",
    "for i in [-1,0,1,-1,0,1]:\n",
    "    Zn+=[i for j in range(3)]# z-coordinates\n",
    "\n",
    "Xe=[]\n",
    "Ye=[]\n",
    "Ze=[]\n",
    "for e in intra_edges:\n",
    "    Xe+=[Xn[e[0]], Xn[e[1]], None]# x-coordinates of edge ends\n",
    "    Ye+=[Yn[e[0]], Yn[e[1]], None]\n",
    "    Ze+=[Zn[e[0]], Zn[e[1]], None]\n",
    "    \n",
    "Xie=[]\n",
    "Yie=[]\n",
    "Zie=[]\n",
    "for e in inter_edges:\n",
    "    Xie+=[Xn[e[0]], Xn[e[1]], None]# x-coordinates of edge ends\n",
    "    Yie+=[Yn[e[0]], Yn[e[1]], None]\n",
    "    Zie+=[Zn[e[0]], Zn[e[1]], None]"
   ]
  },
  {
   "cell_type": "code",
   "execution_count": 63,
   "metadata": {},
   "outputs": [],
   "source": [
    "trace1=go.Scatter3d(x=Xe,\n",
    "               y=Ye,\n",
    "               z=Ze,\n",
    "               mode='lines',\n",
    "               line=dict(color='rgb(125,125,125)', width=1),\n",
    "               hoverinfo='none'\n",
    "               )\n",
    "trace2=go.Scatter3d(x=Xie,\n",
    "               y=Yie,\n",
    "               z=Zie,\n",
    "               mode='lines',\n",
    "               line=dict(color='rgb(225,25,25)', width=5),\n",
    "               hoverinfo='none'\n",
    "               )\n",
    "\n",
    "trace3=go.Scatter3d(x=Xn,\n",
    "               y=Yn,\n",
    "               z=Zn,\n",
    "               mode='markers',\n",
    "               name='actors',\n",
    "               marker=dict(symbol='circle',\n",
    "                             size=16,\n",
    "                             color=group,\n",
    "                             colorscale='Viridis',\n",
    "                             line=dict(color='rgb(50,50,50)', width=0.5)\n",
    "                             ),\n",
    "               #text=labels,\n",
    "               hoverinfo='text'\n",
    "               )\n",
    "\n",
    "axis=dict(showbackground=False,\n",
    "          showline=False,\n",
    "          zeroline=False,\n",
    "          showgrid=False,\n",
    "          showticklabels=False,\n",
    "          title=''\n",
    "          )\n",
    "\n",
    "layout = go.Layout(\n",
    "         #title=\"Network of coappearances of characters in Victor Hugo's novel<br> Les Miserables (3D visualization)\",\n",
    "         width=1000,\n",
    "         height=1000,\n",
    "         showlegend=False,\n",
    "         scene=dict(\n",
    "             xaxis=dict(axis),\n",
    "             yaxis=dict(axis),\n",
    "             zaxis=dict(axis),\n",
    "        ),\n",
    "     margin=dict(\n",
    "        t=100\n",
    "    ),\n",
    "    hovermode='closest',\n",
    "    annotations=[\n",
    "           dict(\n",
    "           showarrow=False,\n",
    "            #text=\"Data source: <a href='http://bost.ocks.org/mike/miserables/miserables.json'>[1] miserables.json</a>\",\n",
    "            xref='paper',\n",
    "            yref='paper',\n",
    "            x=0,\n",
    "            y=0.1,\n",
    "            xanchor='left',\n",
    "            yanchor='bottom',\n",
    "            font=dict(\n",
    "            size=14\n",
    "            )\n",
    "            )\n",
    "        ],    )"
   ]
  },
  {
   "cell_type": "code",
   "execution_count": 64,
   "metadata": {},
   "outputs": [
    {
     "data": {
      "text/html": [
       "\n",
       "        <iframe\n",
       "            width=\"1000px\"\n",
       "            height=\"1000px\"\n",
       "            src=\"https://plotly.com/~bengieru/62.embed\"\n",
       "            frameborder=\"0\"\n",
       "            allowfullscreen\n",
       "        ></iframe>\n",
       "        "
      ],
      "text/plain": [
       "<IPython.lib.display.IFrame at 0x7faa6ff98d90>"
      ]
     },
     "execution_count": 64,
     "metadata": {},
     "output_type": "execute_result"
    }
   ],
   "source": [
    "data=[trace1, trace2, trace3]\n",
    "fig=go.Figure(data=data, layout=layout)\n",
    "\n",
    "py.iplot(fig, filename='example_mlayer')"
   ]
  },
  {
   "cell_type": "code",
   "execution_count": null,
   "metadata": {},
   "outputs": [],
   "source": []
  },
  {
   "cell_type": "code",
   "execution_count": null,
   "metadata": {},
   "outputs": [],
   "source": []
  },
  {
   "cell_type": "code",
   "execution_count": null,
   "metadata": {},
   "outputs": [],
   "source": []
  },
  {
   "cell_type": "code",
   "execution_count": null,
   "metadata": {},
   "outputs": [],
   "source": []
  }
 ],
 "metadata": {
  "kernelspec": {
   "display_name": "Python 3",
   "language": "python",
   "name": "python3"
  },
  "language_info": {
   "codemirror_mode": {
    "name": "ipython",
    "version": 3
   },
   "file_extension": ".py",
   "mimetype": "text/x-python",
   "name": "python",
   "nbconvert_exporter": "python",
   "pygments_lexer": "ipython3",
   "version": "3.7.6"
  }
 },
 "nbformat": 4,
 "nbformat_minor": 4
}
