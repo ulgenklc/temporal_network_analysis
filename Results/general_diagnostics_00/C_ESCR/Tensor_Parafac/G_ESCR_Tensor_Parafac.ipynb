{
 "cells": [
  {
   "cell_type": "code",
   "execution_count": null,
   "metadata": {},
   "outputs": [],
   "source": [
    "import numpy as np\n",
    "import matplotlib.pyplot as plt\n",
    "import tensorly as tl\n",
    "from tensorly.decomposition import parafac, non_negative_parafac, tucker, Tucker\n",
    "from scipy.stats import zscore\n",
    "from scipy.spatial.distance import jensenshannon\n",
    "import random\n",
    "import pickle\n",
    "import os\n",
    "\n",
    "base_path = \"/projects/academic/smuldoon/bengieru/Community_Detection/general_diagnostics_00/\"\n",
    "\n",
    "import sys\n",
    "sys.path.insert(0, base_path)\n",
    "\n",
    "from helpers import *\n",
    "from Temporal_Community_Detection import temporal_network"
   ]
  },
  {
   "cell_type": "code",
   "execution_count": null,
   "metadata": {},
   "outputs": [],
   "source": [
    "data_path = base_path + 'G_ESCR/'\n",
    "\n",
    "path = data_path + 'Tensor_Parafac/'\n",
    "\n",
    "with open(data_path + 'spikes.pkl', 'rb') as handle:\n",
    "    spikes = pickle.load(handle)\n",
    "    \n",
    "with open(data_path + 'comm_size.pkl', 'rb') as handle:\n",
    "    comm_sizes = pickle.load(handle)\n",
    "    \n",
    "num_neurons = sum(comm_sizes)\n",
    "layers = 7\n",
    "\n",
    "window_size = 1000 # size, in frames, each adjacency matrix correspond to. better to be equal to bin_size \n",
    "standard_dev = 1.2 # for gaussian kernel\n",
    "k = 5 #for jittering the spikes\n",
    "pad = True"
   ]
  },
  {
   "cell_type": "code",
   "execution_count": null,
   "metadata": {},
   "outputs": [],
   "source": [
    "binned_spikes = bin_time_series(spikes, window_size, gaussian = True, sigma = standard_dev)\n",
    "\n",
    "adjacency_matrices = []\n",
    "for i in range(layers):\n",
    "    adjacency_matrices.append(cross_correlation_matrix(binned_spikes[i])[0])\n",
    "    \n",
    "if pad:\n",
    "    padded_adjacencies = [adjacency_matrices[0]]  + adjacency_matrices + [adjacency_matrices[-1]]\n",
    "    layers = layers + 2"
   ]
  },
  {
   "cell_type": "code",
   "execution_count": null,
   "metadata": {},
   "outputs": [],
   "source": [
    "TN = temporal_network(num_neurons, \n",
    "                      layers, \n",
    "                      window_size, \n",
    "                      data = 'list__adjacency', \n",
    "                      list_adjacency = padded_adjacencies, \n",
    "                      omega = 1, \n",
    "                      kind = 'ordinal')\n",
    "\n",
    "fig,ax = plt.subplots(1,1, figsize = (25,15))\n",
    "TN.raster_plot(spikes, ax)\n",
    "plt.savefig(path + 'raster_plot.pdf')"
   ]
  },
  {
   "cell_type": "code",
   "execution_count": null,
   "metadata": {},
   "outputs": [],
   "source": [
    "thresholds = np.linspace(0.2,0.5,16)\n",
    "ranks = np.arange(2,50)\n",
    "\n",
    "path_no_update = path + 'no_update/'\n",
    "\n",
    "os.makedirs(path_no_update, exist_ok = True)"
   ]
  },
  {
   "cell_type": "code",
   "execution_count": null,
   "metadata": {},
   "outputs": [],
   "source": [
    "membership_no_update, labels_no_update = TN.run_community_detection('PARA_FACT', ranks = ranks, thresholds = thresholds, update_method = None, consensus = False)"
   ]
  },
  {
   "cell_type": "code",
   "execution_count": null,
   "metadata": {},
   "outputs": [],
   "source": [
    "fig,ax = plt.subplots(len(ranks),len(thresholds), figsize = (10*len(thresholds),10*len(ranks)+5))\n",
    "for i in range(len(ranks)):\n",
    "    for j in range(len(thresholds)):\n",
    "        comms, c = TN.community(membership_no_update['rank=%d'%ranks[i]][j], ax[i][j])\n",
    "        ax[i][j].set_xticks([i for i in range(layers)])\n",
    "        ax[i][j].set_yticks([i*10 for i in range(int(num_neurons/10)+1)])\n",
    "        ax[i][j].tick_params(axis = 'both', labelsize = 12)\n",
    "        ax[i][j].set_xlabel('Layers (Time)', fontsize = 25)\n",
    "        ax[i][j].set_ylabel('Neuron ID', fontsize = 25)\n",
    "        ax[i][j].set_title('%d Communities, Thresholds:%.3f'%(len(c),thresholds[j]), fontsize=29)\n",
    "plt.tight_layout()\n",
    "plt.savefig(path_no_update + 'communities.pdf')"
   ]
  },
  {
   "cell_type": "code",
   "execution_count": null,
   "metadata": {},
   "outputs": [],
   "source": [
    "information_recovery(labels_no_update, comm_sizes, 'Scattered', ranks, thresholds, 'grow')\n",
    "plt.savefig(path_no_update + 'recovery_scattered.pdf')"
   ]
  },
  {
   "cell_type": "code",
   "execution_count": null,
   "metadata": {},
   "outputs": [],
   "source": [
    "information_recovery(labels_no_update, comm_sizes, 'Integrated', ranks, thresholds, 'grow')\n",
    "plt.savefig(path_no_update + 'recovery_integrated.pdf')"
   ]
  },
  {
   "cell_type": "code",
   "execution_count": null,
   "metadata": {},
   "outputs": [],
   "source": [
    "with open(path_no_update + \"memberships_no_update.pkl\", \"wb\") as fp:\n",
    "    pickle.dump(membership_no_update, fp)\n",
    "with open(path_no_update + \"labels_no_update\", \"wb\") as fp:\n",
    "    pickle.dump(labels_no_update, fp)"
   ]
  },
  {
   "cell_type": "code",
   "execution_count": null,
   "metadata": {},
   "outputs": [],
   "source": [
    "thresholds = np.linspace(0.2,0.5,16)\n",
    "ranks = np.arange(2,80)\n",
    "\n",
    "path_local_update = path + 'local_update/'\n",
    "\n",
    "os.makedirs(path_local_update, exist_ok = True)"
   ]
  },
  {
   "cell_type": "code",
   "execution_count": null,
   "metadata": {},
   "outputs": [],
   "source": [
    "membership_local_update, labels_local_update = TN.run_community_detection('PARA_FACT', ranks = ranks, thresholds = thresholds, update_method = 'local', consensus = False)"
   ]
  },
  {
   "cell_type": "code",
   "execution_count": null,
   "metadata": {},
   "outputs": [],
   "source": [
    "fig,ax = plt.subplots(len(ranks),len(thresholds), figsize = (10*len(thresholds),10*len(ranks)+5))\n",
    "for i in range(len(ranks)):\n",
    "    for j in range(len(thresholds)):\n",
    "        comms, c = TN.community(membership_local_update['rank=%d'%ranks[i]][j], ax[i][j])\n",
    "        ax[i][j].set_xticks([i for i in range(layers)])\n",
    "        ax[i][j].set_yticks([i*10 for i in range(int(num_neurons/10)+1)])\n",
    "        ax[i][j].tick_params(axis = 'both', labelsize = 12)\n",
    "        ax[i][j].set_xlabel('Layers (Time)', fontsize = 25)\n",
    "        ax[i][j].set_ylabel('Neuron ID', fontsize = 25)\n",
    "        ax[i][j].set_title('%d Communities, Thresholds:%.3f'%(len(c),thresholds[j]), fontsize=29)\n",
    "plt.tight_layout()\n",
    "plt.savefig(path_local_update + 'communities.pdf')"
   ]
  },
  {
   "cell_type": "code",
   "execution_count": null,
   "metadata": {},
   "outputs": [],
   "source": [
    "information_recovery(labels_local_update, comm_sizes, 'Scattered', ranks, thresholds, 'grow')\n",
    "plt.savefig(path_local_update + 'recovery_scattered.pdf')"
   ]
  },
  {
   "cell_type": "code",
   "execution_count": null,
   "metadata": {},
   "outputs": [],
   "source": [
    "information_recovery(labels_local_update, comm_sizes, 'Integrated', ranks, thresholds, 'grow')\n",
    "plt.savefig(path_local_update + 'recovery_integrated.pdf')"
   ]
  },
  {
   "cell_type": "code",
   "execution_count": null,
   "metadata": {},
   "outputs": [],
   "source": [
    "with open(path_local_update + \"memberships_local_update.pkl\", \"wb\") as fp:\n",
    "    pickle.dump(membership_local_update, fp)\n",
    "with open(path_local_update + \"labels_local_update\", \"wb\") as fp:\n",
    "    pickle.dump(labels_local_update, fp)"
   ]
  },
  {
   "cell_type": "code",
   "execution_count": null,
   "metadata": {},
   "outputs": [],
   "source": [
    "thresholds = np.linspace(0.2,0.5,16)\n",
    "ranks = np.arange(2,80)\n",
    "\n",
    "path_global_update = path + 'global_update/'\n",
    "\n",
    "os.makedirs(path_global_update, exist_ok = True)"
   ]
  },
  {
   "cell_type": "code",
   "execution_count": null,
   "metadata": {},
   "outputs": [],
   "source": [
    "membership_global_update, labels_global_update = TN.run_community_detection('PARA_FACT', ranks = ranks, thresholds = thresholds, update_method = 'global', consensus = False)"
   ]
  },
  {
   "cell_type": "code",
   "execution_count": null,
   "metadata": {},
   "outputs": [],
   "source": [
    "fig,ax = plt.subplots(len(ranks),len(thresholds), figsize = (10*len(thresholds),10*len(ranks)+5))\n",
    "for i in range(len(ranks)):\n",
    "    for j in range(len(thresholds)):\n",
    "        comms, c = TN.community(membership_global_update['rank=%d'%ranks[i]][j], ax[i][j])\n",
    "        ax[i][j].set_xticks([i for i in range(layers)])\n",
    "        ax[i][j].set_yticks([i*10 for i in range(int(num_neurons/10)+1)])\n",
    "        ax[i][j].tick_params(axis = 'both', labelsize = 12)\n",
    "        ax[i][j].set_xlabel('Layers (Time)', fontsize = 25)\n",
    "        ax[i][j].set_ylabel('Neuron ID', fontsize = 25)\n",
    "        ax[i][j].set_title('%d Communities, Thresholds:%.3f'%(len(c),thresholds[j]), fontsize=29)\n",
    "plt.tight_layout()\n",
    "plt.savefig(path_global_update + 'communities.pdf')"
   ]
  },
  {
   "cell_type": "code",
   "execution_count": null,
   "metadata": {},
   "outputs": [],
   "source": [
    "information_recovery(labels_global_update, comm_sizes, 'Scattered', ranks, thresholds, 'grow')\n",
    "plt.savefig(path_global_update + 'recovery_scattered.pdf')"
   ]
  },
  {
   "cell_type": "code",
   "execution_count": null,
   "metadata": {},
   "outputs": [],
   "source": [
    "information_recovery(labels_global_update, comm_sizes, 'Integrated', ranks, thresholds, 'grow')\n",
    "plt.savefig(path_global_update + 'recovery_integrated.pdf')"
   ]
  },
  {
   "cell_type": "code",
   "execution_count": null,
   "metadata": {},
   "outputs": [],
   "source": [
    "with open(path_global_update + \"memberships_global_update.pkl\", \"wb\") as fp:\n",
    "    pickle.dump(membership_global_update, fp)\n",
    "with open(path_global_update + \"labels_global_update\", \"wb\") as fp:\n",
    "    pickle.dump(labels_global_update, fp)"
   ]
  },
  {
   "cell_type": "code",
   "execution_count": null,
   "metadata": {},
   "outputs": [],
   "source": [
    "thresholds = np.linspace(0.2,0.5,16)\n",
    "ranks = np.arange(2,80)\n",
    "\n",
    "path_nbr_update = path + 'nbr_update/'\n",
    "\n",
    "os.makedirs(path_nbr_update, exist_ok = True)"
   ]
  },
  {
   "cell_type": "code",
   "execution_count": null,
   "metadata": {},
   "outputs": [],
   "source": [
    "membership_nbr_update, labels_nbr_update = TN.run_community_detection('PARA_FACT', ranks = ranks, thresholds = thresholds, update_method = 'neighborhood', consensus = False)"
   ]
  },
  {
   "cell_type": "code",
   "execution_count": null,
   "metadata": {},
   "outputs": [],
   "source": [
    "fig,ax = plt.subplots(len(ranks),len(thresholds), figsize = (10*len(thresholds),10*len(ranks)+5))\n",
    "for i in range(len(ranks)):\n",
    "    for j in range(len(thresholds)):\n",
    "        comms, c = TN.community(membership_nbr_update['rank=%d'%ranks[i]][j], ax[i][j])\n",
    "        ax[i][j].set_xticks([i for i in range(layers)])\n",
    "        ax[i][j].set_yticks([i*10 for i in range(int(num_neurons/10)+1)])\n",
    "        ax[i][j].tick_params(axis = 'both', labelsize = 12)\n",
    "        ax[i][j].set_xlabel('Layers (Time)', fontsize = 25)\n",
    "        ax[i][j].set_ylabel('Neuron ID', fontsize = 25)\n",
    "        ax[i][j].set_title('%d Communities, Thresholds:%.3f'%(len(c),thresholds[j]), fontsize=29)\n",
    "plt.tight_layout()\n",
    "plt.savefig(path_nbr_update + 'communities.pdf')"
   ]
  },
  {
   "cell_type": "code",
   "execution_count": null,
   "metadata": {},
   "outputs": [],
   "source": [
    "information_recovery(labels_nbr_update, comm_sizes, 'Scattered', ranks, thresholds, 'grow')\n",
    "plt.savefig(path_nbr_update + 'recovery_scattered.pdf')"
   ]
  },
  {
   "cell_type": "code",
   "execution_count": null,
   "metadata": {},
   "outputs": [],
   "source": [
    "information_recovery(labels_nbr_update, comm_sizes, 'Integrated', ranks, thresholds, 'grow')\n",
    "plt.savefig(path_nbr_update + 'recovery_integrated.pdf')"
   ]
  },
  {
   "cell_type": "code",
   "execution_count": null,
   "metadata": {},
   "outputs": [],
   "source": [
    "with open(path_nbr_update + \"memberships_nbr_update.pkl\", \"wb\") as fp:\n",
    "    pickle.dump(membership_nbr_update, fp)\n",
    "with open(path_nbr_update + \"labels_nbr_update\", \"wb\") as fp:\n",
    "    pickle.dump(labels_nbr_update, fp)"
   ]
  },
  {
   "cell_type": "code",
   "execution_count": null,
   "metadata": {},
   "outputs": [],
   "source": []
  }
 ],
 "metadata": {
  "kernelspec": {
   "display_name": "Python 3",
   "language": "python",
   "name": "python3"
  },
  "language_info": {
   "codemirror_mode": {
    "name": "ipython",
    "version": 3
   },
   "file_extension": ".py",
   "mimetype": "text/x-python",
   "name": "python",
   "nbconvert_exporter": "python",
   "pygments_lexer": "ipython3",
   "version": "3.7.6"
  }
 },
 "nbformat": 4,
 "nbformat_minor": 4
}
