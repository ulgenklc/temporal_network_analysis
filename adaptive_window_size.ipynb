{
 "cells": [
  {
   "cell_type": "code",
   "execution_count": 1,
   "metadata": {},
   "outputs": [],
   "source": [
    "import numpy as np\n",
    "import matplotlib.pyplot as plt\n",
    "import matplotlib as mpl\n",
    "import random\n",
    "from scipy.ndimage import gaussian_filter1d\n",
    "from math import floor\n",
    "import leidenalg as la\n",
    "import igraph as ig\n",
    "import csv\n",
    "import pickle\n",
    "from glob import glob\n",
    "from read_roi import read_roi_file, read_roi_zip\n",
    "from elephant.spike_train_generation import homogeneous_poisson_process\n",
    "import elephant.conversion as conv\n",
    "import neo as n\n",
    "import quantities as pq\n",
    "from quantities import Hz, s, ms"
   ]
  },
  {
   "cell_type": "code",
   "execution_count": 2,
   "metadata": {},
   "outputs": [],
   "source": [
    "def load_obj(path, name):\n",
    "    with open(path + name + '.pkl', 'rb') as f:\n",
    "        return pickle.load(f)\n",
    "    \n",
    "def read_spike_complexity(names, path_rois, path_spikes):\n",
    "    epochs = ['_baseline', '_early', '_pre']\n",
    "    all_spikes = {}\n",
    "    for e in names:\n",
    "        for f in epochs:\n",
    "            n = read_roi(path_rois, e + f )\n",
    "            spike = open(path_spikes + e + f + \"_spikes_complexity.csv\", \"r\")\n",
    "            reader_spike = csv.reader(spike)\n",
    "            spikes = np.zeros((n,8000))\n",
    "            for i,line in enumerate(reader_spike):\n",
    "                for j in range(len(line)):\n",
    "                    spikes[i][j] = line[j]\n",
    "            all_spikes[e+f] = spikes\n",
    "            \n",
    "    return(all_spikes)\n",
    "\n",
    "def read_roi(path, subject_roi):\n",
    "    \n",
    "    roi = read_roi_zip(glob(path + subject_roi +'.zip')[0])\n",
    "    n = len(roi)\n",
    "    \n",
    "    for i, R in enumerate(roi):\n",
    "        x = roi[R]['x']\n",
    "        y = roi[R]['y']\n",
    "    return(n)\n",
    "\n",
    "def normalized_cross_corr(x,y):\n",
    "    x_mean = np.mean(x)\n",
    "    y_mean = np.mean(y)\n",
    "    \n",
    "    x_cov_std = np.nanmax(np.sqrt(np.correlate(x - x_mean, x - x_mean, 'full')))\n",
    "    y_cov_std = np.nanmax(np.sqrt(np.correlate(y - y_mean, y - y_mean, 'full')))\n",
    "\n",
    "    normalization = x_cov_std * y_cov_std\n",
    "        \n",
    "\n",
    "    unnormalized_correlation = np.correlate(x - x_mean, y - y_mean, 'full')\n",
    "    \n",
    "    corr_array = unnormalized_correlation/normalization\n",
    "\n",
    "    return(corr_array)\n",
    "\n",
    "def max_norm_cross_corr(x1, x2):\n",
    "    \n",
    "    correlation= normalized_cross_corr(x1, x2)\n",
    "    \n",
    "    lag = abs(correlation).argmax() - len(x1)+1\n",
    "    \n",
    "    max_corr = max(abs(correlation))\n",
    "    \n",
    "    return(max_corr, lag)\n",
    "\n",
    "def cross_correlation_matrix(data):\n",
    "    #input: n x t matrix where n is the number of rois and t is the duration of the time series\n",
    "    #return: n x n symmetric cross correlation matrix, nxn uppertriangular cross correlation matrix and lag matrix\n",
    "    n, t = data.shape\n",
    "    X = np.zeros((n,n))\n",
    "    lag = np.zeros((n,n))\n",
    "    \n",
    "    for i in range(n-1):\n",
    "        for j in range(i+1,n):\n",
    "            X[i][j],lag[i][j] = max_norm_cross_corr(data[i,:],data[j,:])\n",
    "    X[np.isnan(X)] = 0\n",
    "    lag[np.isnan(lag)] = 0\n",
    "    \n",
    "    X_full = X + X.T\n",
    "    lag = lag + lag.T\n",
    "    return(X_full, X, lag)\n",
    "\n",
    "def bin_time_series(array, binsize, gaussian = True, **kwargs):\n",
    "    #input: nxt matrix \n",
    "    #returns: binned time series i.e. l x n x binsize\n",
    "    \n",
    "    n = array.shape[0] # number of neurons\n",
    "    totalsize = array.shape[1] # total duration of spikes\n",
    "    l = int(totalsize/binsize) # number of resulting layers\n",
    "    if gaussian:\n",
    "        for i in range(n):\n",
    "            array[i] = gaussian_filter(array[i],kwargs['sigma'])\n",
    "    \n",
    "    A = np.zeros((l,n,binsize))\n",
    "    for i in range(l):\n",
    "        A[i] = array[:,i*binsize:(i+1)*binsize]\n",
    "    return(A)\n",
    "\n",
    "def gaussian_filter(array,sigma):\n",
    "    #sigma=0.25==gaussian kernel with length 3\n",
    "    #sigma=0.5==gaussian kernel with length 5\n",
    "    #sigma=1==gaussian kernel with length 9\n",
    "    return(gaussian_filter1d(array,sigma))\n",
    "\n",
    "def jitter(spike):\n",
    "    #jittering the given spike train\n",
    "    jittered = np.zeros(spike.shape)\n",
    "    for i in np.nonzero(spike)[1]:\n",
    "        jitt = random.randint(-5,5)\n",
    "        try:jittered[0,i+jitt] = 1\n",
    "        except:jittered[0,i] = 1\n",
    "    return(jittered)\n",
    "\n",
    "def raster_plot(spikes, ax, s = 500, epochs = True): #plots the raster plot of the spike activity on a given axis \n",
    "\n",
    "        #be careful that neurons in different epochs are ordered differently\n",
    "        n,t = spikes.shape\n",
    "        \n",
    "        #cmap = plt.cm.Spectral\n",
    "        #norm = plt.Normalize(vmin = 0, vmax = float(np.max(spikes)))\n",
    "        \n",
    "        for i in range(n):\n",
    "            for j in range(t):\n",
    "                if spikes[i][j] == 0: pass\n",
    "                else:\n",
    "                    ax.scatter(j, i, s = 5, c = 'b', marker = 'x')#, norm = norm, cmap = cmap)\n",
    "                    ax.set_title('Spike Raster Plot', fontsize = 20)\n",
    "                    ax.set_xlabel('Time (Frames)', fontsize = 15)\n",
    "                    ax.set_ylabel('Neuron ID', fontsize = 15)\n",
    "                    ax.set_xticks([s*i for i in range(int(t/s)+1)])\n",
    "                    ax.set_yticks([5*i for i in range(int(n/5)+1)]+[n])\n",
    "                    ax.tick_params(axis = 'x', labelsize = 10)\n",
    "                    ax.tick_params(axis = 'y', labelsize = 13)\n",
    "        if epochs:pass\n",
    "        else:ax.vlines([0,8000,16000],0,n+1, color = 'r')\n",
    "                        \n",
    "def concatenate(spikes, names): # concatanes the spike complexities of three epochs (baseline, early, pre) \n",
    "    #into single matrix. Some subjects have different number of ROIS in different epochs, so we just add zero rows\n",
    "    ## to cover up that difference. \n",
    "    epochs = ['_baseline', '_early', '_pre']\n",
    "    all_concatenated = {}\n",
    "    for e in names:\n",
    "        size = 0\n",
    "        for i,f in enumerate(epochs):\n",
    "            if spikes[e+f].shape[0] > size:\n",
    "                size = spikes[e+f].shape[0]\n",
    "        concatenated = np.zeros((size, 3*spikes[e+f].shape[1]))\n",
    "        for i,f in enumerate(epochs):\n",
    "            concatenated[0:spikes[e+f].shape[0],i*spikes[e+f].shape[1]:(i+1)*spikes[e+f].shape[1]] = spikes[e+f]\n",
    "        all_concatenated[e] = concatenated\n",
    "    return(all_concatenated)\n",
    "    \n",
    "\n",
    "def find_bin_size(array, spike_per_layer):\n",
    "    \n",
    "    array = bin_time_series(array, 500, array.shape[1])\n",
    "    n, t, l = array.shape\n",
    "    fouls = []\n",
    "    \n",
    "    for i in range(n):\n",
    "        for j in range(l):\n",
    "            if len(np.nonzero(array[i,:,j])[0]) < spike_per_layer:\n",
    "                fouls.append('neuron %d in layer %d doesnt have enough spikes'%(i,j))\n",
    "                \n",
    "    return(fouls)"
   ]
  },
  {
   "cell_type": "code",
   "execution_count": 26,
   "metadata": {},
   "outputs": [],
   "source": [
    "spikerates = [3, 15, 40] # provide it in an increasing order\n",
    "time = 2000.0# in miliseconds\n",
    "n_master_neurons = 3\n",
    "binsize = 200\n",
    "n_common_spikes = 5"
   ]
  },
  {
   "cell_type": "code",
   "execution_count": 35,
   "metadata": {},
   "outputs": [
    {
     "data": {
      "text/plain": [
       "[array([  37.28290313,  320.69702223, 1341.99162726, 1346.78791475,\n",
       "        1542.95429219, 1681.25976429, 1962.46902397]),\n",
       " array([  75.12799549,  109.3609539 ,  115.66229094,  254.62459353,\n",
       "         339.14777332,  486.82006283,  488.90283572,  497.90864524,\n",
       "         594.65693837,  670.84169416,  685.78575788,  705.46466175,\n",
       "         781.69027085,  925.45537374, 1001.72803082, 1049.97522375,\n",
       "        1141.55964673, 1223.81049939, 1225.36986271, 1236.04719582,\n",
       "        1245.97583422, 1256.70581379, 1284.51721677, 1328.90508072,\n",
       "        1339.17360269, 1361.49545087, 1403.29989601, 1420.72318187,\n",
       "        1698.77928286, 1732.9779212 , 1755.40092219, 1822.82693685,\n",
       "        1826.27060183, 1866.99940109, 1983.14691671])]"
      ]
     },
     "execution_count": 35,
     "metadata": {},
     "output_type": "execute_result"
    }
   ],
   "source": [
    "master_spikes = []\n",
    "for i in range(n_master_neurons):   \n",
    "    master_spikes.append(homogeneous_poisson_process(rate = spikerates[i]*Hz, t_start = 0.0*ms, t_stop = time*ms, as_array=True))\n",
    "master_spikes[:-1]"
   ]
  },
  {
   "cell_type": "code",
   "execution_count": 36,
   "metadata": {},
   "outputs": [
    {
     "data": {
      "text/plain": [
       "[1824.2297870633492,\n",
       " 211.74258705683206,\n",
       " 1479.8833720650673,\n",
       " 172.162434576832,\n",
       " 1011.5887831222226]"
      ]
     },
     "execution_count": 36,
     "metadata": {},
     "output_type": "execute_result"
    }
   ],
   "source": [
    "common_spikes = [random.choice(master_spikes[-1]) for i in range(n_common_spikes)]\n",
    "common_spikes"
   ]
  },
  {
   "cell_type": "code",
   "execution_count": 42,
   "metadata": {},
   "outputs": [
    {
     "data": {
      "text/plain": [
       "[array([  37.28290313,  320.69702223, 1341.99162726, 1346.78791475,\n",
       "        1542.95429219, 1681.25976429, 1962.46902397, 1824.22978706,\n",
       "         211.74258706, 1479.88337207,  172.16243458, 1011.58878312]),\n",
       " array([  75.12799549,  109.3609539 ,  115.66229094,  254.62459353,\n",
       "         339.14777332,  486.82006283,  488.90283572,  497.90864524,\n",
       "         594.65693837,  670.84169416,  685.78575788,  705.46466175,\n",
       "         781.69027085,  925.45537374, 1001.72803082, 1049.97522375,\n",
       "        1141.55964673, 1223.81049939, 1225.36986271, 1236.04719582,\n",
       "        1245.97583422, 1256.70581379, 1284.51721677, 1328.90508072,\n",
       "        1339.17360269, 1361.49545087, 1403.29989601, 1420.72318187,\n",
       "        1698.77928286, 1732.9779212 , 1755.40092219, 1822.82693685,\n",
       "        1826.27060183, 1866.99940109, 1983.14691671, 1824.22978706,\n",
       "         211.74258706, 1479.88337207,  172.16243458, 1011.58878312]),\n",
       " array([   2.14214064,   56.66464725,   81.03465406,  169.11850521,\n",
       "         172.16243458,  181.21180075,  198.27813121,  198.61228994,\n",
       "         211.74258706,  223.52780449,  225.70271662,  232.42717925,\n",
       "         291.70820805,  306.05180835,  312.0998911 ,  417.59944148,\n",
       "         433.8751718 ,  543.8388468 ,  561.88527712,  592.32547391,\n",
       "         604.44655683,  625.40305751,  658.61171523,  696.76537759,\n",
       "         711.9181361 ,  717.1492765 ,  731.11890359,  756.28050869,\n",
       "         781.41660381,  789.09921749,  854.04869479,  873.84678808,\n",
       "         902.11530207,  921.05255765,  933.96500421,  946.74282678,\n",
       "        1011.58878312, 1020.32998656, 1046.85851871, 1117.23232023,\n",
       "        1125.92761116, 1168.37944601, 1259.65925951, 1297.00710148,\n",
       "        1324.13668662, 1331.36679124, 1337.7170044 , 1372.51791171,\n",
       "        1387.41414017, 1392.02579186, 1451.17647226, 1462.41425837,\n",
       "        1468.52506229, 1479.88337207, 1499.34457125, 1539.05734538,\n",
       "        1553.4107919 , 1586.77248267, 1616.19145892, 1694.27854432,\n",
       "        1722.8210323 , 1729.08089023, 1784.27421744, 1794.69179597,\n",
       "        1797.64762747, 1824.22978706, 1858.59014428, 1882.74566697,\n",
       "        1891.6294406 , 1921.12471368])]"
      ]
     },
     "execution_count": 42,
     "metadata": {},
     "output_type": "execute_result"
    }
   ],
   "source": [
    "common_master_spikes = []\n",
    "for i,e in enumerate(master_spikes[:-1]):\n",
    "    common_master_spikes.append(np.append(master_spikes[i],common_spikes))\n",
    "common_master_spikes.append(master_spikes[-1])\n",
    "common_master_spikes"
   ]
  },
  {
   "cell_type": "code",
   "execution_count": 50,
   "metadata": {},
   "outputs": [
    {
     "data": {
      "text/plain": [
       "[array([[0., 0., 0., ..., 0., 0., 0.]]),\n",
       " array([[0., 0., 0., ..., 0., 0., 0.]]),\n",
       " array([[0., 0., 1., ..., 0., 0., 0.]])]"
      ]
     },
     "execution_count": 50,
     "metadata": {},
     "output_type": "execute_result"
    }
   ],
   "source": [
    "master_spike_trains = []\n",
    "for i,e in enumerate(common_master_spikes):\n",
    "    spike_trains = np.zeros((1,int(time)))\n",
    "    for j,f in enumerate(e):\n",
    "        spike_trains[0][int(f)] = 1\n",
    "    master_spike_trains.append(spike_trains)\n",
    "master_spike_trains"
   ]
  },
  {
   "cell_type": "code",
   "execution_count": 63,
   "metadata": {},
   "outputs": [],
   "source": [
    "commsizes = [3,23,4]\n",
    "commindices = [0,3,26,30]\n",
    "spike = []\n",
    "for i,e in enumerate(commsizes):\n",
    "    for j in range(e):\n",
    "        spike.append(jitter(master_spike_trains[i]))\n",
    "spikes = np.zeros((commindices[-1],int(time)))\n",
    "for i in range(spikes.shape[0]):\n",
    "    spikes[i] = spike[i][0].tolist()"
   ]
  },
  {
   "cell_type": "markdown",
   "metadata": {},
   "source": [
    "## There are three communities of size 3, 23 and 4 which all have different firing rate 3, 15, 40 respectively. We selected 5 different time points(see common_spikes) that all the neurons fire together. Our goal is finding the the time windows that has maximized correlation."
   ]
  },
  {
   "cell_type": "code",
   "execution_count": 64,
   "metadata": {},
   "outputs": [
    {
     "data": {
      "text/plain": [
       "Text(0.5, 0, 'TIME (in Miliseconds)')"
      ]
     },
     "execution_count": 64,
     "metadata": {},
     "output_type": "execute_result"
    },
    {
     "data": {
      "image/png": "[encoded data removed]",
      "text/plain": [
       "<Figure size 1440x720 with 1 Axes>"
      ]
     },
     "metadata": {
      "needs_background": "light"
     },
     "output_type": "display_data"
    }
   ],
   "source": [
    "fig,ax = plt.subplots(1,1,figsize=(20,10))\n",
    "ax.imshow(spikes, origin = 'bottom left', interpolation='nearest', aspect='auto')\n",
    "ax.set_title('Spike Trains generated via Poisson Process for 30 synthetic neurons', fontsize= 20)\n",
    "ax.set_xticks([i*binsize for i in range(int(time/binsize))]+[time])\n",
    "ax.set_xlabel('TIME (in Miliseconds)', fontsize = 20)"
   ]
  },
  {
   "cell_type": "code",
   "execution_count": 70,
   "metadata": {},
   "outputs": [],
   "source": [
    "standard_deviation = 1.25\n",
    "gauss_spikes = np.zeros(spikes.shape)\n",
    "for i in range(spikes.shape[0]):\n",
    "    gauss_spikes[i] = gaussian_filter(spikes[i],standard_deviation)"
   ]
  },
  {
   "cell_type": "code",
   "execution_count": 71,
   "metadata": {},
   "outputs": [
    {
     "data": {
      "text/plain": [
       "Text(0.5, 0, 'TIME (in Miliseconds)')"
      ]
     },
     "execution_count": 71,
     "metadata": {},
     "output_type": "execute_result"
    },
    {
     "data": {
      "image/png": "[encoded data removed]",
      "text/plain": [
       "<Figure size 1440x720 with 1 Axes>"
      ]
     },
     "metadata": {
      "needs_background": "light"
     },
     "output_type": "display_data"
    }
   ],
   "source": [
    "fig,ax = plt.subplots(1,1,figsize=(20,10))\n",
    "ax.imshow(gauss_spikes, origin = 'bottom left', interpolation='nearest', aspect='auto')\n",
    "ax.set_title('Spike Trains generated via Poisson Process for 30 synthetic neurons', fontsize= 20)\n",
    "ax.set_xticks([i*binsize for i in range(int(time/binsize))]+[time])\n",
    "ax.set_xlabel('TIME (in Miliseconds)', fontsize = 20)"
   ]
  },
  {
   "cell_type": "code",
   "execution_count": 76,
   "metadata": {},
   "outputs": [],
   "source": [
    "window_sizes = [10, 20, 50, "
   ]
  },
  {
   "cell_type": "code",
   "execution_count": 81,
   "metadata": {},
   "outputs": [
    {
     "name": "stderr",
     "output_type": "stream",
     "text": [
      "/opt/anaconda3/lib/python3.7/site-packages/ipykernel_launcher.py:43: RuntimeWarning: invalid value encountered in true_divide\n",
      "/opt/anaconda3/lib/python3.7/site-packages/ipykernel_launcher.py:36: RuntimeWarning: invalid value encountered in sqrt\n",
      "/opt/anaconda3/lib/python3.7/site-packages/ipykernel_launcher.py:35: RuntimeWarning: invalid value encountered in sqrt\n"
     ]
    }
   ],
   "source": [
    "adjacency_matrices = {}\n",
    "adjacency_matrices['%d'%window_size]= [cross_correlation_matrix(gauss_spikes[:,i:window_size+i])[0] for i in range(int(time)-window_size):\n",
    "                                       "
   ]
  },
  {
   "cell_type": "code",
   "execution_count": null,
   "metadata": {},
   "outputs": [],
   "source": [
    "fig,ax = plt.subplots(1,1,figsize=(20,10))\n",
    "ax.imshow(M, origin = 'bottom left', interpolation='nearest', aspect='auto')"
   ]
  },
  {
   "cell_type": "code",
   "execution_count": null,
   "metadata": {},
   "outputs": [],
   "source": []
  },
  {
   "cell_type": "code",
   "execution_count": null,
   "metadata": {},
   "outputs": [],
   "source": []
  },
  {
   "cell_type": "code",
   "execution_count": null,
   "metadata": {},
   "outputs": [],
   "source": []
  },
  {
   "cell_type": "code",
   "execution_count": null,
   "metadata": {},
   "outputs": [],
   "source": []
  },
  {
   "cell_type": "code",
   "execution_count": null,
   "metadata": {},
   "outputs": [],
   "source": []
  },
  {
   "cell_type": "code",
   "execution_count": null,
   "metadata": {},
   "outputs": [],
   "source": []
  },
  {
   "cell_type": "code",
   "execution_count": null,
   "metadata": {},
   "outputs": [],
   "source": []
  },
  {
   "cell_type": "code",
   "execution_count": null,
   "metadata": {},
   "outputs": [],
   "source": []
  },
  {
   "cell_type": "code",
   "execution_count": null,
   "metadata": {},
   "outputs": [],
   "source": []
  },
  {
   "cell_type": "code",
   "execution_count": null,
   "metadata": {},
   "outputs": [],
   "source": []
  },
  {
   "cell_type": "code",
   "execution_count": null,
   "metadata": {},
   "outputs": [],
   "source": []
  },
  {
   "cell_type": "code",
   "execution_count": null,
   "metadata": {},
   "outputs": [],
   "source": []
  },
  {
   "cell_type": "code",
   "execution_count": null,
   "metadata": {},
   "outputs": [],
   "source": []
  },
  {
   "cell_type": "code",
   "execution_count": null,
   "metadata": {},
   "outputs": [],
   "source": []
  }
 ],
 "metadata": {
  "kernelspec": {
   "display_name": "Python 3",
   "language": "python",
   "name": "python3"
  },
  "language_info": {
   "codemirror_mode": {
    "name": "ipython",
    "version": 3
   },
   "file_extension": ".py",
   "mimetype": "text/x-python",
   "name": "python",
   "nbconvert_exporter": "python",
   "pygments_lexer": "ipython3",
   "version": "3.7.6"
  }
 },
 "nbformat": 4,
 "nbformat_minor": 4
}
