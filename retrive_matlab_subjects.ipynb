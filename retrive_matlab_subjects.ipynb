{
 "cells": [
  {
   "cell_type": "code",
   "execution_count": 104,
   "metadata": {},
   "outputs": [],
   "source": [
    "import numpy as np\n",
    "import pickle"
   ]
  },
  {
   "cell_type": "code",
   "execution_count": 121,
   "metadata": {},
   "outputs": [],
   "source": [
    "def save_obj(obj, name):\n",
    "    with open('data/subjects/'+ name + '.pkl', 'wb') as f:\n",
    "        pickle.dump(obj, f, pickle.HIGHEST_PROTOCOL)\n",
    "\n",
    "def load_obj(name ):\n",
    "    with open('data/subjects/' + name + '.pkl', 'rb') as f:\n",
    "        return pickle.load(f)"
   ]
  },
  {
   "cell_type": "code",
   "execution_count": 49,
   "metadata": {},
   "outputs": [],
   "source": [
    "epilepsy_subjects = {}\n",
    "epilepsy_subjects['het']=[]\n",
    "epilepsy_subjects['wt']=[]"
   ]
  },
  {
   "cell_type": "code",
   "execution_count": 68,
   "metadata": {},
   "outputs": [],
   "source": [
    "epilepsy_subjects['het'].append('m_1102_session_1')"
   ]
  },
  {
   "cell_type": "code",
   "execution_count": 74,
   "metadata": {},
   "outputs": [],
   "source": [
    "epilepsy_subjects['wt'].append('m_1311_session_1')"
   ]
  },
  {
   "cell_type": "code",
   "execution_count": 76,
   "metadata": {},
   "outputs": [],
   "source": [
    "epilepsy_subjects['pv_het']=[]\n",
    "epilepsy_subjects['pv_wt']=[]"
   ]
  },
  {
   "cell_type": "code",
   "execution_count": 85,
   "metadata": {},
   "outputs": [],
   "source": [
    "epilepsy_subjects['pv_het'].append('m_1102_session_1')"
   ]
  },
  {
   "cell_type": "code",
   "execution_count": 90,
   "metadata": {},
   "outputs": [],
   "source": [
    "epilepsy_subjects['pv_wt'].append('m_1429_session_3')"
   ]
  },
  {
   "cell_type": "code",
   "execution_count": 92,
   "metadata": {},
   "outputs": [],
   "source": [
    "epilepsy_subjects['vip_het']=[]\n",
    "epilepsy_subjects['vip_wt']=[]"
   ]
  },
  {
   "cell_type": "code",
   "execution_count": 94,
   "metadata": {},
   "outputs": [],
   "source": [
    "epilepsy_subjects['vip_het'].append('m_1009_session_1')"
   ]
  },
  {
   "cell_type": "code",
   "execution_count": 97,
   "metadata": {},
   "outputs": [],
   "source": [
    "epilepsy_subjects['vip_wt'].append('m_1311_session_1')"
   ]
  },
  {
   "cell_type": "code",
   "execution_count": 99,
   "metadata": {},
   "outputs": [],
   "source": [
    "epilepsy_subjects['sst_het']=[]"
   ]
  },
  {
   "cell_type": "code",
   "execution_count": 101,
   "metadata": {},
   "outputs": [],
   "source": [
    "epilepsy_subjects['sst_het'].append('m_1284_session_1')"
   ]
  },
  {
   "cell_type": "code",
   "execution_count": 116,
   "metadata": {},
   "outputs": [],
   "source": [
    "#save_obj(epilepsy_subjects,'subjects')"
   ]
  },
  {
   "cell_type": "code",
   "execution_count": 124,
   "metadata": {},
   "outputs": [
    {
     "data": {
      "text/plain": [
       "{'het': ['m_1_session_1',\n",
       "  'm_7_session_1',\n",
       "  'm_18_session_1',\n",
       "  'm_19_session_1',\n",
       "  'm_19_session_2',\n",
       "  'm_963_session_1',\n",
       "  'm_963_session_3',\n",
       "  'm_1005_session_1',\n",
       "  'm_1005_session_2',\n",
       "  'm_992_session_1',\n",
       "  'm_1284_session_1',\n",
       "  'm_1009_session_1',\n",
       "  'm_1183_session_1',\n",
       "  'm_1102_session_1'],\n",
       " 'wt': ['m_909_session_1',\n",
       "  'm_1429_session_1',\n",
       "  'm_1429_session_2',\n",
       "  'm_1429_session_3',\n",
       "  'm_1309_session_1',\n",
       "  'm_1311_session_1'],\n",
       " 'pv_het': ['m_18_session_1',\n",
       "  'm_1_session_1',\n",
       "  'm_19_session_1',\n",
       "  'm_19_session_2',\n",
       "  'm_963_session_1',\n",
       "  'm_963_session_3',\n",
       "  'm_1005_session_1',\n",
       "  'm_1005_session_2',\n",
       "  'm_1102_session_1'],\n",
       " 'pv_wt': ['m_909_session_1',\n",
       "  'm_1429_session_1',\n",
       "  'm_1429_session_2',\n",
       "  'm_1429_session_3'],\n",
       " 'vip_het': ['m_1183_session_1', 'm_1009_session_1'],\n",
       " 'vip_wt': ['m_1309_session_1', 'm_1311_session_1'],\n",
       " 'sst_het': ['m_992_session_1', 'm_1284_session_1']}"
      ]
     },
     "execution_count": 124,
     "metadata": {},
     "output_type": "execute_result"
    }
   ],
   "source": [
    "a=load_obj('subjects')\n",
    "a"
   ]
  },
  {
   "cell_type": "code",
   "execution_count": 125,
   "metadata": {},
   "outputs": [],
   "source": [
    "inhibitory_neurons={}\n",
    "inhibitory_neurons['pv_het']=[]\n",
    "inhibitory_neurons['pv_wt']=[]\n",
    "inhibitory_neurons['sst_het']=[]\n",
    "inhibitory_neurons['nontrack_pv_het']=[]\n",
    "inhibitory_neurons['nontrack_pv_wt']=[]"
   ]
  },
  {
   "cell_type": "code",
   "execution_count": 180,
   "metadata": {},
   "outputs": [],
   "source": [
    "mice_pv_wt={}\n",
    "mice_pv_wt['m_909_session_1']=[[],[],[]]\n",
    "mice_pv_wt['m_1429_session_1']=[[],[],[]]\n",
    "mice_pv_wt['m_1429_session_2']=[[],[],[]]\n",
    "mice_pv_wt['m_1429_session_3']=[[],[],[]]"
   ]
  },
  {
   "cell_type": "code",
   "execution_count": 219,
   "metadata": {},
   "outputs": [],
   "source": [
    "#save_obj(mice_pv_wt,'pv_wt')"
   ]
  },
  {
   "cell_type": "code",
   "execution_count": 220,
   "metadata": {},
   "outputs": [
    {
     "data": {
      "text/plain": [
       "{'m_909_session_1': [[2, 3, 4, 5, 9, 21, 23, 61],\n",
       "  [2, 3, 4, 5, 9, 21, 23, 61],\n",
       "  [13, 24, 27, 30, 39, 47, 52, 57]],\n",
       " 'm_1429_session_1': [[7, 11, 44, 64, 66, 75, 78, 81],\n",
       "  [8, 67, 68, 101],\n",
       "  [8, 67, 68, 101]],\n",
       " 'm_1429_session_2': [[2, 39, 50, 61, 65, 66, 88],\n",
       "  [16, 32, 38, 44, 50, 73],\n",
       "  [16, 32, 38, 44, 50, 73]],\n",
       " 'm_1429_session_3': [[1, 4, 15, 34, 42, 43, 56, 60, 62],\n",
       "  [1, 4, 15, 34, 42, 43, 56, 60, 62],\n",
       "  [1, 4, 15, 34, 42, 43, 56, 60, 62]]}"
      ]
     },
     "execution_count": 220,
     "metadata": {},
     "output_type": "execute_result"
    }
   ],
   "source": [
    "b=load_obj('pv_wt')\n",
    "b"
   ]
  },
  {
   "cell_type": "code",
   "execution_count": 222,
   "metadata": {},
   "outputs": [],
   "source": [
    "mice_pv_het={}\n",
    "mice_pv_het['m_18_session_1']=[[],[],[]]\n",
    "mice_pv_het['m_1_session_1']=[[],[],[]]\n",
    "mice_pv_het['m_19_session_1']=[[],[],[]]\n",
    "mice_pv_het['m_19_session_2']=[[],[],[]]\n",
    "mice_pv_het['m_963_session_1']=[[],[],[]]\n",
    "mice_pv_het['m_963_session_3']=[[],[],[]]\n",
    "mice_pv_het['m_1005_session_1']=[[],[],[]]\n",
    "mice_pv_het['m_1005_session_2']=[[],[],[]]\n",
    "mice_pv_het['m_1102_session_1']=[[],[],[]]\n",
    "mice_pv_het['m_1183_session_1']=[[],[],[]]"
   ]
  },
  {
   "cell_type": "code",
   "execution_count": 375,
   "metadata": {},
   "outputs": [],
   "source": [
    "#save_obj(mice_pv_het,'pv_het')"
   ]
  },
  {
   "cell_type": "code",
   "execution_count": 376,
   "metadata": {},
   "outputs": [
    {
     "data": {
      "text/plain": [
       "{'m_18_session_1': [[37,\n",
       "   13,\n",
       "   14,\n",
       "   15,\n",
       "   26,\n",
       "   42,\n",
       "   1,\n",
       "   34,\n",
       "   35,\n",
       "   19,\n",
       "   43,\n",
       "   18,\n",
       "   3,\n",
       "   4,\n",
       "   31,\n",
       "   30,\n",
       "   12,\n",
       "   6,\n",
       "   86,\n",
       "   33,\n",
       "   5,\n",
       "   36,\n",
       "   22],\n",
       "  [37,\n",
       "   13,\n",
       "   14,\n",
       "   15,\n",
       "   26,\n",
       "   42,\n",
       "   1,\n",
       "   34,\n",
       "   35,\n",
       "   19,\n",
       "   43,\n",
       "   18,\n",
       "   3,\n",
       "   4,\n",
       "   31,\n",
       "   30,\n",
       "   12,\n",
       "   6,\n",
       "   86,\n",
       "   33,\n",
       "   5,\n",
       "   36,\n",
       "   22],\n",
       "  [37,\n",
       "   13,\n",
       "   14,\n",
       "   15,\n",
       "   26,\n",
       "   42,\n",
       "   1,\n",
       "   34,\n",
       "   35,\n",
       "   19,\n",
       "   43,\n",
       "   18,\n",
       "   3,\n",
       "   4,\n",
       "   31,\n",
       "   30,\n",
       "   12,\n",
       "   6,\n",
       "   86,\n",
       "   33,\n",
       "   5,\n",
       "   36,\n",
       "   22]],\n",
       " 'm_1_session_1': [[11, 10, 29, 37, 24, 7, 22, 1], [15, 11, 46], [15, 11, 46]],\n",
       " 'm_19_session_1': [[113, 81, 112, 4, 24, 106, 58, 80, 10],\n",
       "  [113, 81, 112, 4, 24, 106, 58, 80, 10],\n",
       "  [113, 81, 112, 4, 24, 106, 58, 80, 10]],\n",
       " 'm_19_session_2': [[27, 15], [27, 15], [27, 15]],\n",
       " 'm_963_session_1': [[175, 166, 26, 141, 115],\n",
       "  [97, 17, 66, 143, 140],\n",
       "  [175, 166, 26, 141, 115]],\n",
       " 'm_963_session_3': [[122, 84, 92, 21, 70],\n",
       "  [122, 84, 92, 21, 70],\n",
       "  [122, 84, 92, 21, 70]],\n",
       " 'm_1005_session_1': [[90, 59, 102, 63, 32],\n",
       "  [111, 78, 63, 29, 45, 86, 54, 123, 2],\n",
       "  [9, 56, 10, 7, 26, 4, 2, 8, 32, 44]],\n",
       " 'm_1005_session_2': [[9, 56, 10, 7, 26, 4, 2, 8, 32, 44],\n",
       "  [9, 56, 10, 7, 26, 4, 2, 8, 32, 44],\n",
       "  [9, 56, 10, 7, 26, 4, 2, 8, 32, 44]],\n",
       " 'm_1102_session_1': [[28,\n",
       "   17,\n",
       "   127,\n",
       "   126,\n",
       "   48,\n",
       "   53,\n",
       "   109,\n",
       "   110,\n",
       "   76,\n",
       "   70,\n",
       "   129,\n",
       "   69,\n",
       "   67,\n",
       "   84,\n",
       "   103,\n",
       "   102,\n",
       "   8],\n",
       "  [28, 17, 127, 126, 48, 53, 109, 110, 76, 70, 129, 69, 67, 84, 103, 102, 8],\n",
       "  [28, 17, 127, 126, 48, 53, 109, 110, 76, 70, 129, 69, 67, 84, 103, 102, 8]],\n",
       " 'm_1183_session_1': [[56, 64], [], []]}"
      ]
     },
     "execution_count": 376,
     "metadata": {},
     "output_type": "execute_result"
    }
   ],
   "source": [
    "c=load_obj('pv_het')\n",
    "c"
   ]
  },
  {
   "cell_type": "code",
   "execution_count": 377,
   "metadata": {},
   "outputs": [],
   "source": [
    "mice_sst_het={}\n",
    "mice_sst_het['m_992_session_1']=[[],[],[]]\n",
    "mice_sst_het['m_1183_session_1']=[[],[],[]]"
   ]
  },
  {
   "cell_type": "code",
   "execution_count": 395,
   "metadata": {},
   "outputs": [],
   "source": [
    "#save_obj(mice_sst_het,'sst_het')"
   ]
  },
  {
   "cell_type": "code",
   "execution_count": 397,
   "metadata": {},
   "outputs": [
    {
     "data": {
      "text/plain": [
       "{'m_992_session_1': [[2, 33, 74, 101, 112, 119, 154, 140, 137, 122, 15],\n",
       "  [2, 33, 74, 101, 112, 119, 154, 140, 137, 122, 15],\n",
       "  [2, 33, 74, 101, 112, 119, 154, 140, 137, 122, 15]],\n",
       " 'm_1183_session_1': [[], [56, 64], []]}"
      ]
     },
     "execution_count": 397,
     "metadata": {},
     "output_type": "execute_result"
    }
   ],
   "source": [
    "d=load_obj('sst_het')\n",
    "d"
   ]
  },
  {
   "cell_type": "code",
   "execution_count": 398,
   "metadata": {},
   "outputs": [],
   "source": [
    "mice_nontrack_pv_het={}\n",
    "mice_nontrack_pv_het['m_1_session_1']=[[],[],[]]\n",
    "mice_nontrack_pv_het['m_963_session_1']=[[],[],[]]\n",
    "mice_nontrack_pv_het['m_1005_session_1']=[[],[],[]]\n",
    "mice_nontrack_pv_het['m_1284_session_1']=[[],[],[]]\n",
    "mice_nontrack_pv_het['m_1183_session_1']=[[],[],[]]"
   ]
  },
  {
   "cell_type": "code",
   "execution_count": 463,
   "metadata": {},
   "outputs": [],
   "source": [
    "#save_obj(mice_nontrack_pv_het,'nontrack_pv_het')"
   ]
  },
  {
   "cell_type": "code",
   "execution_count": 465,
   "metadata": {},
   "outputs": [
    {
     "data": {
      "text/plain": [
       "{'m_1_session_1': [[11, 10, 29, 37, 24, 7, 22, 1], [15, 11, 46], [15, 11, 46]],\n",
       " 'm_963_session_1': [[17, 66, 143, 140],\n",
       "  [175, 166, 26, 141, 115],\n",
       "  [175, 166, 26, 141, 115]],\n",
       " 'm_1005_session_1': [[111, 78, 63, 29, 45, 86, 54, 123, 2],\n",
       "  [104, 58, 83, 112, 1, 39],\n",
       "  [90, 59, 102, 63, 32]],\n",
       " 'm_1284_session_1': [[20, 21, 22, 2, 82, 59], [4, 3, 10], []],\n",
       " 'm_1183_session_1': [[4, 3, 10], [], []]}"
      ]
     },
     "execution_count": 465,
     "metadata": {},
     "output_type": "execute_result"
    }
   ],
   "source": [
    "e=load_obj('nontrack_pv_het')\n",
    "e"
   ]
  },
  {
   "cell_type": "code",
   "execution_count": 466,
   "metadata": {},
   "outputs": [],
   "source": [
    "mice_nontrack_pv_wt={}\n",
    "mice_nontrack_pv_wt['m_909_session_1']=[[],[],[]]\n",
    "mice_nontrack_pv_wt['m_1429_session_1']=[[],[],[]]\n",
    "mice_nontrack_pv_wt['m_1429_session_2']=[[],[],[]]\n",
    "mice_nontrack_pv_wt['m_1309_session_1']=[[],[],[]]"
   ]
  },
  {
   "cell_type": "code",
   "execution_count": 531,
   "metadata": {},
   "outputs": [],
   "source": [
    "#save_obj(mice_nontrack_pv_wt,'nontrack_pv_wt')"
   ]
  },
  {
   "cell_type": "code",
   "execution_count": 532,
   "metadata": {},
   "outputs": [
    {
     "data": {
      "text/plain": [
       "{'m_909_session_1': [[5, 3, 61, 2, 23, 9, 4, 21],\n",
       "  [5, 3, 61, 2, 23, 9, 4, 21],\n",
       "  [57, 47, 52, 27, 30, 24, 39, 13]],\n",
       " 'm_1429_session_1': [[7, 11, 66, 75, 78, 81, 64, 44],\n",
       "  [8, 67, 68, 101],\n",
       "  [8, 67, 68, 101]],\n",
       " 'm_1429_session_2': [[2, 88, 39, 50, 61, 66, 65],\n",
       "  [16, 73, 50, 44, 38, 32],\n",
       "  [16, 73, 50, 44, 38, 32]],\n",
       " 'm_1309_session_1': [[65, 23], [65, 23], []]}"
      ]
     },
     "execution_count": 532,
     "metadata": {},
     "output_type": "execute_result"
    }
   ],
   "source": [
    "f=load_obj('nontrack_pv_wt')\n",
    "f"
   ]
  },
  {
   "cell_type": "code",
   "execution_count": null,
   "metadata": {},
   "outputs": [],
   "source": []
  }
 ],
 "metadata": {
  "kernelspec": {
   "display_name": "Python 3",
   "language": "python",
   "name": "python3"
  },
  "language_info": {
   "codemirror_mode": {
    "name": "ipython",
    "version": 3
   },
   "file_extension": ".py",
   "mimetype": "text/x-python",
   "name": "python",
   "nbconvert_exporter": "python",
   "pygments_lexer": "ipython3",
   "version": "3.7.6"
  }
 },
 "nbformat": 4,
 "nbformat_minor": 4
}
