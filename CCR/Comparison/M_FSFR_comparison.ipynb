{
 "cells": [
  {
   "cell_type": "code",
   "execution_count": null,
   "metadata": {},
   "outputs": [],
   "source": [
    "import numpy as np\n",
    "import matplotlib.pyplot as plt\n",
    "from helpers import *\n",
    "from Temporal_Community_Detection import temporal_network\n",
    "import random\n",
    "import pickle\n",
    "import os"
   ]
  },
  {
   "cell_type": "code",
   "execution_count": null,
   "metadata": {},
   "outputs": [],
   "source": [
    "comms1 = 6\n",
    "comms2 = 3\n",
    "\n",
    "layers = 2\n",
    "\n",
    "fixed_size = int(abs(np.random.normal(30,10)))\n",
    "\n",
    "fixed_rate1 = int(abs(np.random.normal(20,8)))\n",
    "fixed_rate2 = int(abs(np.random.normal(20,8)))# spike rate per commiunity\n",
    "\n",
    "path = '/projects/academic/smuldoon/bengieru/Community_Detection/M_FSFR/'\n",
    "\n",
    "os.makedirs(path, exist_ok = True)\n",
    "\n",
    "comm_sizes = [[fixed_size for i in range(comms1)], #layer1 community sizes\n",
    "              [3*fixed_size,fixed_size,2*fixed_size]] #layer2 community sizes\n",
    "spike_rates = [[fixed_rate1 for i in range(comms1)],\n",
    "              [fixed_rate2 for i in range(comms2)]]\n",
    "\n",
    "with open(path + \"comm_size.pkl\", \"wb\") as fp:\n",
    "    pickle.dump(comm_sizes, fp)\n",
    "\n",
    "window_size = 1000 # size, in frames, each adjacency matrix correspond to. better to be equal to bin_size \n",
    "standard_dev = 1.2 # for gaussian kernel\n",
    "k = 5 #for jittering the spikes\n",
    "pad = True\n",
    "num_neurons = int(sum(comm_sizes[0]))\n",
    "\n",
    "display_truth(comm_sizes, community_operation = 'merge')\n",
    "plt.savefig(path + 'Ground_truths.pdf')"
   ]
  },
  {
   "cell_type": "code",
   "execution_count": null,
   "metadata": {},
   "outputs": [],
   "source": [
    "spikes = create_time_series('merge', comm_sizes, spike_rates, windowsize = window_size, k = k)\n",
    "plt.savefig(path + 'spiketrain.pdf')"
   ]
  },
  {
   "cell_type": "code",
   "execution_count": null,
   "metadata": {},
   "outputs": [],
   "source": [
    "with open(path + \"spikes.pkl\", \"wb\") as fp:\n",
    "    pickle.dump(spikes, fp)"
   ]
  },
  {
   "cell_type": "code",
   "execution_count": null,
   "metadata": {},
   "outputs": [],
   "source": [
    "fig,ax = plt.subplots(1, 1, figsize = (10,10))\n",
    "n, bins = spike_count(spikes, ax)\n",
    "plt.savefig(path + 'spike_distribution.pdf')"
   ]
  },
  {
   "cell_type": "code",
   "execution_count": null,
   "metadata": {},
   "outputs": [],
   "source": [
    "binned_spikes = bin_time_series(spikes, window_size, gaussian = True, sigma = standard_dev)\n",
    "fig,ax = plt.subplots(layers, 1, figsize=(20,50))\n",
    "for i in range(layers):\n",
    "    ax[i].imshow(binned_spikes[i], origin = 'lower', interpolation='nearest', aspect='auto')\n",
    "    ax[i].set_title('Gaussian Spikes (Layer %d)'%(i+1), fontsize = 20)\n",
    "    ax[i].set_xlabel('TIME (in Miliseconds)', fontsize = 20)\n",
    "    ax[i].set_xticks([j*100 for j in range(11)])\n",
    "    ax[i].set_yticks([j*10 for j in range(int(num_neurons/10)+1)])\n",
    "    ax[i].set_ylabel('Neuron ID', fontsize = 25)\n",
    "    ax[i].set_xlabel('Time (Frames)', fontsize = 20)\n",
    "    ax[i].tick_params(axis = 'both', labelsize = 20)\n",
    "plt.tight_layout()\n",
    "plt.savefig(path + 'binned_spiketrain.pdf')"
   ]
  },
  {
   "cell_type": "code",
   "execution_count": null,
   "metadata": {},
   "outputs": [],
   "source": [
    "##create cross-correlation matrices that are the adjacency matrices of the network at each layer\n",
    "adjacency_matrices = []\n",
    "for i in range(layers):\n",
    "    adjacency_matrices.append(cross_correlation_matrix(binned_spikes[i])[0])\n",
    "    \n",
    "if pad:\n",
    "    padded_adjacencies = [adjacency_matrices[0]]  + adjacency_matrices + [adjacency_matrices[-1]]\n",
    "    layers = layers + 2"
   ]
  },
  {
   "cell_type": "code",
   "execution_count": null,
   "metadata": {},
   "outputs": [],
   "source": [
    "fig,ax = plt.subplots(2, 2, figsize = (32,32))\n",
    "for i in range(2):\n",
    "    for j in range(2):\n",
    "        k = ax[i][j].imshow(padded_adjacencies[i*2+j], \n",
    "                            origin = 'lower', \n",
    "                            interpolation='nearest', \n",
    "                            aspect='auto',  \n",
    "                            extent = [0,num_neurons,0,num_neurons])\n",
    "        ax[i][j].set_title('Adjacency Matrix (Layer %d)'%(i*2+j +1), fontsize = 35)\n",
    "        ax[i][j].set_xticks([k*10 for k in range(int(num_neurons/10)+1)])\n",
    "        ax[i][j].set_yticks([k*10 for k in range(int(num_neurons/10)+1)])\n",
    "        ax[i][j].tick_params(axis = 'both', labelsize = 20)\n",
    "fig.suptitle('Community merge with sizes %d,%d,%d,%d,%d,%d and spike rates %d,%d,%d,%d,%d,%d for 1st layer and %d,%d,%d for 2nd layer'%(comm_sizes[0][0],comm_sizes[0][1],comm_sizes[0][2],comm_sizes[0][3],comm_sizes[0][4],comm_sizes[0][5],spike_rates[0][0],spike_rates[0][1],spike_rates[0][2],spike_rates[0][3],spike_rates[0][4],spike_rates[0][5],spike_rates[1][0],spike_rates[1][1],spike_rates[1][2]), fontsize = 45)\n",
    "cbar = fig.colorbar(k, ax = ax.flat, orientation = 'horizontal')\n",
    "cbar.ax.tick_params(labelsize = 25) \n",
    "plt.savefig(path+'adjacency.pdf')"
   ]
  },
  {
   "cell_type": "code",
   "execution_count": null,
   "metadata": {},
   "outputs": [],
   "source": [
    "TN = temporal_network(num_neurons, \n",
    "                      layers, \n",
    "                      window_size, \n",
    "                      data = 'list__adjacency', \n",
    "                      list_adjacency = padded_adjacencies, \n",
    "                      omega = 1, \n",
    "                      kind = 'ordinal')\n",
    "fig,ax = plt.subplots(1,1, figsize = (25,15))\n",
    "TN.raster_plot(spikes, ax)\n",
    "plt.savefig(path + 'raster_plot.pdf')"
   ]
  },
  {
   "cell_type": "code",
   "execution_count": null,
   "metadata": {},
   "outputs": [],
   "source": [
    "grid = 51\n",
    "threshs = np.linspace(0, 0.8, grid)\n",
    "inters = np.linspace(0, 1.5, grid)\n",
    "\n",
    "path_no_update = path + 'infomap/no_update/'\n",
    "\n",
    "os.makedirs(path_no_update, exist_ok = True)"
   ]
  },
  {
   "cell_type": "code",
   "execution_count": null,
   "metadata": {},
   "outputs": [],
   "source": [
    "membership_no_update, labels_no_update = TN.run_community_detection('infomap', \n",
    "                                                                    interlayers = inters, \n",
    "                                                                    thresholds = threshs)\n",
    " \n",
    "with open(path_no_update + \"infomap_labels_no_update.pkl\", \"wb\") as fp:\n",
    "    pickle.dump(labels_no_update, fp)"
   ]
  },
  {
   "cell_type": "code",
   "execution_count": null,
   "metadata": {},
   "outputs": [],
   "source": [
    "index = 10\n",
    "for m in range(5):\n",
    "    for n in range(5):\n",
    "        fig,ax = plt.subplots(index,index, figsize = (index*15+5,index*15))\n",
    "        for i in range(index):\n",
    "            for j in range(index):\n",
    "                comms, c = TN.community(membership_no_update['interlayer=%.3f'%inters[i+m*index]][j+n*index], ax[i][j])\n",
    "                ax[i][j].set_xticks([i for i in range(layers)])\n",
    "                ax[i][j].set_yticks([i*10 for i in range(int(num_neurons/10)+1)])\n",
    "                ax[i][j].tick_params(axis = 'both', labelsize = 12)\n",
    "                ax[i][j].set_xlabel('Layers (Time)', fontsize = 25)\n",
    "                ax[i][j].set_ylabel('Neuron ID', fontsize = 25)\n",
    "                ax[i][j].set_title('%d Communities, interlayer:%.3f, threshold:%.3f'%(len(c),inters[i+m*index],threshs[j+n*index]), fontsize=29)\n",
    "        plt.tight_layout()\n",
    "        plt.savefig(path_no_update + 'communities_%d.pdf'%((m*5)+n))"
   ]
  },
  {
   "cell_type": "code",
   "execution_count": null,
   "metadata": {},
   "outputs": [],
   "source": [
    "information_recovery(labels_no_update, comm_sizes, 'Scattered', inters, threshs, 'merge')\n",
    "plt.savefig(path_no_update + 'info_recovery.pdf')"
   ]
  },
  {
   "cell_type": "code",
   "execution_count": null,
   "metadata": {},
   "outputs": [],
   "source": [
    "path_local_update = path + 'infomap/local_update/'\n",
    "\n",
    "os.makedirs(path_local_update, exist_ok = True)"
   ]
  },
  {
   "cell_type": "code",
   "execution_count": null,
   "metadata": {},
   "outputs": [],
   "source": [
    "membership_local_update, labels_local_update = TN.run_community_detection('infomap', \n",
    "                                                                          update_method = 'local', \n",
    "                                                                          interlayers = inters, \n",
    "                                                                          thresholds = threshs, \n",
    "                                                                          spikes = spikes)\n",
    "with open(path_local_update + \"infomap_labels_local_update.pkl\", \"wb\") as fp:\n",
    "    pickle.dump(labels_local_update, fp)"
   ]
  },
  {
   "cell_type": "code",
   "execution_count": null,
   "metadata": {},
   "outputs": [],
   "source": [
    "index = 10\n",
    "for m in range(5):\n",
    "    for n in range(5):\n",
    "        fig,ax = plt.subplots(index,index, figsize = (index*15+5,index*15))\n",
    "        for i in range(index):\n",
    "            for j in range(index):\n",
    "                comms, c = TN.community(membership_local_update['interlayer=%.3f'%inters[i+m*index]][j+n*index], ax[i][j])\n",
    "                ax[i][j].set_xticks([i for i in range(layers)])\n",
    "                ax[i][j].set_yticks([i*10 for i in range(int(num_neurons/10)+1)])\n",
    "                ax[i][j].tick_params(axis = 'both', labelsize = 12)\n",
    "                ax[i][j].set_xlabel('Layers (Time)', fontsize = 25)\n",
    "                ax[i][j].set_ylabel('Neuron ID', fontsize = 25)\n",
    "                ax[i][j].set_title('%d Communities, interlayer:%.3f, threshold:%.3f'%(len(c),inters[i+m*index],threshs[j+n*index]), fontsize=29)\n",
    "        plt.tight_layout()\n",
    "        plt.savefig(path_local_update + 'communities_%d.pdf'%((m*5)+n))"
   ]
  },
  {
   "cell_type": "code",
   "execution_count": null,
   "metadata": {},
   "outputs": [],
   "source": [
    "information_recovery(labels_local_update, comm_sizes, 'Scattered', inters, threshs, 'merge')\n",
    "plt.savefig(path_local_update + 'info_recovery.pdf')"
   ]
  },
  {
   "cell_type": "code",
   "execution_count": null,
   "metadata": {},
   "outputs": [],
   "source": [
    "path_global_update = path + 'infomap/global_update/'\n",
    "\n",
    "os.makedirs(path_global_update, exist_ok = True)"
   ]
  },
  {
   "cell_type": "code",
   "execution_count": null,
   "metadata": {},
   "outputs": [],
   "source": [
    "membership_global_update, labels_global_update = TN.run_community_detection('infomap', \n",
    "                                                                            update_method = 'global', \n",
    "                                                                            interlayers = inters, \n",
    "                                                                            thresholds = threshs, \n",
    "                                                                            spikes = spikes)\n",
    "with open(path_global_update + \"infomap_labels_global_update.pkl\", \"wb\") as fp:\n",
    "    pickle.dump(labels_global_update, fp)"
   ]
  },
  {
   "cell_type": "code",
   "execution_count": null,
   "metadata": {},
   "outputs": [],
   "source": [
    "index = 10\n",
    "for m in range(5):\n",
    "    for n in range(5):\n",
    "        fig,ax = plt.subplots(index,index, figsize = (index*15+5,index*15))\n",
    "        for i in range(index):\n",
    "            for j in range(index):\n",
    "                comms, c = TN.community(membership_global_update['interlayer=%.3f'%inters[i+m*index]][j+n*index], ax[i][j])\n",
    "                ax[i][j].set_xticks([i for i in range(layers)])\n",
    "                ax[i][j].set_yticks([i*10 for i in range(int(num_neurons/10)+1)])\n",
    "                ax[i][j].tick_params(axis = 'both', labelsize = 12)\n",
    "                ax[i][j].set_xlabel('Layers (Time)', fontsize = 25)\n",
    "                ax[i][j].set_ylabel('Neuron ID', fontsize = 25)\n",
    "                ax[i][j].set_title('%d Communities, interlayer:%.3f, threshold:%.3f'%(len(c),inters[i+m*index],threshs[j+n*index]), fontsize=29)\n",
    "        plt.tight_layout()\n",
    "        plt.savefig(path_global_update + 'communities_%d.pdf'%((m*5)+n))"
   ]
  },
  {
   "cell_type": "code",
   "execution_count": null,
   "metadata": {},
   "outputs": [],
   "source": [
    "information_recovery(labels_global_update, comm_sizes, 'Scattered', inters, threshs, 'merge')\n",
    "plt.savefig(path_global_update + 'info_recovery.pdf')"
   ]
  },
  {
   "cell_type": "code",
   "execution_count": null,
   "metadata": {},
   "outputs": [],
   "source": [
    "path_nbr_update = path + 'infomap/neighborhood_update/'\n",
    "\n",
    "os.makedirs(path_nbr_update, exist_ok = True)"
   ]
  },
  {
   "cell_type": "code",
   "execution_count": null,
   "metadata": {},
   "outputs": [],
   "source": [
    "membership_nbr_update, labels_nbr_update = TN.run_community_detection('infomap', \n",
    "                                                                      update_method = 'neighborhood', \n",
    "                                                                      interlayers = inters, \n",
    "                                                                      thresholds = threshs)\n",
    "\n",
    "with open(path_nbr_update + \"infomap_labels_nbr_update.pkl\", \"wb\") as fp:\n",
    "    pickle.dump(labels_nbr_update, fp)"
   ]
  },
  {
   "cell_type": "code",
   "execution_count": null,
   "metadata": {},
   "outputs": [],
   "source": [
    "index = 10\n",
    "for m in range(5):\n",
    "    for n in range(5):\n",
    "        fig,ax = plt.subplots(index,index, figsize = (index*15+5,index*15))\n",
    "        for i in range(index):\n",
    "            for j in range(index):\n",
    "                comms, c = TN.community(membership_nbr_update['interlayer=%.3f'%inters[i+m*index]][j+n*index], ax[i][j])\n",
    "                ax[i][j].set_xticks([i for i in range(layers)])\n",
    "                ax[i][j].set_yticks([i*10 for i in range(int(num_neurons/10)+1)])\n",
    "                ax[i][j].tick_params(axis = 'both', labelsize = 12)\n",
    "                ax[i][j].set_xlabel('Layers (Time)', fontsize = 25)\n",
    "                ax[i][j].set_ylabel('Neuron ID', fontsize = 25)\n",
    "                ax[i][j].set_title('%d Communities, interlayer:%.3f, threshold:%.3f'%(len(c),inters[i+m*index],threshs[j+n*index]), fontsize=29)\n",
    "        plt.tight_layout()\n",
    "        plt.savefig(path_nbr_update + 'communities_%d.pdf'%((m*5)+n))"
   ]
  },
  {
   "cell_type": "code",
   "execution_count": null,
   "metadata": {},
   "outputs": [],
   "source": [
    "information_recovery(labels_nbr_update, comm_sizes, 'Scattered', inters, threshs, 'merge')\n",
    "plt.savefig(path_nbr_update + 'info_recovery.pdf')"
   ]
  },
  {
   "cell_type": "code",
   "execution_count": null,
   "metadata": {},
   "outputs": [],
   "source": [
    "print('INFOMAP-->MMM')"
   ]
  },
  {
   "cell_type": "code",
   "execution_count": null,
   "metadata": {},
   "outputs": [],
   "source": [
    "grid = 51\n",
    "\n",
    "resos = np.linspace(0, 1.5, grid)\n",
    "inters = np.linspace(0, 1.5, grid)\n",
    "\n",
    "path_no_update = path + 'MMM/no_update/'\n",
    "\n",
    "os.makedirs(path_no_update, exist_ok = True)"
   ]
  },
  {
   "cell_type": "code",
   "execution_count": null,
   "metadata": {},
   "outputs": [],
   "source": [
    "membership_no_update, labels_no_update = TN.run_community_detection('MMM', \n",
    "                                                                    interlayers = inters, \n",
    "                                                                    resolutions = resos)\n",
    "with open(path_no_update + \"MMM_labels_no_update.pkl\", \"wb\") as fp:\n",
    "    pickle.dump(labels_no_update, fp)"
   ]
  },
  {
   "cell_type": "code",
   "execution_count": null,
   "metadata": {},
   "outputs": [],
   "source": [
    "index = 10\n",
    "for m in range(5):\n",
    "    for n in range(5):\n",
    "        fig,ax = plt.subplots(index,index, figsize = (index*15+5,index*15))\n",
    "        for i in range(index):\n",
    "            for j in range(index):\n",
    "                comms, c = TN.community(membership_no_update['interlayer=%.3f'%inters[i+m*index]][j+n*index], ax[i][j])\n",
    "                ax[i][j].set_xticks([i for i in range(layers)])\n",
    "                ax[i][j].set_yticks([i*10 for i in range(int(num_neurons/10)+1)])\n",
    "                ax[i][j].tick_params(axis = 'both', labelsize = 12)\n",
    "                ax[i][j].set_xlabel('Layers (Time)', fontsize = 25)\n",
    "                ax[i][j].set_ylabel('Neuron ID', fontsize = 25)\n",
    "                ax[i][j].set_title('%d Communities, interlayer:%.3f, resolution:%.3f'%(len(c),inters[i+m*index],resos[j+n*index]), fontsize=29)\n",
    "        plt.tight_layout()\n",
    "        plt.savefig(path_no_update + 'communities_%d.pdf'%((m*5)+n))"
   ]
  },
  {
   "cell_type": "code",
   "execution_count": null,
   "metadata": {},
   "outputs": [],
   "source": [
    "information_recovery(labels_no_update, comm_sizes, 'Scattered', inters, resos, 'merge')\n",
    "plt.savefig(path_no_update + 'info_recovery.pdf')"
   ]
  },
  {
   "cell_type": "code",
   "execution_count": null,
   "metadata": {},
   "outputs": [],
   "source": [
    "path_local_update = path + 'MMM/local_update/'\n",
    "\n",
    "os.makedirs(path_local_update, exist_ok = True)"
   ]
  },
  {
   "cell_type": "code",
   "execution_count": null,
   "metadata": {},
   "outputs": [],
   "source": [
    "membership_local_update, labels_local_update = TN.run_community_detection('MMM', \n",
    "                                                                          update_method = 'local', \n",
    "                                                                          interlayers = inters, \n",
    "                                                                          resolutions = resos, \n",
    "                                                                          spikes = spikes)\n",
    "with open(path_local_update + \"MMM_labels_local_update.pkl\", \"wb\") as fp:\n",
    "    pickle.dump(labels_local_update, fp)"
   ]
  },
  {
   "cell_type": "code",
   "execution_count": null,
   "metadata": {},
   "outputs": [],
   "source": [
    "index = 10\n",
    "for m in range(5):\n",
    "    for n in range(5):\n",
    "        fig,ax = plt.subplots(index,index, figsize = (index*15+5,index*15))\n",
    "        for i in range(index):\n",
    "            for j in range(index):\n",
    "                comms, c = TN.community(membership_local_update['interlayer=%.3f'%inters[i+m*index]][j+n*index], ax[i][j])\n",
    "                ax[i][j].set_xticks([i for i in range(layers)])\n",
    "                ax[i][j].set_yticks([i*10 for i in range(int(num_neurons/10)+1)])\n",
    "                ax[i][j].tick_params(axis = 'both', labelsize = 12)\n",
    "                ax[i][j].set_xlabel('Layers (Time)', fontsize = 25)\n",
    "                ax[i][j].set_ylabel('Neuron ID', fontsize = 25)\n",
    "                ax[i][j].set_title('%d Communities, interlayer:%.3f, resolution:%.3f'%(len(c),inters[i+m*index],resos[j+n*index]), fontsize=29)\n",
    "        plt.tight_layout()\n",
    "        plt.savefig(path_local_update + 'communities_%d.pdf'%((m*5)+n))"
   ]
  },
  {
   "cell_type": "code",
   "execution_count": null,
   "metadata": {},
   "outputs": [],
   "source": [
    "information_recovery(labels_local_update, comm_sizes, 'Scattered', inters, resos, 'merge')\n",
    "plt.savefig(path_local_update + 'info_recovery.pdf')"
   ]
  },
  {
   "cell_type": "code",
   "execution_count": null,
   "metadata": {},
   "outputs": [],
   "source": [
    "path_global_update = path + 'MMM/global_update/'\n",
    "\n",
    "os.makedirs(path_global_update, exist_ok = True)"
   ]
  },
  {
   "cell_type": "code",
   "execution_count": null,
   "metadata": {},
   "outputs": [],
   "source": [
    "membership_global_update, labels_global_update = TN.run_community_detection('MMM', \n",
    "                                                                            update_method = 'global', \n",
    "                                                                            interlayers = inters, \n",
    "                                                                            resolutions = resos, \n",
    "                                                                            spikes = spikes)\n",
    "with open(path_global_update + \"MMM_labels_global_update.pkl\", \"wb\") as fp:\n",
    "    pickle.dump(labels_global_update, fp)"
   ]
  },
  {
   "cell_type": "code",
   "execution_count": null,
   "metadata": {},
   "outputs": [],
   "source": [
    "index = 10\n",
    "for m in range(5):\n",
    "    for n in range(5):\n",
    "        fig,ax = plt.subplots(index,index, figsize = (index*15+5,index*15))\n",
    "        for i in range(index):\n",
    "            for j in range(index):\n",
    "                comms, c = TN.community(membership_global_update['interlayer=%.3f'%inters[i+m*index]][j+n*index], ax[i][j])\n",
    "                ax[i][j].set_xticks([i for i in range(layers)])\n",
    "                ax[i][j].set_yticks([i*10 for i in range(int(num_neurons/10)+1)])\n",
    "                ax[i][j].tick_params(axis = 'both', labelsize = 12)\n",
    "                ax[i][j].set_xlabel('Layers (Time)', fontsize = 25)\n",
    "                ax[i][j].set_ylabel('Neuron ID', fontsize = 25)\n",
    "                ax[i][j].set_title('%d Communities, interlayer:%.3f, resolution:%.3f'%(len(c),inters[i+m*index],resos[j+n*index]), fontsize=29)\n",
    "        plt.tight_layout()\n",
    "        plt.savefig(path_global_update + 'communities_%d.pdf'%((m*5)+n))"
   ]
  },
  {
   "cell_type": "code",
   "execution_count": null,
   "metadata": {},
   "outputs": [],
   "source": [
    "information_recovery(labels_global_update, comm_sizes, 'Scattered', inters, resos, 'merge')\n",
    "plt.savefig(path_global_update + 'info_recovery_scattered.pdf')"
   ]
  },
  {
   "cell_type": "code",
   "execution_count": null,
   "metadata": {},
   "outputs": [],
   "source": []
  }
 ],
 "metadata": {
  "kernelspec": {
   "display_name": "Python 3",
   "language": "python",
   "name": "python3"
  },
  "language_info": {
   "codemirror_mode": {
    "name": "ipython",
    "version": 3
   },
   "file_extension": ".py",
   "mimetype": "text/x-python",
   "name": "python",
   "nbconvert_exporter": "python",
   "pygments_lexer": "ipython3",
   "version": "3.7.6"
  }
 },
 "nbformat": 4,
 "nbformat_minor": 4
}
