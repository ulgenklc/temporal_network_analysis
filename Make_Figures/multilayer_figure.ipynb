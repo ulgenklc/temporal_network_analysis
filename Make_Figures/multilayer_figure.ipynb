{
 "cells": [
  {
   "cell_type": "code",
   "execution_count": 5,
   "metadata": {},
   "outputs": [],
   "source": [
    "import chart_studio.plotly as py\n",
    "import plotly.graph_objs as go\n",
    "import igraph as ig\n",
    "import numpy as np\n",
    "import chart_studio\n",
    "#import chart_studio.tools as tls\n",
    "chart_studio.tools.set_credentials_file(username='bengieru', api_key='aEWAksFu2EImuQ4jxWut')"
   ]
  },
  {
   "cell_type": "code",
   "execution_count": 2,
   "metadata": {},
   "outputs": [],
   "source": [
    "layers = 3\n",
    "nodes = 9\n",
    "n = layers*nodes\n",
    "intra_edges = [(0,1),(0,3),(1,4),(3,4),(7,8),(5,8),(5,7),\n",
    "               (9,10),(9,12),(9,13),(10,13),(12,13),(16,17),(14,17),(14,16),\n",
    "              (18,19),(19,23),(23,26),(25,26),(21,25),(18,21),(22,25),(22,23),(18,22),(23,25),(19,22),(21,22)]\n",
    "inter_edges =  [(i,i+nodes) for i in range(nodes)] + [(nodes+i,nodes*2+i) for i in range(nodes)]\n",
    "G = ig.Graph(intra_edges+inter_edges)\n",
    "\n",
    "comm1 = [0, 1, 3, 4]\n",
    "comm2 = [5, 7, 8]\n",
    "group =[]\n",
    "for i in range(n):\n",
    "    if i%nodes in comm1:group.append(0)\n",
    "    elif i%nodes in comm2:group.append(1)\n",
    "    else:group.append(i*10)"
   ]
  },
  {
   "cell_type": "code",
   "execution_count": 3,
   "metadata": {},
   "outputs": [],
   "source": [
    "Xn=[2 for k in range(nodes)] + [1 for k in range(nodes)] + [0 for k in range(nodes)]# x-coordinates of nodes\n",
    "Yn=[]\n",
    "for i in range(n):\n",
    "    if i%3 ==2: Yn.append(1)\n",
    "    elif i%3 ==1: Yn.append(0)\n",
    "    elif i%3 ==0: Yn.append(-1)# y-coordinates\n",
    "Zn=[]\n",
    "for i in [-1,0,1,-1,0,1,-1,0,1]:\n",
    "    Zn+=[i for j in range(3)]# z-coordinates\n",
    "\n",
    "Xe=[]\n",
    "Ye=[]\n",
    "Ze=[]\n",
    "for e in intra_edges:\n",
    "    Xe+=[Xn[e[0]], Xn[e[1]], None]# x-coordinates of edge ends\n",
    "    Ye+=[Yn[e[0]], Yn[e[1]], None]\n",
    "    Ze+=[Zn[e[0]], Zn[e[1]], None]\n",
    "    \n",
    "Xie=[]\n",
    "Yie=[]\n",
    "Zie=[]\n",
    "for e in inter_edges:\n",
    "    Xie+=[Xn[e[0]], Xn[e[1]], None]# x-coordinates of edge ends\n",
    "    Yie+=[Yn[e[0]], Yn[e[1]], None]\n",
    "    Zie+=[Zn[e[0]], Zn[e[1]], None]"
   ]
  },
  {
   "cell_type": "code",
   "execution_count": 4,
   "metadata": {},
   "outputs": [],
   "source": [
    "trace1=go.Scatter3d(x=Xe,\n",
    "               y=Ye,\n",
    "               z=Ze,\n",
    "               mode='lines',\n",
    "               line=dict(color='rgb(25,25,225)', width=1),\n",
    "               hoverinfo='none'\n",
    "               )\n",
    "trace2=go.Scatter3d(x=Xie,\n",
    "               y=Yie,\n",
    "               z=Zie,\n",
    "               mode='lines',\n",
    "               line=dict(color='rgb(225,25,25)', width=5),\n",
    "               hoverinfo='none'\n",
    "               )\n",
    "\n",
    "trace3=go.Scatter3d(x=Xn,\n",
    "               y=Yn,\n",
    "               z=Zn,\n",
    "               mode='markers',\n",
    "               name='actors',\n",
    "               marker=dict(symbol='circle',\n",
    "                             size=16,\n",
    "                             color=group,\n",
    "                             colorscale='Viridis',\n",
    "                             line=dict(color='rgb(50,50,50)', width=0.5)\n",
    "                             ),\n",
    "               #text=labels,\n",
    "               hoverinfo='text'\n",
    "               )\n",
    "trace4 = {\n",
    "    'type': 'mesh3d',        \n",
    "    'x': [2,2,2,2],\n",
    "    'y': [-1,1,-1,1],\n",
    "    'z': [-1,-1,1,1], \n",
    "    'delaunayaxis':'x',\n",
    "    'color': 'green',\n",
    "    'opacity': 0.2,\n",
    "}\n",
    "\n",
    "trace5={\n",
    "    'type': 'mesh3d',        \n",
    "    'x': [1,1,1,1],\n",
    "    'y': [-1,1,-1,1],\n",
    "    'z': [-1,-1,1,1], \n",
    "    'delaunayaxis':'x',\n",
    "    'color': 'green',\n",
    "    'opacity': 0.2,\n",
    "}\n",
    "\n",
    "trace6={\n",
    "    'type': 'mesh3d',        \n",
    "    'x': [0,0,0,0],\n",
    "    'y': [-1,1,-1,1],\n",
    "    'z': [-1,-1,1,1], \n",
    "    'delaunayaxis':'x',\n",
    "    'color': 'green',\n",
    "    'opacity': 0.2,\n",
    "}\n",
    "\n",
    "\n",
    "\n",
    "axis=dict(showbackground=False,\n",
    "          showline=False,\n",
    "          zeroline=False,\n",
    "          showgrid=False,\n",
    "          showticklabels=False,\n",
    "          title=''\n",
    "          )\n",
    "\n",
    "layout = go.Layout(\n",
    "         #title=\"Network of coappearances of characters in Victor Hugo's novel<br> Les Miserables (3D visualization)\",\n",
    "         width=1000,\n",
    "         height=1000,\n",
    "         showlegend=False,\n",
    "         scene=dict(\n",
    "             xaxis=dict(axis),\n",
    "             yaxis=dict(axis),\n",
    "             zaxis=dict(axis),\n",
    "        ),\n",
    "     margin=dict(\n",
    "        t=100\n",
    "    ),\n",
    "    hovermode='closest',\n",
    "    annotations=[\n",
    "           dict(\n",
    "           showarrow=False,\n",
    "            #text=\"Data source: <a href='http://bost.ocks.org/mike/miserables/miserables.json'>[1] miserables.json</a>\",\n",
    "            xref='paper',\n",
    "            yref='paper',\n",
    "            x=0,\n",
    "            y=0.1,\n",
    "            xanchor='left',\n",
    "            yanchor='bottom',\n",
    "            font=dict(\n",
    "            size=14\n",
    "            )\n",
    "            )\n",
    "        ],    )"
   ]
  },
  {
   "cell_type": "code",
   "execution_count": 18,
   "metadata": {},
   "outputs": [
    {
     "data": {
      "text/html": [
       "\n",
       "        <iframe\n",
       "            width=\"1000px\"\n",
       "            height=\"1000px\"\n",
       "            src=\"https://plotly.com/~bengieru/62.embed\"\n",
       "            frameborder=\"0\"\n",
       "            allowfullscreen\n",
       "        ></iframe>\n",
       "        "
      ],
      "text/plain": [
       "<IPython.lib.display.IFrame at 0x7fd21ca79090>"
      ]
     },
     "execution_count": 18,
     "metadata": {},
     "output_type": "execute_result"
    }
   ],
   "source": [
    "data=[trace1, trace2, trace3, trace4, trace5,trace6]\n",
    "fig=go.Figure(data=data, layout=layout)\n",
    "\n",
    "py.iplot(fig, filename='example_mlayer')"
   ]
  },
  {
   "cell_type": "code",
   "execution_count": null,
   "metadata": {},
   "outputs": [],
   "source": []
  },
  {
   "cell_type": "code",
   "execution_count": 12,
   "metadata": {},
   "outputs": [],
   "source": [
    "parameter_plane = np.loadtxt('/Users/bengieru/MLN/Make_Figures/parameter_plane_grow_update_local.txt', dtype=float)"
   ]
  },
  {
   "cell_type": "code",
   "execution_count": 13,
   "metadata": {},
   "outputs": [
    {
     "data": {
      "application/vnd.plotly.v1+json": {
       "config": {
        "plotlyServerURL": "https://plotly.com"
       },
       "data": [
        {
         "type": "surface",
         "z": [
          [
           1,
           1,
           1,
           1,
           2,
           2,
           3,
           3,
           3,
           3,
           3,
           2,
           3,
           4,
           3,
           5,
           7,
           8,
           12,
           14,
           18,
           23,
           22,
           24,
           29,
           29,
           35,
           31,
           37,
           41
          ],
          [
           1,
           1,
           1,
           1,
           2,
           2,
           3,
           3,
           2,
           2,
           2,
           3,
           3,
           3,
           4,
           4,
           8,
           10,
           12,
           15,
           20,
           22,
           20,
           26,
           26,
           27,
           32,
           32,
           39,
           39
          ],
          [
           1,
           1,
           1,
           1,
           2,
           2,
           2,
           2,
           3,
           2,
           3,
           2,
           3,
           3,
           4,
           5,
           8,
           9,
           11,
           14,
           18,
           20,
           22,
           25,
           25,
           31,
           31,
           36,
           39,
           38
          ],
          [
           1,
           1,
           1,
           1,
           2,
           2,
           2,
           2,
           2,
           2,
           2,
           2,
           2,
           4,
           3,
           4,
           7,
           8,
           12,
           15,
           20,
           17,
           22,
           22,
           26,
           31,
           32,
           34,
           35,
           41
          ],
          [
           1,
           1,
           1,
           1,
           2,
           2,
           3,
           3,
           3,
           2,
           2,
           2,
           3,
           3,
           3,
           4,
           6,
           10,
           11,
           13,
           19,
           21,
           24,
           25,
           26,
           30,
           31,
           34,
           34,
           37
          ],
          [
           1,
           1,
           1,
           1,
           2,
           2,
           3,
           2,
           2,
           3,
           2,
           2,
           3,
           3,
           4,
           6,
           7,
           9,
           12,
           15,
           15,
           18,
           23,
           23,
           26,
           30,
           30,
           31,
           39,
           39
          ],
          [
           1,
           1,
           1,
           1,
           2,
           2,
           2,
           3,
           2,
           2,
           2,
           3,
           3,
           4,
           4,
           5,
           7,
           9,
           11,
           17,
           17,
           16,
           22,
           22,
           24,
           30,
           33,
           33,
           38,
           44
          ],
          [
           1,
           1,
           1,
           1,
           2,
           2,
           2,
           2,
           3,
           3,
           2,
           3,
           3,
           3,
           4,
           5,
           8,
           9,
           11,
           15,
           17,
           20,
           26,
           26,
           26,
           29,
           30,
           33,
           37,
           39
          ],
          [
           1,
           1,
           1,
           1,
           2,
           2,
           2,
           2,
           3,
           3,
           2,
           2,
           4,
           3,
           4,
           4,
           7,
           10,
           12,
           15,
           17,
           18,
           23,
           27,
           26,
           31,
           31,
           33,
           38,
           35
          ],
          [
           1,
           1,
           1,
           1,
           2,
           2,
           2,
           3,
           3,
           2,
           2,
           3,
           3,
           3,
           4,
           5,
           7,
           10,
           12,
           12,
           15,
           16,
           18,
           22,
           27,
           29,
           31,
           35,
           40,
           41
          ],
          [
           1,
           1,
           1,
           1,
           1,
           2,
           2,
           2,
           2,
           2,
           2,
           2,
           3,
           3,
           3,
           5,
           7,
           10,
           12,
           14,
           15,
           18,
           18,
           25,
           24,
           29,
           32,
           35,
           35,
           43
          ],
          [
           1,
           1,
           1,
           1,
           1,
           2,
           2,
           2,
           2,
           2,
           2,
           2,
           4,
           3,
           4,
           4,
           7,
           10,
           13,
           12,
           14,
           17,
           22,
           22,
           25,
           31,
           31,
           35,
           39,
           37
          ],
          [
           1,
           1,
           1,
           1,
           1,
           2,
           2,
           2,
           2,
           2,
           2,
           3,
           3,
           3,
           3,
           5,
           7,
           11,
           10,
           13,
           16,
           21,
           21,
           21,
           23,
           29,
           31,
           33,
           33,
           40
          ],
          [
           1,
           1,
           1,
           1,
           2,
           2,
           2,
           2,
           2,
           2,
           2,
           3,
           2,
           3,
           4,
           5,
           7,
           9,
           12,
           12,
           16,
           17,
           20,
           22,
           24,
           31,
           30,
           36,
           35,
           41
          ],
          [
           1,
           1,
           1,
           1,
           1,
           2,
           2,
           2,
           3,
           2,
           3,
           3,
           3,
           3,
           4,
           5,
           6,
           8,
           12,
           14,
           17,
           17,
           19,
           22,
           25,
           25,
           29,
           35,
           39,
           40
          ],
          [
           1,
           1,
           1,
           1,
           1,
           2,
           2,
           2,
           2,
           3,
           2,
           2,
           3,
           3,
           4,
           5,
           6,
           9,
           12,
           14,
           15,
           18,
           20,
           22,
           25,
           29,
           32,
           37,
           38,
           41
          ],
          [
           1,
           1,
           1,
           1,
           2,
           2,
           2,
           2,
           3,
           3,
           2,
           2,
           3,
           4,
           4,
           4,
           7,
           8,
           11,
           12,
           18,
           16,
           19,
           20,
           23,
           27,
           28,
           35,
           40,
           42
          ],
          [
           1,
           1,
           1,
           1,
           1,
           2,
           2,
           2,
           2,
           2,
           2,
           2,
           3,
           3,
           3,
           6,
           7,
           8,
           10,
           13,
           14,
           17,
           20,
           24,
           27,
           27,
           28,
           33,
           36,
           42
          ],
          [
           1,
           1,
           1,
           1,
           2,
           2,
           2,
           2,
           2,
           2,
           3,
           2,
           4,
           3,
           4,
           6,
           9,
           8,
           12,
           14,
           16,
           18,
           19,
           25,
           23,
           27,
           35,
           35,
           37,
           35
          ],
          [
           1,
           1,
           1,
           1,
           2,
           2,
           2,
           2,
           3,
           2,
           2,
           2,
           2,
           3,
           5,
           6,
           8,
           8,
           13,
           13,
           15,
           18,
           20,
           23,
           25,
           29,
           32,
           32,
           36,
           39
          ],
          [
           1,
           1,
           1,
           1,
           2,
           2,
           2,
           2,
           2,
           2,
           2,
           3,
           2,
           2,
           5,
           6,
           8,
           8,
           10,
           13,
           17,
           21,
           18,
           25,
           24,
           29,
           29,
           34,
           34,
           40
          ],
          [
           1,
           1,
           1,
           1,
           1,
           2,
           2,
           2,
           2,
           2,
           2,
           2,
           3,
           3,
           4,
           5,
           6,
           10,
           13,
           14,
           15,
           17,
           20,
           23,
           25,
           26,
           33,
           31,
           39,
           39
          ],
          [
           1,
           1,
           1,
           1,
           2,
           2,
           2,
           2,
           2,
           3,
           2,
           2,
           3,
           4,
           4,
           5,
           7,
           9,
           10,
           14,
           17,
           20,
           19,
           22,
           25,
           28,
           31,
           28,
           38,
           39
          ],
          [
           1,
           1,
           1,
           1,
           2,
           1,
           2,
           2,
           2,
           3,
           2,
           3,
           3,
           3,
           4,
           5,
           7,
           8,
           12,
           15,
           16,
           18,
           17,
           26,
           26,
           30,
           29,
           32,
           34,
           38
          ],
          [
           1,
           1,
           1,
           1,
           1,
           1,
           2,
           2,
           3,
           2,
           2,
           2,
           2,
           2,
           5,
           5,
           6,
           8,
           13,
           14,
           16,
           20,
           18,
           23,
           23,
           31,
           32,
           33,
           34,
           38
          ],
          [
           1,
           1,
           1,
           1,
           1,
           2,
           2,
           2,
           2,
           2,
           2,
           2,
           2,
           3,
           4,
           5,
           8,
           9,
           11,
           13,
           14,
           17,
           20,
           21,
           25,
           29,
           31,
           34,
           37,
           41
          ],
          [
           1,
           1,
           1,
           1,
           1,
           1,
           2,
           2,
           2,
           3,
           2,
           2,
           2,
           3,
           5,
           6,
           7,
           10,
           13,
           13,
           14,
           19,
           21,
           22,
           23,
           27,
           31,
           31,
           34,
           37
          ],
          [
           1,
           1,
           1,
           1,
           1,
           2,
           2,
           2,
           2,
           2,
           2,
           3,
           2,
           3,
           4,
           5,
           6,
           10,
           10,
           17,
           18,
           18,
           19,
           24,
           27,
           29,
           31,
           35,
           36,
           41
          ],
          [
           1,
           1,
           1,
           1,
           2,
           1,
           2,
           2,
           2,
           2,
           2,
           2,
           2,
           3,
           5,
           5,
           7,
           9,
           9,
           16,
           19,
           17,
           19,
           23,
           27,
           24,
           33,
           32,
           34,
           40
          ],
          [
           1,
           1,
           1,
           1,
           1,
           1,
           2,
           2,
           3,
           2,
           2,
           2,
           2,
           3,
           4,
           6,
           7,
           10,
           12,
           15,
           15,
           15,
           18,
           23,
           25,
           27,
           32,
           36,
           38,
           38
          ]
         ]
        }
       ],
       "layout": {
        "autosize": false,
        "margin": {
         "b": 5,
         "l": 65,
         "r": 150,
         "t": 190
        },
        "scene": {
         "xaxis": {
          "ticktext": [
           "0",
           "0.1",
           "0.2",
           "0.3",
           "0.4",
           "0.5",
           "0.6",
           "0.7",
           "0.8",
           "0.9",
           "1"
          ],
          "tickvals": [
           0,
           5,
           10,
           15,
           20,
           25,
           30,
           35,
           40,
           45,
           50
          ],
          "title": {
           "text": "I.C."
          }
         },
         "yaxis": {
          "ticktext": [
           "0",
           "0.1",
           "0.2",
           "0.3",
           "0.4",
           "0.5",
           "0.6",
           "0.7",
           "0.8",
           "0.9",
           "1"
          ],
          "tickvals": [
           0,
           5,
           10,
           15,
           20,
           25,
           30,
           35,
           40,
           45,
           50
          ],
          "title": {
           "text": "R.P."
          }
         },
         "zaxis": {
          "title": {
           "text": "Community Count"
          }
         }
        },
        "template": {
         "data": {
          "bar": [
           {
            "error_x": {
             "color": "#2a3f5f"
            },
            "error_y": {
             "color": "#2a3f5f"
            },
            "marker": {
             "line": {
              "color": "#E5ECF6",
              "width": 0.5
             }
            },
            "type": "bar"
           }
          ],
          "barpolar": [
           {
            "marker": {
             "line": {
              "color": "#E5ECF6",
              "width": 0.5
             }
            },
            "type": "barpolar"
           }
          ],
          "carpet": [
           {
            "aaxis": {
             "endlinecolor": "#2a3f5f",
             "gridcolor": "white",
             "linecolor": "white",
             "minorgridcolor": "white",
             "startlinecolor": "#2a3f5f"
            },
            "baxis": {
             "endlinecolor": "#2a3f5f",
             "gridcolor": "white",
             "linecolor": "white",
             "minorgridcolor": "white",
             "startlinecolor": "#2a3f5f"
            },
            "type": "carpet"
           }
          ],
          "choropleth": [
           {
            "colorbar": {
             "outlinewidth": 0,
             "ticks": ""
            },
            "type": "choropleth"
           }
          ],
          "contour": [
           {
            "colorbar": {
             "outlinewidth": 0,
             "ticks": ""
            },
            "colorscale": [
             [
              0,
              "#0d0887"
             ],
             [
              0.1111111111111111,
              "#46039f"
             ],
             [
              0.2222222222222222,
              "#7201a8"
             ],
             [
              0.3333333333333333,
              "#9c179e"
             ],
             [
              0.4444444444444444,
              "#bd3786"
             ],
             [
              0.5555555555555556,
              "#d8576b"
             ],
             [
              0.6666666666666666,
              "#ed7953"
             ],
             [
              0.7777777777777778,
              "#fb9f3a"
             ],
             [
              0.8888888888888888,
              "#fdca26"
             ],
             [
              1,
              "#f0f921"
             ]
            ],
            "type": "contour"
           }
          ],
          "contourcarpet": [
           {
            "colorbar": {
             "outlinewidth": 0,
             "ticks": ""
            },
            "type": "contourcarpet"
           }
          ],
          "heatmap": [
           {
            "colorbar": {
             "outlinewidth": 0,
             "ticks": ""
            },
            "colorscale": [
             [
              0,
              "#0d0887"
             ],
             [
              0.1111111111111111,
              "#46039f"
             ],
             [
              0.2222222222222222,
              "#7201a8"
             ],
             [
              0.3333333333333333,
              "#9c179e"
             ],
             [
              0.4444444444444444,
              "#bd3786"
             ],
             [
              0.5555555555555556,
              "#d8576b"
             ],
             [
              0.6666666666666666,
              "#ed7953"
             ],
             [
              0.7777777777777778,
              "#fb9f3a"
             ],
             [
              0.8888888888888888,
              "#fdca26"
             ],
             [
              1,
              "#f0f921"
             ]
            ],
            "type": "heatmap"
           }
          ],
          "heatmapgl": [
           {
            "colorbar": {
             "outlinewidth": 0,
             "ticks": ""
            },
            "colorscale": [
             [
              0,
              "#0d0887"
             ],
             [
              0.1111111111111111,
              "#46039f"
             ],
             [
              0.2222222222222222,
              "#7201a8"
             ],
             [
              0.3333333333333333,
              "#9c179e"
             ],
             [
              0.4444444444444444,
              "#bd3786"
             ],
             [
              0.5555555555555556,
              "#d8576b"
             ],
             [
              0.6666666666666666,
              "#ed7953"
             ],
             [
              0.7777777777777778,
              "#fb9f3a"
             ],
             [
              0.8888888888888888,
              "#fdca26"
             ],
             [
              1,
              "#f0f921"
             ]
            ],
            "type": "heatmapgl"
           }
          ],
          "histogram": [
           {
            "marker": {
             "colorbar": {
              "outlinewidth": 0,
              "ticks": ""
             }
            },
            "type": "histogram"
           }
          ],
          "histogram2d": [
           {
            "colorbar": {
             "outlinewidth": 0,
             "ticks": ""
            },
            "colorscale": [
             [
              0,
              "#0d0887"
             ],
             [
              0.1111111111111111,
              "#46039f"
             ],
             [
              0.2222222222222222,
              "#7201a8"
             ],
             [
              0.3333333333333333,
              "#9c179e"
             ],
             [
              0.4444444444444444,
              "#bd3786"
             ],
             [
              0.5555555555555556,
              "#d8576b"
             ],
             [
              0.6666666666666666,
              "#ed7953"
             ],
             [
              0.7777777777777778,
              "#fb9f3a"
             ],
             [
              0.8888888888888888,
              "#fdca26"
             ],
             [
              1,
              "#f0f921"
             ]
            ],
            "type": "histogram2d"
           }
          ],
          "histogram2dcontour": [
           {
            "colorbar": {
             "outlinewidth": 0,
             "ticks": ""
            },
            "colorscale": [
             [
              0,
              "#0d0887"
             ],
             [
              0.1111111111111111,
              "#46039f"
             ],
             [
              0.2222222222222222,
              "#7201a8"
             ],
             [
              0.3333333333333333,
              "#9c179e"
             ],
             [
              0.4444444444444444,
              "#bd3786"
             ],
             [
              0.5555555555555556,
              "#d8576b"
             ],
             [
              0.6666666666666666,
              "#ed7953"
             ],
             [
              0.7777777777777778,
              "#fb9f3a"
             ],
             [
              0.8888888888888888,
              "#fdca26"
             ],
             [
              1,
              "#f0f921"
             ]
            ],
            "type": "histogram2dcontour"
           }
          ],
          "mesh3d": [
           {
            "colorbar": {
             "outlinewidth": 0,
             "ticks": ""
            },
            "type": "mesh3d"
           }
          ],
          "parcoords": [
           {
            "line": {
             "colorbar": {
              "outlinewidth": 0,
              "ticks": ""
             }
            },
            "type": "parcoords"
           }
          ],
          "pie": [
           {
            "automargin": true,
            "type": "pie"
           }
          ],
          "scatter": [
           {
            "marker": {
             "colorbar": {
              "outlinewidth": 0,
              "ticks": ""
             }
            },
            "type": "scatter"
           }
          ],
          "scatter3d": [
           {
            "line": {
             "colorbar": {
              "outlinewidth": 0,
              "ticks": ""
             }
            },
            "marker": {
             "colorbar": {
              "outlinewidth": 0,
              "ticks": ""
             }
            },
            "type": "scatter3d"
           }
          ],
          "scattercarpet": [
           {
            "marker": {
             "colorbar": {
              "outlinewidth": 0,
              "ticks": ""
             }
            },
            "type": "scattercarpet"
           }
          ],
          "scattergeo": [
           {
            "marker": {
             "colorbar": {
              "outlinewidth": 0,
              "ticks": ""
             }
            },
            "type": "scattergeo"
           }
          ],
          "scattergl": [
           {
            "marker": {
             "colorbar": {
              "outlinewidth": 0,
              "ticks": ""
             }
            },
            "type": "scattergl"
           }
          ],
          "scattermapbox": [
           {
            "marker": {
             "colorbar": {
              "outlinewidth": 0,
              "ticks": ""
             }
            },
            "type": "scattermapbox"
           }
          ],
          "scatterpolar": [
           {
            "marker": {
             "colorbar": {
              "outlinewidth": 0,
              "ticks": ""
             }
            },
            "type": "scatterpolar"
           }
          ],
          "scatterpolargl": [
           {
            "marker": {
             "colorbar": {
              "outlinewidth": 0,
              "ticks": ""
             }
            },
            "type": "scatterpolargl"
           }
          ],
          "scatterternary": [
           {
            "marker": {
             "colorbar": {
              "outlinewidth": 0,
              "ticks": ""
             }
            },
            "type": "scatterternary"
           }
          ],
          "surface": [
           {
            "colorbar": {
             "outlinewidth": 0,
             "ticks": ""
            },
            "colorscale": [
             [
              0,
              "#0d0887"
             ],
             [
              0.1111111111111111,
              "#46039f"
             ],
             [
              0.2222222222222222,
              "#7201a8"
             ],
             [
              0.3333333333333333,
              "#9c179e"
             ],
             [
              0.4444444444444444,
              "#bd3786"
             ],
             [
              0.5555555555555556,
              "#d8576b"
             ],
             [
              0.6666666666666666,
              "#ed7953"
             ],
             [
              0.7777777777777778,
              "#fb9f3a"
             ],
             [
              0.8888888888888888,
              "#fdca26"
             ],
             [
              1,
              "#f0f921"
             ]
            ],
            "type": "surface"
           }
          ],
          "table": [
           {
            "cells": {
             "fill": {
              "color": "#EBF0F8"
             },
             "line": {
              "color": "white"
             }
            },
            "header": {
             "fill": {
              "color": "#C8D4E3"
             },
             "line": {
              "color": "white"
             }
            },
            "type": "table"
           }
          ]
         },
         "layout": {
          "annotationdefaults": {
           "arrowcolor": "#2a3f5f",
           "arrowhead": 0,
           "arrowwidth": 1
          },
          "coloraxis": {
           "colorbar": {
            "outlinewidth": 0,
            "ticks": ""
           }
          },
          "colorscale": {
           "diverging": [
            [
             0,
             "#8e0152"
            ],
            [
             0.1,
             "#c51b7d"
            ],
            [
             0.2,
             "#de77ae"
            ],
            [
             0.3,
             "#f1b6da"
            ],
            [
             0.4,
             "#fde0ef"
            ],
            [
             0.5,
             "#f7f7f7"
            ],
            [
             0.6,
             "#e6f5d0"
            ],
            [
             0.7,
             "#b8e186"
            ],
            [
             0.8,
             "#7fbc41"
            ],
            [
             0.9,
             "#4d9221"
            ],
            [
             1,
             "#276419"
            ]
           ],
           "sequential": [
            [
             0,
             "#0d0887"
            ],
            [
             0.1111111111111111,
             "#46039f"
            ],
            [
             0.2222222222222222,
             "#7201a8"
            ],
            [
             0.3333333333333333,
             "#9c179e"
            ],
            [
             0.4444444444444444,
             "#bd3786"
            ],
            [
             0.5555555555555556,
             "#d8576b"
            ],
            [
             0.6666666666666666,
             "#ed7953"
            ],
            [
             0.7777777777777778,
             "#fb9f3a"
            ],
            [
             0.8888888888888888,
             "#fdca26"
            ],
            [
             1,
             "#f0f921"
            ]
           ],
           "sequentialminus": [
            [
             0,
             "#0d0887"
            ],
            [
             0.1111111111111111,
             "#46039f"
            ],
            [
             0.2222222222222222,
             "#7201a8"
            ],
            [
             0.3333333333333333,
             "#9c179e"
            ],
            [
             0.4444444444444444,
             "#bd3786"
            ],
            [
             0.5555555555555556,
             "#d8576b"
            ],
            [
             0.6666666666666666,
             "#ed7953"
            ],
            [
             0.7777777777777778,
             "#fb9f3a"
            ],
            [
             0.8888888888888888,
             "#fdca26"
            ],
            [
             1,
             "#f0f921"
            ]
           ]
          },
          "colorway": [
           "#636efa",
           "#EF553B",
           "#00cc96",
           "#ab63fa",
           "#FFA15A",
           "#19d3f3",
           "#FF6692",
           "#B6E880",
           "#FF97FF",
           "#FECB52"
          ],
          "font": {
           "color": "#2a3f5f"
          },
          "geo": {
           "bgcolor": "white",
           "lakecolor": "white",
           "landcolor": "#E5ECF6",
           "showlakes": true,
           "showland": true,
           "subunitcolor": "white"
          },
          "hoverlabel": {
           "align": "left"
          },
          "hovermode": "closest",
          "mapbox": {
           "style": "light"
          },
          "paper_bgcolor": "white",
          "plot_bgcolor": "#E5ECF6",
          "polar": {
           "angularaxis": {
            "gridcolor": "white",
            "linecolor": "white",
            "ticks": ""
           },
           "bgcolor": "#E5ECF6",
           "radialaxis": {
            "gridcolor": "white",
            "linecolor": "white",
            "ticks": ""
           }
          },
          "scene": {
           "xaxis": {
            "backgroundcolor": "#E5ECF6",
            "gridcolor": "white",
            "gridwidth": 2,
            "linecolor": "white",
            "showbackground": true,
            "ticks": "",
            "zerolinecolor": "white"
           },
           "yaxis": {
            "backgroundcolor": "#E5ECF6",
            "gridcolor": "white",
            "gridwidth": 2,
            "linecolor": "white",
            "showbackground": true,
            "ticks": "",
            "zerolinecolor": "white"
           },
           "zaxis": {
            "backgroundcolor": "#E5ECF6",
            "gridcolor": "white",
            "gridwidth": 2,
            "linecolor": "white",
            "showbackground": true,
            "ticks": "",
            "zerolinecolor": "white"
           }
          },
          "shapedefaults": {
           "line": {
            "color": "#2a3f5f"
           }
          },
          "ternary": {
           "aaxis": {
            "gridcolor": "white",
            "linecolor": "white",
            "ticks": ""
           },
           "baxis": {
            "gridcolor": "white",
            "linecolor": "white",
            "ticks": ""
           },
           "bgcolor": "#E5ECF6",
           "caxis": {
            "gridcolor": "white",
            "linecolor": "white",
            "ticks": ""
           }
          },
          "title": {
           "x": 0.05
          },
          "xaxis": {
           "automargin": true,
           "gridcolor": "white",
           "linecolor": "white",
           "ticks": "",
           "title": {
            "standoff": 15
           },
           "zerolinecolor": "white",
           "zerolinewidth": 2
          },
          "yaxis": {
           "automargin": true,
           "gridcolor": "white",
           "linecolor": "white",
           "ticks": "",
           "title": {
            "standoff": 15
           },
           "zerolinecolor": "white",
           "zerolinewidth": 2
          }
         }
        },
        "title": {
         "text": "Parameter Plane"
        },
        "width": 1000
       }
      },
      "text/html": [
       "<div>                            <div id=\"a20842e6-4e47-46fc-9bab-293f45370c94\" class=\"plotly-graph-div\" style=\"height:525px; width:1000px;\"></div>            <script type=\"text/javascript\">                require([\"plotly\"], function(Plotly) {                    window.PLOTLYENV=window.PLOTLYENV || {};                                    if (document.getElementById(\"a20842e6-4e47-46fc-9bab-293f45370c94\")) {                    Plotly.newPlot(                        \"a20842e6-4e47-46fc-9bab-293f45370c94\",                        [{\"type\": \"surface\", \"z\": [[1.0, 1.0, 1.0, 1.0, 2.0, 2.0, 3.0, 3.0, 3.0, 3.0, 3.0, 2.0, 3.0, 4.0, 3.0, 5.0, 7.0, 8.0, 12.0, 14.0, 18.0, 23.0, 22.0, 24.0, 29.0, 29.0, 35.0, 31.0, 37.0, 41.0], [1.0, 1.0, 1.0, 1.0, 2.0, 2.0, 3.0, 3.0, 2.0, 2.0, 2.0, 3.0, 3.0, 3.0, 4.0, 4.0, 8.0, 10.0, 12.0, 15.0, 20.0, 22.0, 20.0, 26.0, 26.0, 27.0, 32.0, 32.0, 39.0, 39.0], [1.0, 1.0, 1.0, 1.0, 2.0, 2.0, 2.0, 2.0, 3.0, 2.0, 3.0, 2.0, 3.0, 3.0, 4.0, 5.0, 8.0, 9.0, 11.0, 14.0, 18.0, 20.0, 22.0, 25.0, 25.0, 31.0, 31.0, 36.0, 39.0, 38.0], [1.0, 1.0, 1.0, 1.0, 2.0, 2.0, 2.0, 2.0, 2.0, 2.0, 2.0, 2.0, 2.0, 4.0, 3.0, 4.0, 7.0, 8.0, 12.0, 15.0, 20.0, 17.0, 22.0, 22.0, 26.0, 31.0, 32.0, 34.0, 35.0, 41.0], [1.0, 1.0, 1.0, 1.0, 2.0, 2.0, 3.0, 3.0, 3.0, 2.0, 2.0, 2.0, 3.0, 3.0, 3.0, 4.0, 6.0, 10.0, 11.0, 13.0, 19.0, 21.0, 24.0, 25.0, 26.0, 30.0, 31.0, 34.0, 34.0, 37.0], [1.0, 1.0, 1.0, 1.0, 2.0, 2.0, 3.0, 2.0, 2.0, 3.0, 2.0, 2.0, 3.0, 3.0, 4.0, 6.0, 7.0, 9.0, 12.0, 15.0, 15.0, 18.0, 23.0, 23.0, 26.0, 30.0, 30.0, 31.0, 39.0, 39.0], [1.0, 1.0, 1.0, 1.0, 2.0, 2.0, 2.0, 3.0, 2.0, 2.0, 2.0, 3.0, 3.0, 4.0, 4.0, 5.0, 7.0, 9.0, 11.0, 17.0, 17.0, 16.0, 22.0, 22.0, 24.0, 30.0, 33.0, 33.0, 38.0, 44.0], [1.0, 1.0, 1.0, 1.0, 2.0, 2.0, 2.0, 2.0, 3.0, 3.0, 2.0, 3.0, 3.0, 3.0, 4.0, 5.0, 8.0, 9.0, 11.0, 15.0, 17.0, 20.0, 26.0, 26.0, 26.0, 29.0, 30.0, 33.0, 37.0, 39.0], [1.0, 1.0, 1.0, 1.0, 2.0, 2.0, 2.0, 2.0, 3.0, 3.0, 2.0, 2.0, 4.0, 3.0, 4.0, 4.0, 7.0, 10.0, 12.0, 15.0, 17.0, 18.0, 23.0, 27.0, 26.0, 31.0, 31.0, 33.0, 38.0, 35.0], [1.0, 1.0, 1.0, 1.0, 2.0, 2.0, 2.0, 3.0, 3.0, 2.0, 2.0, 3.0, 3.0, 3.0, 4.0, 5.0, 7.0, 10.0, 12.0, 12.0, 15.0, 16.0, 18.0, 22.0, 27.0, 29.0, 31.0, 35.0, 40.0, 41.0], [1.0, 1.0, 1.0, 1.0, 1.0, 2.0, 2.0, 2.0, 2.0, 2.0, 2.0, 2.0, 3.0, 3.0, 3.0, 5.0, 7.0, 10.0, 12.0, 14.0, 15.0, 18.0, 18.0, 25.0, 24.0, 29.0, 32.0, 35.0, 35.0, 43.0], [1.0, 1.0, 1.0, 1.0, 1.0, 2.0, 2.0, 2.0, 2.0, 2.0, 2.0, 2.0, 4.0, 3.0, 4.0, 4.0, 7.0, 10.0, 13.0, 12.0, 14.0, 17.0, 22.0, 22.0, 25.0, 31.0, 31.0, 35.0, 39.0, 37.0], [1.0, 1.0, 1.0, 1.0, 1.0, 2.0, 2.0, 2.0, 2.0, 2.0, 2.0, 3.0, 3.0, 3.0, 3.0, 5.0, 7.0, 11.0, 10.0, 13.0, 16.0, 21.0, 21.0, 21.0, 23.0, 29.0, 31.0, 33.0, 33.0, 40.0], [1.0, 1.0, 1.0, 1.0, 2.0, 2.0, 2.0, 2.0, 2.0, 2.0, 2.0, 3.0, 2.0, 3.0, 4.0, 5.0, 7.0, 9.0, 12.0, 12.0, 16.0, 17.0, 20.0, 22.0, 24.0, 31.0, 30.0, 36.0, 35.0, 41.0], [1.0, 1.0, 1.0, 1.0, 1.0, 2.0, 2.0, 2.0, 3.0, 2.0, 3.0, 3.0, 3.0, 3.0, 4.0, 5.0, 6.0, 8.0, 12.0, 14.0, 17.0, 17.0, 19.0, 22.0, 25.0, 25.0, 29.0, 35.0, 39.0, 40.0], [1.0, 1.0, 1.0, 1.0, 1.0, 2.0, 2.0, 2.0, 2.0, 3.0, 2.0, 2.0, 3.0, 3.0, 4.0, 5.0, 6.0, 9.0, 12.0, 14.0, 15.0, 18.0, 20.0, 22.0, 25.0, 29.0, 32.0, 37.0, 38.0, 41.0], [1.0, 1.0, 1.0, 1.0, 2.0, 2.0, 2.0, 2.0, 3.0, 3.0, 2.0, 2.0, 3.0, 4.0, 4.0, 4.0, 7.0, 8.0, 11.0, 12.0, 18.0, 16.0, 19.0, 20.0, 23.0, 27.0, 28.0, 35.0, 40.0, 42.0], [1.0, 1.0, 1.0, 1.0, 1.0, 2.0, 2.0, 2.0, 2.0, 2.0, 2.0, 2.0, 3.0, 3.0, 3.0, 6.0, 7.0, 8.0, 10.0, 13.0, 14.0, 17.0, 20.0, 24.0, 27.0, 27.0, 28.0, 33.0, 36.0, 42.0], [1.0, 1.0, 1.0, 1.0, 2.0, 2.0, 2.0, 2.0, 2.0, 2.0, 3.0, 2.0, 4.0, 3.0, 4.0, 6.0, 9.0, 8.0, 12.0, 14.0, 16.0, 18.0, 19.0, 25.0, 23.0, 27.0, 35.0, 35.0, 37.0, 35.0], [1.0, 1.0, 1.0, 1.0, 2.0, 2.0, 2.0, 2.0, 3.0, 2.0, 2.0, 2.0, 2.0, 3.0, 5.0, 6.0, 8.0, 8.0, 13.0, 13.0, 15.0, 18.0, 20.0, 23.0, 25.0, 29.0, 32.0, 32.0, 36.0, 39.0], [1.0, 1.0, 1.0, 1.0, 2.0, 2.0, 2.0, 2.0, 2.0, 2.0, 2.0, 3.0, 2.0, 2.0, 5.0, 6.0, 8.0, 8.0, 10.0, 13.0, 17.0, 21.0, 18.0, 25.0, 24.0, 29.0, 29.0, 34.0, 34.0, 40.0], [1.0, 1.0, 1.0, 1.0, 1.0, 2.0, 2.0, 2.0, 2.0, 2.0, 2.0, 2.0, 3.0, 3.0, 4.0, 5.0, 6.0, 10.0, 13.0, 14.0, 15.0, 17.0, 20.0, 23.0, 25.0, 26.0, 33.0, 31.0, 39.0, 39.0], [1.0, 1.0, 1.0, 1.0, 2.0, 2.0, 2.0, 2.0, 2.0, 3.0, 2.0, 2.0, 3.0, 4.0, 4.0, 5.0, 7.0, 9.0, 10.0, 14.0, 17.0, 20.0, 19.0, 22.0, 25.0, 28.0, 31.0, 28.0, 38.0, 39.0], [1.0, 1.0, 1.0, 1.0, 2.0, 1.0, 2.0, 2.0, 2.0, 3.0, 2.0, 3.0, 3.0, 3.0, 4.0, 5.0, 7.0, 8.0, 12.0, 15.0, 16.0, 18.0, 17.0, 26.0, 26.0, 30.0, 29.0, 32.0, 34.0, 38.0], [1.0, 1.0, 1.0, 1.0, 1.0, 1.0, 2.0, 2.0, 3.0, 2.0, 2.0, 2.0, 2.0, 2.0, 5.0, 5.0, 6.0, 8.0, 13.0, 14.0, 16.0, 20.0, 18.0, 23.0, 23.0, 31.0, 32.0, 33.0, 34.0, 38.0], [1.0, 1.0, 1.0, 1.0, 1.0, 2.0, 2.0, 2.0, 2.0, 2.0, 2.0, 2.0, 2.0, 3.0, 4.0, 5.0, 8.0, 9.0, 11.0, 13.0, 14.0, 17.0, 20.0, 21.0, 25.0, 29.0, 31.0, 34.0, 37.0, 41.0], [1.0, 1.0, 1.0, 1.0, 1.0, 1.0, 2.0, 2.0, 2.0, 3.0, 2.0, 2.0, 2.0, 3.0, 5.0, 6.0, 7.0, 10.0, 13.0, 13.0, 14.0, 19.0, 21.0, 22.0, 23.0, 27.0, 31.0, 31.0, 34.0, 37.0], [1.0, 1.0, 1.0, 1.0, 1.0, 2.0, 2.0, 2.0, 2.0, 2.0, 2.0, 3.0, 2.0, 3.0, 4.0, 5.0, 6.0, 10.0, 10.0, 17.0, 18.0, 18.0, 19.0, 24.0, 27.0, 29.0, 31.0, 35.0, 36.0, 41.0], [1.0, 1.0, 1.0, 1.0, 2.0, 1.0, 2.0, 2.0, 2.0, 2.0, 2.0, 2.0, 2.0, 3.0, 5.0, 5.0, 7.0, 9.0, 9.0, 16.0, 19.0, 17.0, 19.0, 23.0, 27.0, 24.0, 33.0, 32.0, 34.0, 40.0], [1.0, 1.0, 1.0, 1.0, 1.0, 1.0, 2.0, 2.0, 3.0, 2.0, 2.0, 2.0, 2.0, 3.0, 4.0, 6.0, 7.0, 10.0, 12.0, 15.0, 15.0, 15.0, 18.0, 23.0, 25.0, 27.0, 32.0, 36.0, 38.0, 38.0]]}],                        {\"autosize\": false, \"margin\": {\"b\": 5, \"l\": 65, \"r\": 150, \"t\": 190}, \"scene\": {\"xaxis\": {\"ticktext\": [\"0\", \"0.1\", \"0.2\", \"0.3\", \"0.4\", \"0.5\", \"0.6\", \"0.7\", \"0.8\", \"0.9\", \"1\"], \"tickvals\": [0, 5, 10, 15, 20, 25, 30, 35, 40, 45, 50], \"title\": {\"text\": \"I.C.\"}}, \"yaxis\": {\"ticktext\": [\"0\", \"0.1\", \"0.2\", \"0.3\", \"0.4\", \"0.5\", \"0.6\", \"0.7\", \"0.8\", \"0.9\", \"1\"], \"tickvals\": [0, 5, 10, 15, 20, 25, 30, 35, 40, 45, 50], \"title\": {\"text\": \"R.P.\"}}, \"zaxis\": {\"title\": {\"text\": \"Community Count\"}}}, \"template\": {\"data\": {\"bar\": [{\"error_x\": {\"color\": \"#2a3f5f\"}, \"error_y\": {\"color\": \"#2a3f5f\"}, \"marker\": {\"line\": {\"color\": \"#E5ECF6\", \"width\": 0.5}}, \"type\": \"bar\"}], \"barpolar\": [{\"marker\": {\"line\": {\"color\": \"#E5ECF6\", \"width\": 0.5}}, \"type\": \"barpolar\"}], \"carpet\": [{\"aaxis\": {\"endlinecolor\": \"#2a3f5f\", \"gridcolor\": \"white\", \"linecolor\": \"white\", \"minorgridcolor\": \"white\", \"startlinecolor\": \"#2a3f5f\"}, \"baxis\": {\"endlinecolor\": \"#2a3f5f\", \"gridcolor\": \"white\", \"linecolor\": \"white\", \"minorgridcolor\": \"white\", \"startlinecolor\": \"#2a3f5f\"}, \"type\": \"carpet\"}], \"choropleth\": [{\"colorbar\": {\"outlinewidth\": 0, \"ticks\": \"\"}, \"type\": \"choropleth\"}], \"contour\": [{\"colorbar\": {\"outlinewidth\": 0, \"ticks\": \"\"}, \"colorscale\": [[0.0, \"#0d0887\"], [0.1111111111111111, \"#46039f\"], [0.2222222222222222, \"#7201a8\"], [0.3333333333333333, \"#9c179e\"], [0.4444444444444444, \"#bd3786\"], [0.5555555555555556, \"#d8576b\"], [0.6666666666666666, \"#ed7953\"], [0.7777777777777778, \"#fb9f3a\"], [0.8888888888888888, \"#fdca26\"], [1.0, \"#f0f921\"]], \"type\": \"contour\"}], \"contourcarpet\": [{\"colorbar\": {\"outlinewidth\": 0, \"ticks\": \"\"}, \"type\": \"contourcarpet\"}], \"heatmap\": [{\"colorbar\": {\"outlinewidth\": 0, \"ticks\": \"\"}, \"colorscale\": [[0.0, \"#0d0887\"], [0.1111111111111111, \"#46039f\"], [0.2222222222222222, \"#7201a8\"], [0.3333333333333333, \"#9c179e\"], [0.4444444444444444, \"#bd3786\"], [0.5555555555555556, \"#d8576b\"], [0.6666666666666666, \"#ed7953\"], [0.7777777777777778, \"#fb9f3a\"], [0.8888888888888888, \"#fdca26\"], [1.0, \"#f0f921\"]], \"type\": \"heatmap\"}], \"heatmapgl\": [{\"colorbar\": {\"outlinewidth\": 0, \"ticks\": \"\"}, \"colorscale\": [[0.0, \"#0d0887\"], [0.1111111111111111, \"#46039f\"], [0.2222222222222222, \"#7201a8\"], [0.3333333333333333, \"#9c179e\"], [0.4444444444444444, \"#bd3786\"], [0.5555555555555556, \"#d8576b\"], [0.6666666666666666, \"#ed7953\"], [0.7777777777777778, \"#fb9f3a\"], [0.8888888888888888, \"#fdca26\"], [1.0, \"#f0f921\"]], \"type\": \"heatmapgl\"}], \"histogram\": [{\"marker\": {\"colorbar\": {\"outlinewidth\": 0, \"ticks\": \"\"}}, \"type\": \"histogram\"}], \"histogram2d\": [{\"colorbar\": {\"outlinewidth\": 0, \"ticks\": \"\"}, \"colorscale\": [[0.0, \"#0d0887\"], [0.1111111111111111, \"#46039f\"], [0.2222222222222222, \"#7201a8\"], [0.3333333333333333, \"#9c179e\"], [0.4444444444444444, \"#bd3786\"], [0.5555555555555556, \"#d8576b\"], [0.6666666666666666, \"#ed7953\"], [0.7777777777777778, \"#fb9f3a\"], [0.8888888888888888, \"#fdca26\"], [1.0, \"#f0f921\"]], \"type\": \"histogram2d\"}], \"histogram2dcontour\": [{\"colorbar\": {\"outlinewidth\": 0, \"ticks\": \"\"}, \"colorscale\": [[0.0, \"#0d0887\"], [0.1111111111111111, \"#46039f\"], [0.2222222222222222, \"#7201a8\"], [0.3333333333333333, \"#9c179e\"], [0.4444444444444444, \"#bd3786\"], [0.5555555555555556, \"#d8576b\"], [0.6666666666666666, \"#ed7953\"], [0.7777777777777778, \"#fb9f3a\"], [0.8888888888888888, \"#fdca26\"], [1.0, \"#f0f921\"]], \"type\": \"histogram2dcontour\"}], \"mesh3d\": [{\"colorbar\": {\"outlinewidth\": 0, \"ticks\": \"\"}, \"type\": \"mesh3d\"}], \"parcoords\": [{\"line\": {\"colorbar\": {\"outlinewidth\": 0, \"ticks\": \"\"}}, \"type\": \"parcoords\"}], \"pie\": [{\"automargin\": true, \"type\": \"pie\"}], \"scatter\": [{\"marker\": {\"colorbar\": {\"outlinewidth\": 0, \"ticks\": \"\"}}, \"type\": \"scatter\"}], \"scatter3d\": [{\"line\": {\"colorbar\": {\"outlinewidth\": 0, \"ticks\": \"\"}}, \"marker\": {\"colorbar\": {\"outlinewidth\": 0, \"ticks\": \"\"}}, \"type\": \"scatter3d\"}], \"scattercarpet\": [{\"marker\": {\"colorbar\": {\"outlinewidth\": 0, \"ticks\": \"\"}}, \"type\": \"scattercarpet\"}], \"scattergeo\": [{\"marker\": {\"colorbar\": {\"outlinewidth\": 0, \"ticks\": \"\"}}, \"type\": \"scattergeo\"}], \"scattergl\": [{\"marker\": {\"colorbar\": {\"outlinewidth\": 0, \"ticks\": \"\"}}, \"type\": \"scattergl\"}], \"scattermapbox\": [{\"marker\": {\"colorbar\": {\"outlinewidth\": 0, \"ticks\": \"\"}}, \"type\": \"scattermapbox\"}], \"scatterpolar\": [{\"marker\": {\"colorbar\": {\"outlinewidth\": 0, \"ticks\": \"\"}}, \"type\": \"scatterpolar\"}], \"scatterpolargl\": [{\"marker\": {\"colorbar\": {\"outlinewidth\": 0, \"ticks\": \"\"}}, \"type\": \"scatterpolargl\"}], \"scatterternary\": [{\"marker\": {\"colorbar\": {\"outlinewidth\": 0, \"ticks\": \"\"}}, \"type\": \"scatterternary\"}], \"surface\": [{\"colorbar\": {\"outlinewidth\": 0, \"ticks\": \"\"}, \"colorscale\": [[0.0, \"#0d0887\"], [0.1111111111111111, \"#46039f\"], [0.2222222222222222, \"#7201a8\"], [0.3333333333333333, \"#9c179e\"], [0.4444444444444444, \"#bd3786\"], [0.5555555555555556, \"#d8576b\"], [0.6666666666666666, \"#ed7953\"], [0.7777777777777778, \"#fb9f3a\"], [0.8888888888888888, \"#fdca26\"], [1.0, \"#f0f921\"]], \"type\": \"surface\"}], \"table\": [{\"cells\": {\"fill\": {\"color\": \"#EBF0F8\"}, \"line\": {\"color\": \"white\"}}, \"header\": {\"fill\": {\"color\": \"#C8D4E3\"}, \"line\": {\"color\": \"white\"}}, \"type\": \"table\"}]}, \"layout\": {\"annotationdefaults\": {\"arrowcolor\": \"#2a3f5f\", \"arrowhead\": 0, \"arrowwidth\": 1}, \"coloraxis\": {\"colorbar\": {\"outlinewidth\": 0, \"ticks\": \"\"}}, \"colorscale\": {\"diverging\": [[0, \"#8e0152\"], [0.1, \"#c51b7d\"], [0.2, \"#de77ae\"], [0.3, \"#f1b6da\"], [0.4, \"#fde0ef\"], [0.5, \"#f7f7f7\"], [0.6, \"#e6f5d0\"], [0.7, \"#b8e186\"], [0.8, \"#7fbc41\"], [0.9, \"#4d9221\"], [1, \"#276419\"]], \"sequential\": [[0.0, \"#0d0887\"], [0.1111111111111111, \"#46039f\"], [0.2222222222222222, \"#7201a8\"], [0.3333333333333333, \"#9c179e\"], [0.4444444444444444, \"#bd3786\"], [0.5555555555555556, \"#d8576b\"], [0.6666666666666666, \"#ed7953\"], [0.7777777777777778, \"#fb9f3a\"], [0.8888888888888888, \"#fdca26\"], [1.0, \"#f0f921\"]], \"sequentialminus\": [[0.0, \"#0d0887\"], [0.1111111111111111, \"#46039f\"], [0.2222222222222222, \"#7201a8\"], [0.3333333333333333, \"#9c179e\"], [0.4444444444444444, \"#bd3786\"], [0.5555555555555556, \"#d8576b\"], [0.6666666666666666, \"#ed7953\"], [0.7777777777777778, \"#fb9f3a\"], [0.8888888888888888, \"#fdca26\"], [1.0, \"#f0f921\"]]}, \"colorway\": [\"#636efa\", \"#EF553B\", \"#00cc96\", \"#ab63fa\", \"#FFA15A\", \"#19d3f3\", \"#FF6692\", \"#B6E880\", \"#FF97FF\", \"#FECB52\"], \"font\": {\"color\": \"#2a3f5f\"}, \"geo\": {\"bgcolor\": \"white\", \"lakecolor\": \"white\", \"landcolor\": \"#E5ECF6\", \"showlakes\": true, \"showland\": true, \"subunitcolor\": \"white\"}, \"hoverlabel\": {\"align\": \"left\"}, \"hovermode\": \"closest\", \"mapbox\": {\"style\": \"light\"}, \"paper_bgcolor\": \"white\", \"plot_bgcolor\": \"#E5ECF6\", \"polar\": {\"angularaxis\": {\"gridcolor\": \"white\", \"linecolor\": \"white\", \"ticks\": \"\"}, \"bgcolor\": \"#E5ECF6\", \"radialaxis\": {\"gridcolor\": \"white\", \"linecolor\": \"white\", \"ticks\": \"\"}}, \"scene\": {\"xaxis\": {\"backgroundcolor\": \"#E5ECF6\", \"gridcolor\": \"white\", \"gridwidth\": 2, \"linecolor\": \"white\", \"showbackground\": true, \"ticks\": \"\", \"zerolinecolor\": \"white\"}, \"yaxis\": {\"backgroundcolor\": \"#E5ECF6\", \"gridcolor\": \"white\", \"gridwidth\": 2, \"linecolor\": \"white\", \"showbackground\": true, \"ticks\": \"\", \"zerolinecolor\": \"white\"}, \"zaxis\": {\"backgroundcolor\": \"#E5ECF6\", \"gridcolor\": \"white\", \"gridwidth\": 2, \"linecolor\": \"white\", \"showbackground\": true, \"ticks\": \"\", \"zerolinecolor\": \"white\"}}, \"shapedefaults\": {\"line\": {\"color\": \"#2a3f5f\"}}, \"ternary\": {\"aaxis\": {\"gridcolor\": \"white\", \"linecolor\": \"white\", \"ticks\": \"\"}, \"baxis\": {\"gridcolor\": \"white\", \"linecolor\": \"white\", \"ticks\": \"\"}, \"bgcolor\": \"#E5ECF6\", \"caxis\": {\"gridcolor\": \"white\", \"linecolor\": \"white\", \"ticks\": \"\"}}, \"title\": {\"x\": 0.05}, \"xaxis\": {\"automargin\": true, \"gridcolor\": \"white\", \"linecolor\": \"white\", \"ticks\": \"\", \"title\": {\"standoff\": 15}, \"zerolinecolor\": \"white\", \"zerolinewidth\": 2}, \"yaxis\": {\"automargin\": true, \"gridcolor\": \"white\", \"linecolor\": \"white\", \"ticks\": \"\", \"title\": {\"standoff\": 15}, \"zerolinecolor\": \"white\", \"zerolinewidth\": 2}}}, \"title\": {\"text\": \"Parameter Plane\"}, \"width\": 1000},                        {\"responsive\": true}                    ).then(function(){\n",
       "                            \n",
       "var gd = document.getElementById('a20842e6-4e47-46fc-9bab-293f45370c94');\n",
       "var x = new MutationObserver(function (mutations, observer) {{\n",
       "        var display = window.getComputedStyle(gd).display;\n",
       "        if (!display || display === 'none') {{\n",
       "            console.log([gd, 'removed!']);\n",
       "            Plotly.purge(gd);\n",
       "            observer.disconnect();\n",
       "        }}\n",
       "}});\n",
       "\n",
       "// Listen for the removal of the full notebook cells\n",
       "var notebookContainer = gd.closest('#notebook-container');\n",
       "if (notebookContainer) {{\n",
       "    x.observe(notebookContainer, {childList: true});\n",
       "}}\n",
       "\n",
       "// Listen for the clearing of the current output cell\n",
       "var outputEl = gd.closest('.output');\n",
       "if (outputEl) {{\n",
       "    x.observe(outputEl, {childList: true});\n",
       "}}\n",
       "\n",
       "                        })                };                });            </script>        </div>"
      ]
     },
     "metadata": {},
     "output_type": "display_data"
    }
   ],
   "source": [
    "fig = go.Figure(data=[go.Surface(z=parameter_plane)])\n",
    "\n",
    "fig.update_layout(title='Parameter Plane', autosize=False, scene = dict(xaxis = dict(ticktext=['0','0.1','0.2','0.3','0.4','0.5','0.6','0.7','0.8','0.9','1'],tickvals= [i*5 for i in range(11)]),\n",
    "                     yaxis = dict(ticktext=['0','0.1','0.2','0.3','0.4','0.5','0.6','0.7','0.8','0.9','1'],tickvals= [i*5 for i in range(11)]),\n",
    "                    xaxis_title='I.C.',\n",
    "                    yaxis_title='R.P.',\n",
    "                    zaxis_title='Community Count'), width=1000, margin=dict(l=65, r=150, b=5, t=190))\n",
    "\n",
    "py.iplot(fig, filename='parameter_plane')\n",
    "\n",
    "fig.show()"
   ]
  },
  {
   "cell_type": "code",
   "execution_count": null,
   "metadata": {},
   "outputs": [],
   "source": [
    "fig = go.Figure(data=[go.Surface(z=parameter_plane)])\n",
    "\n",
    "fig.update_layout(title='Parameter Plane', autosize=False, scene = dict(xaxis = dict(ticktext=['0','0.1','0.2','0.3','0.4','0.5','0.6','0.7','0.8','0.9','1'],tickvals= [i*5 for i in range(11)]),\n",
    "                     yaxis = dict(ticktext=['0','0.1','0.2','0.3','0.4','0.5','0.6','0.7','0.8','0.9','1'],tickvals= [i*5 for i in range(11)]),\n",
    "                    xaxis_title='I.C.',\n",
    "                    yaxis_title='R.P.',\n",
    "                    zaxis_title='Community Count'), width=1000, margin=dict(l=65, r=150, b=5, t=190))\n",
    "\n",
    "py.iplot(fig, filename='parameter_plane')\n",
    "\n",
    "fig.show()"
   ]
  },
  {
   "cell_type": "code",
   "execution_count": null,
   "metadata": {},
   "outputs": [],
   "source": []
  },
  {
   "cell_type": "code",
   "execution_count": null,
   "metadata": {},
   "outputs": [],
   "source": []
  },
  {
   "cell_type": "code",
   "execution_count": null,
   "metadata": {},
   "outputs": [],
   "source": []
  }
 ],
 "metadata": {
  "kernelspec": {
   "display_name": "Python 3",
   "language": "python",
   "name": "python3"
  },
  "language_info": {
   "codemirror_mode": {
    "name": "ipython",
    "version": 3
   },
   "file_extension": ".py",
   "mimetype": "text/x-python",
   "name": "python",
   "nbconvert_exporter": "python",
   "pygments_lexer": "ipython3",
   "version": "3.7.6"
  }
 },
 "nbformat": 4,
 "nbformat_minor": 4
}
