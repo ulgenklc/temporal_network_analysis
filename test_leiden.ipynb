{
 "cells": [
  {
   "cell_type": "code",
   "execution_count": 1,
   "metadata": {},
   "outputs": [],
   "source": [
    "import numpy as np\n",
    "import matplotlib.pyplot as plt\n",
    "import matplotlib as mpl\n",
    "import random\n",
    "from scipy.ndimage import gaussian_filter1d\n",
    "from math import floor\n",
    "import leidenalg as la\n",
    "import igraph as ig\n",
    "import csv\n",
    "import networkx as nx"
   ]
  },
  {
   "cell_type": "code",
   "execution_count": 2,
   "metadata": {},
   "outputs": [],
   "source": [
    "class temporal_network:#object for creating node-aligned(every node exists every layer)\n",
    "                       #with diagonal coupling(inter-layer edges exist only between node to itself)\n",
    "        \n",
    "    ##################################\n",
    "    # TODO: extend omega(scalar) for vector and matrix\n",
    "    ##################################\n",
    "        \n",
    "    def __init__(self, size, length, data, **kwargs):\n",
    "        \n",
    "        if length < 1: raise ValueError('Object should be a multilayer network with at least 2 layers')\n",
    "        if size < 3: raise ValueError('Layers must have at least 3 nodes')\n",
    "        \n",
    "        self.size = size # number of nodes in every layer\n",
    "        self.length = length # number of layers\n",
    "        self.nodes = [i for i in range(self.size)]\n",
    "        \n",
    "        #### data: supra__adjacency, list_adjacency, edge_list\n",
    "        \n",
    "        ##         if supra__adjacency: creates the list adjacency matrix\n",
    "        ##\n",
    "        ##                     --- additional arguments ---\n",
    "        ##                       - supra_adjacency: supra adjacency matrix of shape (size*time x size*time)\n",
    "        \n",
    "        \n",
    "        ##\n",
    "        ##         if edge__list: creates directed weighted multilayer network from the egde quadraplets\n",
    "        ##                      given of the form (i,j,w,t). supra_adjacency and list_adjacency matrices \n",
    "        ##                      are automatically created. Caveat: if you use edge_list only firing neurons are going\n",
    "        ##                      to be taken ito consideration.\n",
    "        ##\n",
    "        ##                     --- additional arguments ---\n",
    "        ##                       - edge_list: list of quadreplets e.g. [(0,2,w1,1),(2,1,w2,1),(0,1,w3,2),(0,2,w4,2)]\n",
    "        ##                       - omega: interlayer coupling strength, can be a float only for now\n",
    "        ##                       - kind: if ordinal, only adjacent layers gets connected with strength scalar 'omega'\n",
    "        ##                               if cardinal, all layers get connected w/ each other w/ strength scalar 'omega'\n",
    "        \n",
    "        \n",
    "        ##         if list__adjacency: creates the supra adjacency matrix from given list of adjacency matrices\n",
    "        ##                             of monolayer networks\n",
    "        ##                             TODO:add a warning to check if the adjacency matrices are node-aligned\n",
    "        ##                      \n",
    "        ##              \n",
    "        ##                     --- additional arguments ---\n",
    "        ##                       - list_adjacency: list of length 'length' that contains individual adjacency\n",
    "        ##                                         matrices of each layer that are numpy arrays\n",
    "        ##                       - omega: interlayer coupling strength, can be a float only for now\n",
    "        ##                       - kind : if ordinal, only adjacent layers gets connected w/ strength scalar'omega'\n",
    "        ##                                if cardinal, all layers get connected w/ each other w/ strength scalar'omega'\n",
    "        ##\n",
    "        ####\n",
    "                    \n",
    "        if  data == 'supra__adjacency':\n",
    "            self.supra_adjacency = kwargs['supra_adjacency']\n",
    "            list_adjacency = [ [] for i in range(length) ]\n",
    "            \n",
    "            for i in range(self.length):\n",
    "                list_adjacency[i] = self.supra_adjacency[i*self.size:(i+1)*self.size,i*self.size:(i+1)*self.size]\n",
    "            \n",
    "            self.list_adjacency = list_adjacency\n",
    "            \n",
    "            edge_list = []\n",
    "            for i in range(self.length):\n",
    "                A = self.list_adjacency[i]\n",
    "                firing = np.transpose(np.nonzero(A))\n",
    "                for j,m in enumerate(firing):\n",
    "                    quadreplet =(m[0],m[1],A[m[0],m[1]],i)\n",
    "                    edge_list.append(quadreplet)\n",
    "            self.edgelist = edge_list\n",
    "                \n",
    "        \n",
    "        elif data == 'edge__list':\n",
    "            self.edgelist = kwargs['edge_list']\n",
    "            supra_adjacency = np.zeros((self.size*self.length,self.size*self.length))\n",
    "            list_adjacency = [ [] for i in range(self.length) ]\n",
    "            for q in range(self.length):\n",
    "                list_adjacency[q]=np.zeros((self.size,self.size))\n",
    "            \n",
    "            for k,e in enumerate(self.edgelist):\n",
    "                i,j,w,t = e[0], e[1], e[2],e[3]\n",
    "                supra_adjacency[self.size*(t)+i][self.size*(t)+j] = w\n",
    "                list_adjacency[t][i][j] = w\n",
    "\n",
    "        \n",
    "            ##filling off-diagonal blocks\n",
    "            if kwargs['kind'] == 'ordinal':\n",
    "                for n in range(self.size*(self.length-1)):\n",
    "                    supra_adjacency[n][n+self.size] = kwargs['omega']\n",
    "                    supra_adjacency[n+self.size][n] = kwargs['omega']\n",
    "                \n",
    "            elif kwargs['kind'] == 'cardinal':\n",
    "                i = 0\n",
    "                while self.length-i != 0:\n",
    "                    i = i+1\n",
    "                    for n in range(self.size*(self.length-i)):\n",
    "                        supra_adjacency[n][n+i*self.size] = kwargs['omega']\n",
    "                        supra_adjacency[n+i*self.size][n] = kwargs['omega']\n",
    "            \n",
    "            self.supra_adjacency = supra_adjacency\n",
    "            self.list_adjacency = list_adjacency\n",
    "            \n",
    "        elif data == 'list__adjacency':\n",
    "            self.list_adjacency = kwargs['list_adjacency']\n",
    "            supra_adjacency = np.zeros((self.size*self.length,self.size*self.length))\n",
    "            \n",
    "            for i in range(self.length):\n",
    "                supra_adjacency[i*self.size:(i+1)*self.size,i*self.size:(i+1)*self.size] = self.list_adjacency[i]\n",
    "            \n",
    "            ##filling off-diagonal blocks\n",
    "            if kwargs['kind'] == 'ordinal':\n",
    "                for n in range(self.size*(self.length-1)):\n",
    "                    supra_adjacency[n][n+self.size] = kwargs['omega']\n",
    "                    supra_adjacency[n+self.size][n] = kwargs['omega']\n",
    "                \n",
    "            elif kwargs['kind'] == 'cardinal':\n",
    "                i = 0\n",
    "                while self.length-i != 0:\n",
    "                    i = i+1\n",
    "                    for n in range(self.size*(self.length-i)):\n",
    "                        supra_adjacency[n][n+i*self.size] = kwargs['omega']\n",
    "                        supra_adjacency[n+i*self.size][n] = kwargs['omega']\n",
    "            \n",
    "            self.supra_adjacency = supra_adjacency\n",
    "            \n",
    "            edge_list = []\n",
    "            for i in range(self.length):\n",
    "                A = self.list_adjacency[i]\n",
    "                firing = np.transpose(np.nonzero(A))\n",
    "                for j,m in enumerate(firing):\n",
    "                    quadreplet =(m[0],m[1],A[m[0],m[1]],i)\n",
    "                    edge_list.append(quadreplet)\n",
    "            self.edgelist = edge_list\n",
    "            \n",
    "    def aggragate(self, normalized = True):\n",
    "        t = self.length\n",
    "        n = self.size\n",
    "        aggragated = np.zeros((n,n))\n",
    "        \n",
    "        for i,c in enumerate(self.list_adjacency):\n",
    "            aggragated = aggragated + c\n",
    "            \n",
    "        if normalized: return (aggragated/t)\n",
    "        else: return (aggragated)\n",
    "            \n",
    "    def modularity_matrix(self, omega, gamma):##TODO: fix modularity matrix\n",
    "        N = self.size\n",
    "        T = self.length\n",
    "        B = np.zeros((N*T,N*T))\n",
    "        two_mu = 0\n",
    "        for i in range(T):\n",
    "            k = np.sum(self.multi_array[i],0)\n",
    "            two_m = np.sum(k,0)\n",
    "            two_mu = two_mu + two_m\n",
    "            B[i*N:(i+1)*N,i*N:(i+1)*N] = self.multi_array[i] - (gamma * k.T*k)/(two_m)\n",
    "        two_mu = two_mu + 2*omega*N*(T-1)\n",
    "        \n",
    "        for p in range(N*(T-1)):\n",
    "            B[p][p+N] = omega \n",
    "            B[p+N][p] = omega\n",
    "            \n",
    "        return(B)\n",
    "    \n",
    "    def binarize(self, array):\n",
    "        n,t = array.shape\n",
    "        binary_spikes = np.zeros((n,t))\n",
    "        for i in range(n):\n",
    "            for j in range(t):\n",
    "                if array[i][j] == 0: pass\n",
    "                else: binary_spikes[i][j] = 1\n",
    "        return(binary_spikes)\n",
    "    \n",
    "    def bin_time_series(self, array, binsize, gaussian = True, **kwargs):\n",
    "        #input: nxt matrix \n",
    "        #returns: binned time series i.e. l x n x binsize\n",
    "    \n",
    "        n = array.shape[0] # number of neurons\n",
    "        totalsize = array.shape[1] # total duration of spikes\n",
    "        l = int(totalsize/binsize) # number of resulting layers\n",
    "        if gaussian:\n",
    "            for i in range(n):\n",
    "                array[i] = gaussian_filter(array[i],kwargs['sigma'])\n",
    "    \n",
    "        A = np.zeros((l,n,binsize))\n",
    "        for i in range(l):\n",
    "            A[i] = array[:,i*binsize:(i+1)*binsize]\n",
    "        return(A)\n",
    "    \n",
    "    def edgelist2edges(self):\n",
    "        T = self.length\n",
    "        all_edges = [[] for i in range(T)]\n",
    "        all_weights = [[] for i in range(T)]\n",
    "        dtype = [('row',int),('column',int),('weight',float),('layer',int)]\n",
    "        for k,e in enumerate(np.sort(np.array(self.edgelist, dtype=dtype),order='layer')):\n",
    "            i,j,w,t = e[0], e[1], e[2],e[3]\n",
    "            pair = (i,j)\n",
    "            all_edges[t].append(pair)\n",
    "            all_weights[t].append(w)\n",
    "        return (all_edges, all_weights)\n",
    "    \n",
    "    def neighbors(self,node_id, layer):\n",
    "        \n",
    "        if node_id > self.size: return('Invalid node ID')\n",
    "        if layer > self.length: return('Invalid layer')\n",
    "        neighbors = []\n",
    "        \n",
    "        for k,e in enumerate(self.edgelist):\n",
    "            i,j,w,t = e[0],e[1],e[2],e[3]\n",
    "            if t != layer:pass\n",
    "            else:\n",
    "                if i != node_id:pass\n",
    "                else:neighbors.append(j)\n",
    "                    \n",
    "        return(neighbors)\n",
    "    \n",
    "    def average_degree(self,layer):\n",
    "        \n",
    "        average_degree = 0\n",
    "        \n",
    "        for i in range(self.size):\n",
    "            average_degree = average_degree + len(self.neighbors(i,layer))\n",
    "        \n",
    "        return(average_degree/(2*self.size))\n",
    "    \n",
    "    def graph_formula(self):\n",
    "        formula = '1'\n",
    "        for i in range(2,self.length + 1):\n",
    "            temp = formula\n",
    "            formula = temp + ' -- %d'%i\n",
    "        return(formula)\n",
    "    \n",
    "    def create_igraph(self):\n",
    "        T = self.length\n",
    "        N = self.size\n",
    "        G = []\n",
    "        edges = self.edgelist2edges()[0]\n",
    "        weights = self.edgelist2edges()[1]\n",
    "        for i in range(T):\n",
    "            G.append(ig.Graph())\n",
    "            G[i].add_vertices(N)\n",
    "            G[i].add_edges(edges[i])\n",
    "            G[i].es['weight'] = weights[i]\n",
    "            G[i].vs['id'] = list(range(N))\n",
    "            G[i].vs['node_size'] = 0\n",
    "        return(G)\n",
    "    \n",
    "    def layers(self, G, interslice):#returns: intralayer edges of each layer, interlayer edges and the full supra matrix\n",
    "        layers, interslice_layer, G_full = la.time_slices_to_layers(G, interslice_weight = interslice)\n",
    "        return(layers, interslice_layer, G_full)\n",
    "    \n",
    "    def leiden(self, G, interslice, resolution):\n",
    "        \n",
    "        layers, interslice_layer, G_full = self.layers(G,interslice)\n",
    "        \n",
    "        partitions = [la.CPMVertexPartition(H, \n",
    "                                            node_sizes = 'node_size',\n",
    "                                            weights = 'weight', \n",
    "                                            resolution_parameter = resolution) for H in layers]\n",
    "        \n",
    "        interslice_partition = la.CPMVertexPartition(interslice_layer, \n",
    "                                                     resolution_parameter = resolution)\n",
    "                                                     \n",
    "        optimiser = la.Optimiser()\n",
    "        \n",
    "        diff = optimiser.optimise_partition_multiplex(partitions + [interslice_partition])\n",
    "\n",
    "        return(diff, partitions, interslice_partition)\n",
    "    \n",
    "    def membership(self,interslice_partition, across_time = True): ## returns the community assignments from the leiden algorithm as\n",
    "        ##                                       tuple (n,t) n is the node id t is the layer that node is in\n",
    "        n = self.size\n",
    "        membership = [[] for i in range(interslice_partition._len)]\n",
    "        for i,m in enumerate(interslice_partition._membership):\n",
    "            time = floor(i/n)\n",
    "            node_id = i%n\n",
    "            membership[m].append((node_id,time))\n",
    "\n",
    "        return(membership,len(membership))\n",
    "    \n",
    "    def community(self, membership, ax, m_type=None, subject=None):\n",
    "        n = self.size\n",
    "        t = self.length\n",
    "        number_of_colors = len(membership)\n",
    "        \n",
    "        #pv = read_pv(m_type, subject)\n",
    "\n",
    "        comms = np.zeros((n,t))\n",
    "\n",
    "        color = [\"#\"+''.join([random.choice('0123456789ABCDEF') for j in range(6)]) for i in range(number_of_colors)]\n",
    "\n",
    "        for i, l in enumerate(membership):\n",
    "            for j,k in enumerate(l):\n",
    "                comms[k[0]][k[1]] = i+1\n",
    "\n",
    "        cmap = mpl.colors.ListedColormap(color)\n",
    "\n",
    "        #fig,ax = plt.subplots(1,1,figsize=(7,5))\n",
    "        ax.imshow(comms, interpolation = 'none', cmap = cmap, aspect = 'auto', origin = 'lower')\n",
    "        ax.set_xticks(np.arange(t))\n",
    "        #ax.set_yticks(pv)\n",
    "        ax.tick_params(axis = 'both', labelsize = 13)\n",
    "        ax.set_xlabel('Layers (Time)', fontsize = 15)\n",
    "        ax.set_ylabel('Neuron ID', fontsize = 15)\n",
    "        ax.set_title('Community Assignments with %d Communities' %len(color), fontsize = 20)\n",
    "        return(comms, color)\n",
    "    \n",
    "    def raster_plot(self, spikes, ax, binsize, **kwargs):#plots the raster plot of the spike activity on a \n",
    "        # given axis 'comm_assignment' and 'color' arguments are the outputs of the function 'community' \n",
    "        # and they display the community assignment of the spiking activity if provided. if not, raster \n",
    "        # ais going to be plotted blue\n",
    "        \n",
    "        binarized_spikes = self.binarize(spikes)\n",
    "        binned_spikes = self.bin_time_series(binarized_spikes, binsize, gaussian = False)\n",
    "        l, n, t = binned_spikes.shape\n",
    "        for i in range(n):\n",
    "            for k in range(l):\n",
    "                try: clr = kwargs['color'][int(kwargs['comm_assignment'][i][k])-1]\n",
    "                except: clr = 'b'\n",
    "                cmap = mpl.colors.ListedColormap(clr)\n",
    "                for j in range(t):\n",
    "                    if binned_spikes[k][i][j] == 0: pass\n",
    "                    else:\n",
    "                        ax.scatter(k*t+j,  i, s = 5, c = clr, marker = 'x', figure = fig, cmap = cmap)\n",
    "                        ax.set_title('Corresponding Raster Plot', fontsize = 20)\n",
    "                        ax.set_xlabel('Time (Frames)', fontsize = 15)\n",
    "                        ax.set_ylabel('Neuron ID', fontsize = 15)\n",
    "                        ax.set_xticks([t*i for i in range(l+1)])\n",
    "                        ax.set_yticks([5*i for i in range(int(n/5))]+[n+1])\n",
    "                        ax.tick_params(axis = 'x', labelsize = 10)\n",
    "                        ax.tick_params(axis = 'y', labelsize = 13)\n",
    "\n",
    "    \n",
    "    def trajectories(self, thresh = 0.9, node_id = None, community = None, edge_color = True, pv = None):\n",
    "        #function graphing the edge trajcetories of the temporal\n",
    "        ## network. Tresh is for thresholding the paths that are strongere than the given value.\n",
    "        ## if node_id is None, function is going to graph all of the nodes's trajectories.\n",
    "        ## community argument is for indicating the community assignment\n",
    "        ## of the nodes if exists, if not pass along None.\n",
    "        ## edge_color\n",
    "        ## pv == pass a list of pv cell indices or None --dashes the pv cells\n",
    "        \n",
    "        layers = []\n",
    "\n",
    "        if edge_color == True: ed_color = [\"#\"+''.join([random.choice('0123456789ABCDEF') for j in range(6)]) for i in range(self.length)]\n",
    "        else: e_color = 'black' #[\"#\"+''.join([random.choice('0123456789ABCDEF') for j in range(6)]) for i in range(self.length)]\n",
    "\n",
    "            \n",
    "        if community is None: node_color = 'r'     \n",
    "        else:\n",
    "            colors = [\"#\"+''.join([random.choice('0123456789ABCDEF') for j in range(6)]) for i in range(int(np.max(community)))]\n",
    "            comap = mpl.colors.ListedColormap(colors)\n",
    "            node_color = community\n",
    "            norm = plt.Normalize(0,int(np.max(community)))\n",
    "\n",
    "        if node_id == None:\n",
    "            for k in self.nodes:\n",
    "                for j in range(1,self.length):\n",
    "                    for i in self.neighbors(k, j):\n",
    "                        if self.list_adjacency[j][k][i] > thresh:\n",
    "                            layers.append((j-1, j))\n",
    "                            layers.append((k, i))\n",
    "                            try: layers.append('%s' %ed_color[j])\n",
    "                            except: layers.append('%s'%e_color)\n",
    "                            \n",
    "            fig,ax = plt.subplots(1,1,figsize = (20,10))\n",
    "            plt.plot(*layers,figure = fig)\n",
    "            plt.title('Temporal trajectories of all the cells that are stronger than %f'%(thresh), fontsize = 20)\n",
    "            plt.xlabel('Layers',fontsize = 15)\n",
    "            plt.ylabel('Nodes',fontsize = 15)\n",
    "\n",
    "\n",
    "            for i in range(self.size):\n",
    "                x = np.linspace(0, self.length -1, self.length)\n",
    "                y = np.linspace(i,i, self.length)\n",
    "                try:plt.scatter(x, y, s = 15, c = node_color, figure = fig, alpha = 1)\n",
    "                except: plt.scatter(x, y, s = 15, c = node_color[i], norm = norm, figure = fig, alpha = 1, cmap = comap)\n",
    "\n",
    "\n",
    "        else:\n",
    "            for j in range(1,self.length):\n",
    "                for i in self.neighbors(node_id,j):\n",
    "                    if self.list_adjacency[j][node_id][i] > thresh:\n",
    "                        layers.append((j-1, j))\n",
    "                        layers.append((node_id, i))\n",
    "                        try: layers.append('%s' %ed_color[j])\n",
    "                        except: layers.append('%s'%e_color)\n",
    "                            \n",
    "            fig,ax = plt.subplots(1, 1, figsize = (20,10))\n",
    "            plt.plot(*layers, figure = fig)\n",
    "            plt.title('Temporal trajectories of the cell %d that are stronger than %f'%(node_id,thresh), fontsize = 20)\n",
    "            plt.xlabel('Layers', fontsize = 15)\n",
    "            plt.ylabel('Nodes', fontsize = 15)\n",
    "            \n",
    "            for i in range(self.size):\n",
    "                x = np.linspace(0, self.length-1, self.length)\n",
    "                y = np.linspace(i, i, self.length)\n",
    "                try:plt.scatter(x, y, s = 15, c = node_color, figure = fig, alpha = 1)\n",
    "                except: plt.scatter(x, y, s = 15, c = node_color[i], norm = norm, figure = fig, alpha = 1, cmap = comap)\n",
    "        \n",
    "        if community is not None:\n",
    "            cbar = plt.colorbar(cmap = comap)\n",
    "        \n",
    "            cbar.set_ticks([i for i in np.arange(0,int(np.max(community)),3)])\n",
    "            cbar.set_ticklabels([i for i in np.arange(0,int(np.max(community)),3)])\n",
    "            cbar.set_label('Colorbar for node communities - total of %d communities'%int(np.max(community)), rotation = 270)\n",
    "        if pv is not None:\n",
    "            plt.hlines(pv, 0, self.length-1, color = 'b', alpha = 0.4, linestyle = 'dashed')\n",
    "            plt.yticks(pv, color = 'b')\n",
    "        plt.tight_layout()"
   ]
  },
  {
   "cell_type": "code",
   "execution_count": 14,
   "metadata": {},
   "outputs": [],
   "source": [
    "layer1 = np.zeros((9,9))\n",
    "layer1[0,1] = 0.2\n",
    "layer1[0,3] = 0.7\n",
    "layer1[3,4] = 0.8\n",
    "layer1[1,4] = 0.5\n",
    "layer1 = layer1 + layer1.T"
   ]
  },
  {
   "cell_type": "code",
   "execution_count": 15,
   "metadata": {},
   "outputs": [],
   "source": [
    "layer2 = np.zeros((9,9))\n",
    "layer2[0,1] = 0.4\n",
    "layer2[0,3] = 0.1\n",
    "layer2[3,4] = 0.8\n",
    "layer2[1,4] = 0.9\n",
    "layer2[5,7] = 0.7\n",
    "layer2[5,8] = 1\n",
    "layer2[7,8] = 1\n",
    "layer2 = layer2 + layer2.T"
   ]
  },
  {
   "cell_type": "code",
   "execution_count": 16,
   "metadata": {},
   "outputs": [],
   "source": [
    "layer3 = np.zeros((9,9))\n",
    "layer3[0,1] = 1\n",
    "layer3[0,3] = 1\n",
    "layer3[3,4] = 1\n",
    "layer3[1,4] = 1\n",
    "layer3[5,7] = 1\n",
    "layer3[5,8] = 1\n",
    "layer3[7,8] = 0.1\n",
    "layer3[1,5] = 1\n",
    "layer3[1,8] = 1\n",
    "layer3[1,3] = 0.5\n",
    "layer3[0,7] = 1\n",
    "layer3[0,4] = 1\n",
    "layer3[3,7] = 1\n",
    "layer3[5,7] = 1\n",
    "layer3[4,7] = 1\n",
    "layer3[4,5] = 1\n",
    "layer3 = layer3 +layer3.T"
   ]
  },
  {
   "cell_type": "code",
   "execution_count": 17,
   "metadata": {},
   "outputs": [
    {
     "data": {
      "image/png": "[encoded data removed]",
      "text/plain": [
       "<Figure size 720x1080 with 3 Axes>"
      ]
     },
     "metadata": {
      "needs_background": "light"
     },
     "output_type": "display_data"
    }
   ],
   "source": [
    "fig,ax = plt.subplots(1,3,figsize=(10,15))\n",
    "ax[0].imshow(layer1)\n",
    "ax[1].imshow(layer2)\n",
    "ax[2].imshow(layer3)\n",
    "adjacency_matrices = [layer1, layer2, layer3]"
   ]
  },
  {
   "cell_type": "code",
   "execution_count": 18,
   "metadata": {},
   "outputs": [
    {
     "data": {
      "image/png": "[encoded data removed]",
      "text/plain": [
       "<Figure size 432x288 with 1 Axes>"
      ]
     },
     "metadata": {},
     "output_type": "display_data"
    }
   ],
   "source": [
    "G1 = nx.from_numpy_matrix(layer1)\n",
    "nx.draw(G1, with_labels = True)"
   ]
  },
  {
   "cell_type": "code",
   "execution_count": 19,
   "metadata": {},
   "outputs": [
    {
     "data": {
      "image/png": "[encoded data removed]",
      "text/plain": [
       "<Figure size 432x288 with 1 Axes>"
      ]
     },
     "metadata": {},
     "output_type": "display_data"
    }
   ],
   "source": [
    "G2 = nx.from_numpy_matrix(layer2)\n",
    "nx.draw(G2, with_labels = True)"
   ]
  },
  {
   "cell_type": "code",
   "execution_count": 20,
   "metadata": {},
   "outputs": [
    {
     "data": {
      "image/png": "[encoded data removed]",
      "text/plain": [
       "<Figure size 432x288 with 1 Axes>"
      ]
     },
     "metadata": {},
     "output_type": "display_data"
    }
   ],
   "source": [
    "G3 = nx.from_numpy_matrix(layer3)\n",
    "nx.draw(G3, with_labels = True)"
   ]
  },
  {
   "cell_type": "code",
   "execution_count": 27,
   "metadata": {},
   "outputs": [],
   "source": [
    "n = 9\n",
    "t = 3\n",
    "resolution = 0.11\n",
    "interlayer = [[1,2,3,4,5,6,7,8,9],[3,2,1,3,2,1,3,2,1]]\n",
    "TN = temporal_network(n, t, data = 'list__adjacency', list_adjacency = adjacency_matrices, omega = 1, kind= 'ordinal')"
   ]
  },
  {
   "cell_type": "code",
   "execution_count": 22,
   "metadata": {},
   "outputs": [],
   "source": [
    "igraphs = TN.create_igraph()\n",
    "layers, interslice_layer, G_full = TN.layers(igraphs, interlayer)"
   ]
  },
  {
   "cell_type": "code",
   "execution_count": 28,
   "metadata": {},
   "outputs": [
    {
     "name": "stdout",
     "output_type": "stream",
     "text": [
      "igraph.Edge(<igraph.Graph object at 0x7fbe33086d50>, 0, {'weight': 1, 'type': 'interslice'})\n",
      "igraph.Edge(<igraph.Graph object at 0x7fbe33086d50>, 1, {'weight': 2, 'type': 'interslice'})\n",
      "igraph.Edge(<igraph.Graph object at 0x7fbe33086d50>, 2, {'weight': 3, 'type': 'interslice'})\n",
      "igraph.Edge(<igraph.Graph object at 0x7fbe33086d50>, 3, {'weight': 4, 'type': 'interslice'})\n",
      "igraph.Edge(<igraph.Graph object at 0x7fbe33086d50>, 4, {'weight': 5, 'type': 'interslice'})\n",
      "igraph.Edge(<igraph.Graph object at 0x7fbe33086d50>, 5, {'weight': 6, 'type': 'interslice'})\n",
      "igraph.Edge(<igraph.Graph object at 0x7fbe33086d50>, 6, {'weight': 7, 'type': 'interslice'})\n",
      "igraph.Edge(<igraph.Graph object at 0x7fbe33086d50>, 7, {'weight': 8, 'type': 'interslice'})\n",
      "igraph.Edge(<igraph.Graph object at 0x7fbe33086d50>, 8, {'weight': 9, 'type': 'interslice'})\n",
      "igraph.Edge(<igraph.Graph object at 0x7fbe33086d50>, 9, {'weight': 3, 'type': 'interslice'})\n",
      "igraph.Edge(<igraph.Graph object at 0x7fbe33086d50>, 10, {'weight': 2, 'type': 'interslice'})\n",
      "igraph.Edge(<igraph.Graph object at 0x7fbe33086d50>, 11, {'weight': 1, 'type': 'interslice'})\n",
      "igraph.Edge(<igraph.Graph object at 0x7fbe33086d50>, 12, {'weight': 3, 'type': 'interslice'})\n",
      "igraph.Edge(<igraph.Graph object at 0x7fbe33086d50>, 13, {'weight': 2, 'type': 'interslice'})\n",
      "igraph.Edge(<igraph.Graph object at 0x7fbe33086d50>, 14, {'weight': 1, 'type': 'interslice'})\n",
      "igraph.Edge(<igraph.Graph object at 0x7fbe33086d50>, 15, {'weight': 3, 'type': 'interslice'})\n",
      "igraph.Edge(<igraph.Graph object at 0x7fbe33086d50>, 16, {'weight': 2, 'type': 'interslice'})\n",
      "igraph.Edge(<igraph.Graph object at 0x7fbe33086d50>, 17, {'weight': 1, 'type': 'interslice'})\n"
     ]
    }
   ],
   "source": [
    "for i,e in enumerate(interslice_layer.es):\n",
    "    print(e)"
   ]
  },
  {
   "cell_type": "code",
   "execution_count": 78,
   "metadata": {},
   "outputs": [
    {
     "name": "stdout",
     "output_type": "stream",
     "text": [
      "igraph.Edge(<igraph.Graph object at 0x7fcd8486aa50>, 0, {'weight': 1.0, 'type': 'intraslice'})\n",
      "igraph.Edge(<igraph.Graph object at 0x7fcd8486aa50>, 1, {'weight': 1.0, 'type': 'intraslice'})\n",
      "igraph.Edge(<igraph.Graph object at 0x7fcd8486aa50>, 2, {'weight': 1.0, 'type': 'intraslice'})\n",
      "igraph.Edge(<igraph.Graph object at 0x7fcd8486aa50>, 3, {'weight': 1.0, 'type': 'intraslice'})\n",
      "igraph.Edge(<igraph.Graph object at 0x7fcd8486aa50>, 4, {'weight': 1.0, 'type': 'intraslice'})\n",
      "igraph.Edge(<igraph.Graph object at 0x7fcd8486aa50>, 5, {'weight': 1.0, 'type': 'intraslice'})\n",
      "igraph.Edge(<igraph.Graph object at 0x7fcd8486aa50>, 6, {'weight': 1.0, 'type': 'intraslice'})\n",
      "igraph.Edge(<igraph.Graph object at 0x7fcd8486aa50>, 7, {'weight': 1.0, 'type': 'intraslice'})\n"
     ]
    }
   ],
   "source": [
    "for i,e in enumerate(layers[0].es):\n",
    "    print(e)"
   ]
  },
  {
   "cell_type": "code",
   "execution_count": 79,
   "metadata": {},
   "outputs": [
    {
     "name": "stdout",
     "output_type": "stream",
     "text": [
      "igraph.Edge(<igraph.Graph object at 0x7fcd8495b850>, 0, {'weight': 0.1, 'type': 'interslice'})\n",
      "igraph.Edge(<igraph.Graph object at 0x7fcd8495b850>, 1, {'weight': 0.1, 'type': 'interslice'})\n",
      "igraph.Edge(<igraph.Graph object at 0x7fcd8495b850>, 2, {'weight': 0.1, 'type': 'interslice'})\n",
      "igraph.Edge(<igraph.Graph object at 0x7fcd8495b850>, 3, {'weight': 0.1, 'type': 'interslice'})\n",
      "igraph.Edge(<igraph.Graph object at 0x7fcd8495b850>, 4, {'weight': 0.1, 'type': 'interslice'})\n",
      "igraph.Edge(<igraph.Graph object at 0x7fcd8495b850>, 5, {'weight': 0.1, 'type': 'interslice'})\n",
      "igraph.Edge(<igraph.Graph object at 0x7fcd8495b850>, 6, {'weight': 0.1, 'type': 'interslice'})\n",
      "igraph.Edge(<igraph.Graph object at 0x7fcd8495b850>, 7, {'weight': 0.1, 'type': 'interslice'})\n",
      "igraph.Edge(<igraph.Graph object at 0x7fcd8495b850>, 8, {'weight': 0.1, 'type': 'interslice'})\n",
      "igraph.Edge(<igraph.Graph object at 0x7fcd8495b850>, 9, {'weight': 0.5, 'type': 'interslice'})\n",
      "igraph.Edge(<igraph.Graph object at 0x7fcd8495b850>, 10, {'weight': 0.5, 'type': 'interslice'})\n",
      "igraph.Edge(<igraph.Graph object at 0x7fcd8495b850>, 11, {'weight': 0.5, 'type': 'interslice'})\n",
      "igraph.Edge(<igraph.Graph object at 0x7fcd8495b850>, 12, {'weight': 0.5, 'type': 'interslice'})\n",
      "igraph.Edge(<igraph.Graph object at 0x7fcd8495b850>, 13, {'weight': 0.5, 'type': 'interslice'})\n",
      "igraph.Edge(<igraph.Graph object at 0x7fcd8495b850>, 14, {'weight': 0.5, 'type': 'interslice'})\n",
      "igraph.Edge(<igraph.Graph object at 0x7fcd8495b850>, 15, {'weight': 0.5, 'type': 'interslice'})\n",
      "igraph.Edge(<igraph.Graph object at 0x7fcd8495b850>, 16, {'weight': 0.5, 'type': 'interslice'})\n",
      "igraph.Edge(<igraph.Graph object at 0x7fcd8495b850>, 17, {'weight': 0.5, 'type': 'interslice'})\n"
     ]
    }
   ],
   "source": [
    "for i,e in enumerate(interslice_layer.es):\n",
    "    print(e)"
   ]
  },
  {
   "cell_type": "code",
   "execution_count": 34,
   "metadata": {},
   "outputs": [],
   "source": [
    "layer_partitions = [la.RBConfigurationVertexPartition(H, \n",
    "                                                      weights = 'weight', \n",
    "                                                      resolution_parameter = resolution) for H in layers]\n",
    "        \n",
    "interslice_partition = la.RBConfigurationVertexPartition(interslice_layer, \n",
    "                                                         weights = 'weight', \n",
    "                                                         resolution_parameter = 0)\n",
    "                                                     \n",
    "optimiser = la.Optimiser()\n",
    "        \n",
    "diff = optimiser.optimise_partition_multiplex(layer_partitions + [interslice_partition], \n",
    "                                              n_iterations = 2)#,\n",
    "                                             #layer_weights = [1,1,1, two_M])\n",
    "\n",
    "\n",
    "\n",
    "#diff, parts, inter_parts= TN.leiden(igraphs,0.1,0.1)\n",
    "#c_size_layers, c_size  = TN.membership(inter_parts)"
   ]
  },
  {
   "cell_type": "code",
   "execution_count": 52,
   "metadata": {},
   "outputs": [
    {
     "data": {
      "text/plain": [
       "['FromAttribute',\n",
       " 'FromPartition',\n",
       " '_FromCPartition',\n",
       " '__class__',\n",
       " '__deepcopy__',\n",
       " '__delattr__',\n",
       " '__dict__',\n",
       " '__dir__',\n",
       " '__doc__',\n",
       " '__eq__',\n",
       " '__format__',\n",
       " '__ge__',\n",
       " '__getattribute__',\n",
       " '__getitem__',\n",
       " '__gt__',\n",
       " '__hash__',\n",
       " '__init__',\n",
       " '__init_subclass__',\n",
       " '__iter__',\n",
       " '__le__',\n",
       " '__len__',\n",
       " '__lt__',\n",
       " '__module__',\n",
       " '__ne__',\n",
       " '__new__',\n",
       " '__plot__',\n",
       " '__reduce__',\n",
       " '__reduce_ex__',\n",
       " '__repr__',\n",
       " '__setattr__',\n",
       " '__sizeof__',\n",
       " '__str__',\n",
       " '__subclasshook__',\n",
       " '__weakref__',\n",
       " '_default_palette',\n",
       " '_formatted_cluster_iterator',\n",
       " '_graph',\n",
       " '_len',\n",
       " '_membership',\n",
       " '_modularity',\n",
       " '_modularity_dirty',\n",
       " '_modularity_params',\n",
       " '_partition',\n",
       " '_recalculate_modularity_safe',\n",
       " '_update_internal_membership',\n",
       " 'aggregate_partition',\n",
       " 'as_cover',\n",
       " 'bisect_value',\n",
       " 'cluster_graph',\n",
       " 'compare_to',\n",
       " 'crossing',\n",
       " 'diff_move',\n",
       " 'from_coarse_partition',\n",
       " 'giant',\n",
       " 'graph',\n",
       " 'membership',\n",
       " 'modularity',\n",
       " 'move_node',\n",
       " 'n',\n",
       " 'q',\n",
       " 'quality',\n",
       " 'recalculate_modularity',\n",
       " 'renumber_communities',\n",
       " 'resolution_parameter',\n",
       " 'set_membership',\n",
       " 'size',\n",
       " 'size_histogram',\n",
       " 'sizes',\n",
       " 'subgraph',\n",
       " 'subgraphs',\n",
       " 'summary',\n",
       " 'total_possible_edges_in_all_comms',\n",
       " 'total_weight_from_comm',\n",
       " 'total_weight_in_all_comms',\n",
       " 'total_weight_in_comm',\n",
       " 'total_weight_to_comm',\n",
       " 'weight_from_comm',\n",
       " 'weight_to_comm']"
      ]
     },
     "execution_count": 52,
     "metadata": {},
     "output_type": "execute_result"
    }
   ],
   "source": [
    "dir(interslice_partition)"
   ]
  },
  {
   "cell_type": "code",
   "execution_count": 70,
   "metadata": {},
   "outputs": [
    {
     "ename": "IndexError",
     "evalue": "list index out of range",
     "output_type": "error",
     "traceback": [
      "\u001b[0;31m---------------------------------------------------------------------------\u001b[0m",
      "\u001b[0;31mIndexError\u001b[0m                                Traceback (most recent call last)",
      "\u001b[0;32m<ipython-input-70-418b8c854f6d>\u001b[0m in \u001b[0;36m<module>\u001b[0;34m\u001b[0m\n\u001b[0;32m----> 1\u001b[0;31m \u001b[0;32mfor\u001b[0m \u001b[0mi\u001b[0m\u001b[0;34m,\u001b[0m\u001b[0me\u001b[0m\u001b[0;34m,\u001b[0m \u001b[0;32min\u001b[0m \u001b[0menumerate\u001b[0m\u001b[0;34m(\u001b[0m\u001b[0mlayer_partitions\u001b[0m\u001b[0;34m[\u001b[0m\u001b[0;36m3\u001b[0m\u001b[0;34m]\u001b[0m\u001b[0;34m.\u001b[0m\u001b[0mgraph\u001b[0m\u001b[0;34m.\u001b[0m\u001b[0mes\u001b[0m\u001b[0;34m)\u001b[0m\u001b[0;34m:\u001b[0m\u001b[0;34m\u001b[0m\u001b[0;34m\u001b[0m\u001b[0m\n\u001b[0m\u001b[1;32m      2\u001b[0m     \u001b[0mprint\u001b[0m\u001b[0;34m(\u001b[0m\u001b[0me\u001b[0m\u001b[0;34m)\u001b[0m\u001b[0;34m\u001b[0m\u001b[0;34m\u001b[0m\u001b[0m\n",
      "\u001b[0;31mIndexError\u001b[0m: list index out of range"
     ]
    }
   ],
   "source": [
    "for i,e, in enumerate(layer_partitions[3].graph.es):\n",
    "    print(e)"
   ]
  },
  {
   "cell_type": "code",
   "execution_count": 17,
   "metadata": {},
   "outputs": [
    {
     "data": {
      "image/png": "[encoded data removed]",
      "text/plain": [
       "<Figure size 1440x720 with 1 Axes>"
      ]
     },
     "metadata": {
      "needs_background": "light"
     },
     "output_type": "display_data"
    }
   ],
   "source": [
    "fig,ax = plt.subplots(1, 1, figsize = (20,10))\n",
    "comms0, c0 = TN.community(TN.membership(interslice_partition)[0], ax)"
   ]
  },
  {
   "cell_type": "code",
   "execution_count": null,
   "metadata": {},
   "outputs": [],
   "source": []
  },
  {
   "cell_type": "code",
   "execution_count": null,
   "metadata": {},
   "outputs": [],
   "source": []
  },
  {
   "cell_type": "code",
   "execution_count": null,
   "metadata": {},
   "outputs": [],
   "source": []
  },
  {
   "cell_type": "code",
   "execution_count": null,
   "metadata": {},
   "outputs": [],
   "source": []
  },
  {
   "cell_type": "code",
   "execution_count": null,
   "metadata": {},
   "outputs": [],
   "source": []
  },
  {
   "cell_type": "code",
   "execution_count": null,
   "metadata": {},
   "outputs": [],
   "source": []
  },
  {
   "cell_type": "code",
   "execution_count": null,
   "metadata": {},
   "outputs": [],
   "source": []
  },
  {
   "cell_type": "code",
   "execution_count": null,
   "metadata": {},
   "outputs": [],
   "source": []
  },
  {
   "cell_type": "code",
   "execution_count": 9,
   "metadata": {},
   "outputs": [
    {
     "ename": "NameError",
     "evalue": "name 'inter_parts' is not defined",
     "output_type": "error",
     "traceback": [
      "\u001b[0;31m---------------------------------------------------------------------------\u001b[0m",
      "\u001b[0;31mNameError\u001b[0m                                 Traceback (most recent call last)",
      "\u001b[0;32m<ipython-input-9-bc770a8e2811>\u001b[0m in \u001b[0;36m<module>\u001b[0;34m\u001b[0m\n\u001b[0;32m----> 1\u001b[0;31m \u001b[0mmembers\u001b[0m \u001b[0;34m=\u001b[0m \u001b[0;34m[\u001b[0m\u001b[0;34m[\u001b[0m\u001b[0;34m]\u001b[0m \u001b[0;32mfor\u001b[0m \u001b[0mi\u001b[0m \u001b[0;32min\u001b[0m \u001b[0mrange\u001b[0m\u001b[0;34m(\u001b[0m\u001b[0minter_parts\u001b[0m\u001b[0;34m.\u001b[0m\u001b[0m_len\u001b[0m\u001b[0;34m)\u001b[0m\u001b[0;34m]\u001b[0m\u001b[0;34m\u001b[0m\u001b[0;34m\u001b[0m\u001b[0m\n\u001b[0m\u001b[1;32m      2\u001b[0m \u001b[0;32mfor\u001b[0m \u001b[0mi\u001b[0m\u001b[0;34m,\u001b[0m\u001b[0me\u001b[0m \u001b[0;32min\u001b[0m \u001b[0menumerate\u001b[0m\u001b[0;34m(\u001b[0m\u001b[0minter_parts\u001b[0m\u001b[0;34m.\u001b[0m\u001b[0m_membership\u001b[0m\u001b[0;34m)\u001b[0m\u001b[0;34m:\u001b[0m\u001b[0;34m\u001b[0m\u001b[0;34m\u001b[0m\u001b[0m\n\u001b[1;32m      3\u001b[0m     \u001b[0mnodeid\u001b[0m \u001b[0;34m=\u001b[0m \u001b[0mi\u001b[0m\u001b[0;34m%\u001b[0m\u001b[0mn\u001b[0m\u001b[0;34m\u001b[0m\u001b[0;34m\u001b[0m\u001b[0m\n\u001b[1;32m      4\u001b[0m     \u001b[0mtime\u001b[0m \u001b[0;34m=\u001b[0m \u001b[0mfloor\u001b[0m\u001b[0;34m(\u001b[0m\u001b[0mi\u001b[0m\u001b[0;34m/\u001b[0m\u001b[0mn\u001b[0m\u001b[0;34m)\u001b[0m\u001b[0;34m\u001b[0m\u001b[0;34m\u001b[0m\u001b[0m\n\u001b[1;32m      5\u001b[0m     \u001b[0mmembers\u001b[0m\u001b[0;34m[\u001b[0m\u001b[0me\u001b[0m\u001b[0;34m]\u001b[0m\u001b[0;34m.\u001b[0m\u001b[0mappend\u001b[0m\u001b[0;34m(\u001b[0m\u001b[0;34m(\u001b[0m\u001b[0mnodeid\u001b[0m\u001b[0;34m,\u001b[0m\u001b[0mtime\u001b[0m\u001b[0;34m)\u001b[0m\u001b[0;34m)\u001b[0m\u001b[0;34m\u001b[0m\u001b[0;34m\u001b[0m\u001b[0m\n",
      "\u001b[0;31mNameError\u001b[0m: name 'inter_parts' is not defined"
     ]
    }
   ],
   "source": [
    "members = [[] for i in range(inter_parts._len)]\n",
    "for i,e in enumerate(inter_parts._membership):\n",
    "    nodeid = i%n\n",
    "    time = floor(i/n)\n",
    "    members[e].append((nodeid,time))"
   ]
  },
  {
   "cell_type": "code",
   "execution_count": 10,
   "metadata": {},
   "outputs": [
    {
     "data": {
      "image/png": "[encoded data removed]",
      "text/plain": [
       "<Figure size 1440x720 with 1 Axes>"
      ]
     },
     "metadata": {
      "needs_background": "light"
     },
     "output_type": "display_data"
    }
   ],
   "source": [
    "fig,ax = plt.subplots(1, 1, figsize = (20,10))\n",
    "comms0, c0 = TN.community(members, ax)"
   ]
  },
  {
   "cell_type": "code",
   "execution_count": 14,
   "metadata": {},
   "outputs": [],
   "source": [
    "def layers(G, interslice):#returns: intralayer edges of each layer, interlayer edges and the full supra matrix\n",
    "    layers, interslice_layer, G_full = la.time_slices_to_layers(G, interslice_weight = interslice)\n",
    "    return(layers, interslice_layer, G_full)\n",
    "    \n",
    "def leiden(G, interslice, resolution):\n",
    "        \n",
    "    layers, interslice_layer, G_full = layers(G,interslice)\n",
    "        \n",
    "    partitions = [la.CPMVertexPartition(H, \n",
    "                                        node_sizes = 'node_size',\n",
    "                                        weights = 'weights', \n",
    "                                        resolution_parameter = resolution) for H in layers]\n",
    "        \n",
    "    interslice_partition = la.CPMVertexPartition(interslice_layer, \n",
    "                                                    resolution_parameter = resolution)\n",
    "                                                     \n",
    "    optimiser = la.Optimiser()\n",
    "        \n",
    "    diff = optimiser.optimise_partition_multiplex(partitions + [interslice_partition])\n",
    "\n",
    "    return(diff, partitions, interslice_partition)"
   ]
  },
  {
   "cell_type": "code",
   "execution_count": null,
   "metadata": {},
   "outputs": [],
   "source": []
  },
  {
   "cell_type": "code",
   "execution_count": null,
   "metadata": {},
   "outputs": [],
   "source": []
  },
  {
   "cell_type": "code",
   "execution_count": null,
   "metadata": {},
   "outputs": [],
   "source": []
  },
  {
   "cell_type": "code",
   "execution_count": null,
   "metadata": {},
   "outputs": [],
   "source": []
  }
 ],
 "metadata": {
  "kernelspec": {
   "display_name": "Python 3",
   "language": "python",
   "name": "python3"
  },
  "language_info": {
   "codemirror_mode": {
    "name": "ipython",
    "version": 3
   },
   "file_extension": ".py",
   "mimetype": "text/x-python",
   "name": "python",
   "nbconvert_exporter": "python",
   "pygments_lexer": "ipython3",
   "version": "3.7.6"
  }
 },
 "nbformat": 4,
 "nbformat_minor": 4
}
