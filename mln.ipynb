{
 "cells": [
  {
   "cell_type": "code",
   "execution_count": 46,
   "metadata": {},
   "outputs": [],
   "source": [
    "import numpy as np\n",
    "import matplotlib.pyplot as plt"
   ]
  },
  {
   "cell_type": "code",
   "execution_count": 111,
   "metadata": {},
   "outputs": [],
   "source": [
    "class temporal_network:\n",
    "    \n",
    "    #node-aligned\n",
    "    #get binary edge pairs\n",
    "    def __init__(self, size, length, edge_list, kind = 'temporal', resolution = 1):\n",
    "        \n",
    "        self.nodes = [i for i in range(size)]\n",
    "        self.time = length\n",
    "        self.size = size\n",
    "        adjacency = np.zeros((self.size*self.time,self.size*self.time))\n",
    "        multi_array = np.zeros((self.time,self.size,self.size))\n",
    "        \n",
    "        #edge list is binary in the format of (i,j,t): \n",
    "        #there is an edge between i and j on time t(and an edge between j and i)\n",
    "        for k,e in enumerate(edge_list):\n",
    "            i,j,t = e[0],e[1],e[2]\n",
    "            adjacency[self.size*(t-1)+i][self.size*(t-1)+j] = 1\n",
    "            adjacency[self.size*(t-1)+j][self.size*(t-1)+i] = 1\n",
    "            multi_array[t-1][i][j] = 1\n",
    "            multi_array[t-1][j][i] = 1\n",
    "            \n",
    "        ##filling off diagonal blocks\n",
    "        if kind == 'temporal':\n",
    "            for n in range(self.size*(self.time-1)):\n",
    "                adjacency[n][n+self.size] = resolution\n",
    "                adjacency[n+self.size][n] = resolution\n",
    "                \n",
    "        elif kind == 'multilayer':\n",
    "            i = 0\n",
    "            while self.time-i != 0:\n",
    "                i = i+1\n",
    "                for n in range(self.size*(self.time-i)):\n",
    "                    adjacency[n][n+i*self.size] = resolution\n",
    "                    adjacency[n+i*self.size][n] = resolution\n",
    "                    \n",
    "        self.supra_adjacency = adjacency\n",
    "        self.multi_array = multi_array\n",
    "        \n",
    "    def s_adjacency(self, multiarray, kind = 'temporal', resolution=1):\n",
    "        #function converting a multi dimensional array into supra adjacency matrix\n",
    "        n = self.size\n",
    "        t = self.time\n",
    "        adjacency = np.zeros((self.size*self.time,self.size*self.time))\n",
    "        \n",
    "        for i,c in enumerate(multiarray[:]):\n",
    "            adjacency[i*n:i*n+n,i*n:i*n+n] = c     \n",
    "            \n",
    "        if kind == 'temporal':\n",
    "            for p in range(n*(t-1)):\n",
    "                adjacency[p][p+n] = resolution\n",
    "                adjacency[p+n][p] = resolution\n",
    "                \n",
    "        elif kind == 'multilayer':\n",
    "            i = 0\n",
    "            while t-i != 0:\n",
    "                i = i+1\n",
    "                for p in range(n*(t-i)):\n",
    "                    adjacency[p][p+i*n] = resolution\n",
    "                    adjacency[p+i*n][p] = resolution\n",
    "        return(adjacency)\n",
    "        \n",
    "    def aggragate(self, normalized = True):\n",
    "        t = self.time \n",
    "        n = self.size\n",
    "        aggragated = np.zeros((n,n))\n",
    "        for i,c in enumerate(self.multi_array[:]):\n",
    "            aggragated = aggragated + c\n",
    "        if normalized: return (aggragated/t)\n",
    "        else: return (aggragated)"
   ]
  },
  {
   "cell_type": "code",
   "execution_count": 112,
   "metadata": {},
   "outputs": [],
   "source": [
    "edges = [[0,1,1],[0,1,2],[1,2,2],[0,1,3],[0,2,3],[0,1,4],[0,2,4],[1,2,4]]\n",
    "T=temporal_network(3, 4, edges, kind = 'temporal', resolution = 1)\n",
    "S=temporal_network(3, 4, edges, kind = 'temporal', resolution = 1).supra_adjacency\n",
    "C=temporal_network(3, 4, edges, kind = 'temporal', resolution = 1).multi_array\n",
    "#S,C"
   ]
  },
  {
   "cell_type": "code",
   "execution_count": 113,
   "metadata": {},
   "outputs": [
    {
     "data": {
      "text/plain": [
       "array([[0., 1., 0., 1., 0., 0., 0., 0., 0., 0., 0., 0.],\n",
       "       [1., 0., 0., 0., 1., 0., 0., 0., 0., 0., 0., 0.],\n",
       "       [0., 0., 0., 0., 0., 1., 0., 0., 0., 0., 0., 0.],\n",
       "       [1., 0., 0., 0., 1., 0., 1., 0., 0., 0., 0., 0.],\n",
       "       [0., 1., 0., 1., 0., 1., 0., 1., 0., 0., 0., 0.],\n",
       "       [0., 0., 1., 0., 1., 0., 0., 0., 1., 0., 0., 0.],\n",
       "       [0., 0., 0., 1., 0., 0., 0., 1., 1., 1., 0., 0.],\n",
       "       [0., 0., 0., 0., 1., 0., 1., 0., 0., 0., 1., 0.],\n",
       "       [0., 0., 0., 0., 0., 1., 1., 0., 0., 0., 0., 1.],\n",
       "       [0., 0., 0., 0., 0., 0., 1., 0., 0., 0., 1., 1.],\n",
       "       [0., 0., 0., 0., 0., 0., 0., 1., 0., 1., 0., 1.],\n",
       "       [0., 0., 0., 0., 0., 0., 0., 0., 1., 1., 1., 0.]])"
      ]
     },
     "execution_count": 113,
     "metadata": {},
     "output_type": "execute_result"
    }
   ],
   "source": [
    "T.s_adjacency(C, kind='temporal',resolution=1)"
   ]
  },
  {
   "cell_type": "code",
   "execution_count": null,
   "metadata": {},
   "outputs": [],
   "source": []
  },
  {
   "cell_type": "code",
   "execution_count": null,
   "metadata": {},
   "outputs": [],
   "source": []
  },
  {
   "cell_type": "code",
   "execution_count": null,
   "metadata": {},
   "outputs": [],
   "source": []
  },
  {
   "cell_type": "code",
   "execution_count": null,
   "metadata": {},
   "outputs": [],
   "source": []
  },
  {
   "cell_type": "code",
   "execution_count": null,
   "metadata": {},
   "outputs": [],
   "source": []
  }
 ],
 "metadata": {
  "kernelspec": {
   "display_name": "Python 3",
   "language": "python",
   "name": "python3"
  },
  "language_info": {
   "codemirror_mode": {
    "name": "ipython",
    "version": 3
   },
   "file_extension": ".py",
   "mimetype": "text/x-python",
   "name": "python",
   "nbconvert_exporter": "python",
   "pygments_lexer": "ipython3",
   "version": "3.7.6"
  }
 },
 "nbformat": 4,
 "nbformat_minor": 4
}
