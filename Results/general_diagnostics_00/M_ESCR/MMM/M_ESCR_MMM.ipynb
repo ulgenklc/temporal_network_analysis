{
 "cells": [
  {
   "cell_type": "code",
   "execution_count": null,
   "metadata": {},
   "outputs": [],
   "source": [
    "import numpy as np\n",
    "import matplotlib.pyplot as plt\n",
    "import random\n",
    "import pickle\n",
    "import os\n",
    "\n",
    "base_path = \"/projects/academic/smuldoon/bengieru/Community_Detection/general_diagnostics_00/\"\n",
    "\n",
    "import sys\n",
    "sys.path.insert(0, base_path)\n",
    "\n",
    "from helpers import *\n",
    "from Temporal_Community_Detection import temporal_network"
   ]
  },
  {
   "cell_type": "code",
   "execution_count": null,
   "metadata": {},
   "outputs": [],
   "source": [
    "data_path = base_path + 'M_ESCR/'\n",
    "\n",
    "path = data_path + 'MMM/'\n",
    "\n",
    "with open(data_path + 'spikes.pkl', 'rb') as handle:\n",
    "    spikes = pickle.load(handle)\n",
    "    \n",
    "with open(data_path + 'comm_size.pkl', 'rb') as handle:\n",
    "    comm_sizes = pickle.load(handle)\n",
    "    \n",
    "num_neurons = sum(comm_sizes[0])\n",
    "layers = 2\n",
    "\n",
    "window_size = 1000 # size, in frames, each adjacency matrix correspond to. better to be equal to bin_size \n",
    "standard_dev = 1.2 # for gaussian kernel\n",
    "k = 5 #for jittering the spikes\n",
    "pad = True"
   ]
  },
  {
   "cell_type": "code",
   "execution_count": null,
   "metadata": {},
   "outputs": [],
   "source": [
    "binned_spikes = bin_time_series(spikes, window_size, gaussian = True, sigma = standard_dev)\n",
    "\n",
    "adjacency_matrices = []\n",
    "for i in range(layers):\n",
    "    adjacency_matrices.append(cross_correlation_matrix(binned_spikes[i])[0])\n",
    "    \n",
    "if pad:\n",
    "    padded_adjacencies = [adjacency_matrices[0]]  + adjacency_matrices + [adjacency_matrices[-1]]\n",
    "    layers = layers + 2"
   ]
  },
  {
   "cell_type": "code",
   "execution_count": null,
   "metadata": {},
   "outputs": [],
   "source": [
    "TN = temporal_network(num_neurons, \n",
    "                      layers, \n",
    "                      window_size, \n",
    "                      data = 'list__adjacency', \n",
    "                      list_adjacency = padded_adjacencies, \n",
    "                      omega = 1, \n",
    "                      kind = 'ordinal')\n",
    "\n",
    "fig,ax = plt.subplots(1,1, figsize = (25,15))\n",
    "TN.raster_plot(spikes, ax)\n",
    "plt.savefig(path + 'raster_plot.pdf')"
   ]
  },
  {
   "cell_type": "code",
   "execution_count": null,
   "metadata": {},
   "outputs": [],
   "source": [
    "grid = 51\n",
    "\n",
    "resos = np.linspace(0, 1.5, grid)\n",
    "inters = np.linspace(0, 1.5, grid)\n",
    "\n",
    "path_no_update = path + 'no_update/'\n",
    "\n",
    "os.makedirs(path_no_update, exist_ok = True)"
   ]
  },
  {
   "cell_type": "code",
   "execution_count": null,
   "metadata": {},
   "outputs": [],
   "source": [
    "membership_no_update, labels_no_update = TN.run_community_detection('MMM', \n",
    "                                                                    interlayers = inters, \n",
    "                                                                    resolutions = resos)\n",
    "with open(path_no_update + \"MMM_labels_no_update.pkl\", \"wb\") as fp:\n",
    "    pickle.dump(labels_no_update, fp)"
   ]
  },
  {
   "cell_type": "code",
   "execution_count": null,
   "metadata": {},
   "outputs": [],
   "source": [
    "index = 10\n",
    "for m in range(5):\n",
    "    for n in range(5):\n",
    "        fig,ax = plt.subplots(index,index, figsize = (index*15+5,index*15))\n",
    "        for i in range(index):\n",
    "            for j in range(index):\n",
    "                comms, c = TN.community(membership_no_update['interlayer=%.3f'%inters[i+m*index]][j+n*index], ax[i][j])\n",
    "                ax[i][j].set_xticks([i for i in range(layers)])\n",
    "                ax[i][j].set_yticks([i*10 for i in range(int(num_neurons/10)+1)])\n",
    "                ax[i][j].tick_params(axis = 'both', labelsize = 12)\n",
    "                ax[i][j].set_xlabel('Layers (Time)', fontsize = 25)\n",
    "                ax[i][j].set_ylabel('Neuron ID', fontsize = 25)\n",
    "                ax[i][j].set_title('%d Communities, interlayer:%.3f, resolution:%.3f'%(len(c),inters[i+m*index],resos[j+n*index]), fontsize=29)\n",
    "        plt.tight_layout()\n",
    "        plt.savefig(path_no_update + 'communities_%d.pdf'%((m*5)+n))"
   ]
  },
  {
   "cell_type": "code",
   "execution_count": null,
   "metadata": {},
   "outputs": [],
   "source": [
    "information_recovery(labels_no_update, comm_sizes, 'Scattered', inters, resos, 'merge')\n",
    "plt.savefig(path_no_update + 'info_recovery_scattered.pdf')"
   ]
  },
  {
   "cell_type": "code",
   "execution_count": null,
   "metadata": {},
   "outputs": [],
   "source": [
    "information_recovery(labels_no_update, comm_sizes, 'Integrated', inters, resos, 'merge')\n",
    "plt.savefig(path_no_update + 'info_recovery_integrated.pdf')"
   ]
  },
  {
   "cell_type": "code",
   "execution_count": null,
   "metadata": {},
   "outputs": [],
   "source": [
    "path_local_update = path + 'local_update/'\n",
    "\n",
    "os.makedirs(path_local_update, exist_ok = True)"
   ]
  },
  {
   "cell_type": "code",
   "execution_count": null,
   "metadata": {},
   "outputs": [],
   "source": [
    "membership_local_update, labels_local_update = TN.run_community_detection('MMM', \n",
    "                                                                          update_method = 'local', \n",
    "                                                                          interlayers = inters, \n",
    "                                                                          resolutions = resos, \n",
    "                                                                          spikes = spikes)\n",
    "with open(path_local_update + \"MMM_labels_local_update.pkl\", \"wb\") as fp:\n",
    "    pickle.dump(labels_local_update, fp)"
   ]
  },
  {
   "cell_type": "code",
   "execution_count": null,
   "metadata": {},
   "outputs": [],
   "source": [
    "index = 10\n",
    "for m in range(5):\n",
    "    for n in range(5):\n",
    "        fig,ax = plt.subplots(index,index, figsize = (index*15+5,index*15))\n",
    "        for i in range(index):\n",
    "            for j in range(index):\n",
    "                comms, c = TN.community(membership_local_update['interlayer=%.3f'%inters[i+m*index]][j+n*index], ax[i][j])\n",
    "                ax[i][j].set_xticks([i for i in range(layers)])\n",
    "                ax[i][j].set_yticks([i*10 for i in range(int(num_neurons/10)+1)])\n",
    "                ax[i][j].tick_params(axis = 'both', labelsize = 12)\n",
    "                ax[i][j].set_xlabel('Layers (Time)', fontsize = 25)\n",
    "                ax[i][j].set_ylabel('Neuron ID', fontsize = 25)\n",
    "                ax[i][j].set_title('%d Communities, interlayer:%.3f, resolution:%.3f'%(len(c),inters[i+m*index],resos[j+n*index]), fontsize=29)\n",
    "        plt.tight_layout()\n",
    "        plt.savefig(path_local_update + 'communities_%d.pdf'%((m*5)+n))"
   ]
  },
  {
   "cell_type": "code",
   "execution_count": null,
   "metadata": {},
   "outputs": [],
   "source": [
    "information_recovery(labels_local_update, comm_sizes, 'Scattered', inters, resos, 'merge')\n",
    "plt.savefig(path_local_update + 'info_recovery_scattered.pdf')"
   ]
  },
  {
   "cell_type": "code",
   "execution_count": null,
   "metadata": {},
   "outputs": [],
   "source": [
    "information_recovery(labels_local_update, comm_sizes, 'Integrated', inters, resos, 'merge')\n",
    "plt.savefig(path_local_update + 'info_recovery_integrated.pdf')"
   ]
  },
  {
   "cell_type": "code",
   "execution_count": null,
   "metadata": {},
   "outputs": [],
   "source": [
    "path_global_update = path + 'global_update/'\n",
    "\n",
    "os.makedirs(path_global_update, exist_ok = True)"
   ]
  },
  {
   "cell_type": "code",
   "execution_count": null,
   "metadata": {},
   "outputs": [],
   "source": [
    "membership_global_update, labels_global_update = TN.run_community_detection('MMM', \n",
    "                                                                            update_method = 'global', \n",
    "                                                                            interlayers = inters, \n",
    "                                                                            resolutions = resos, \n",
    "                                                                            spikes = spikes)\n",
    "with open(path_global_update + \"MMM_labels_global_update.pkl\", \"wb\") as fp:\n",
    "    pickle.dump(labels_global_update, fp)"
   ]
  },
  {
   "cell_type": "code",
   "execution_count": null,
   "metadata": {},
   "outputs": [],
   "source": [
    "index = 10\n",
    "for m in range(5):\n",
    "    for n in range(5):\n",
    "        fig,ax = plt.subplots(index,index, figsize = (index*15+5,index*15))\n",
    "        for i in range(index):\n",
    "            for j in range(index):\n",
    "                comms, c = TN.community(membership_global_update['interlayer=%.3f'%inters[i+m*index]][j+n*index], ax[i][j])\n",
    "                ax[i][j].set_xticks([i for i in range(layers)])\n",
    "                ax[i][j].set_yticks([i*10 for i in range(int(num_neurons/10)+1)])\n",
    "                ax[i][j].tick_params(axis = 'both', labelsize = 12)\n",
    "                ax[i][j].set_xlabel('Layers (Time)', fontsize = 25)\n",
    "                ax[i][j].set_ylabel('Neuron ID', fontsize = 25)\n",
    "                ax[i][j].set_title('%d Communities, interlayer:%.3f, resolution:%.3f'%(len(c),inters[i+m*index],resos[j+n*index]), fontsize=29)\n",
    "        plt.tight_layout()\n",
    "        plt.savefig(path_global_update + 'communities_%d.pdf'%((m*5)+n))"
   ]
  },
  {
   "cell_type": "code",
   "execution_count": null,
   "metadata": {},
   "outputs": [],
   "source": [
    "information_recovery(labels_global_update, comm_sizes, 'Scattered', inters, resos, 'merge')\n",
    "plt.savefig(path_global_update + 'info_recovery_scattered.pdf')"
   ]
  },
  {
   "cell_type": "code",
   "execution_count": null,
   "metadata": {},
   "outputs": [],
   "source": [
    "information_recovery(labels_global_update, comm_sizes, 'Integrated', inters, resos, 'merge')\n",
    "plt.savefig(path_global_update + 'info_recovery_integrated.pdf')"
   ]
  },
  {
   "cell_type": "code",
   "execution_count": null,
   "metadata": {},
   "outputs": [],
   "source": [
    "path_nbr_update = path + 'nbr_update/'\n",
    "\n",
    "os.makedirs(path_nbr_update, exist_ok = True)"
   ]
  },
  {
   "cell_type": "code",
   "execution_count": null,
   "metadata": {},
   "outputs": [],
   "source": [
    "membership_neighborhood_update, labels_neighborhood_update = TN.run_community_detection('MMM', \n",
    "                                                                            update_method = 'neighborhood', \n",
    "                                                                            interlayers = inters, \n",
    "                                                                            resolutions = resos, \n",
    "                                                                            spikes = spikes)\n",
    "with open(path_nbr_update + \"MMM_labels_neighborhood_update.pkl\", \"wb\") as fp:\n",
    "    pickle.dump(labels_neighborhood_update, fp)"
   ]
  },
  {
   "cell_type": "code",
   "execution_count": null,
   "metadata": {},
   "outputs": [],
   "source": [
    "index = 10\n",
    "for m in range(5):\n",
    "    for n in range(5):\n",
    "        fig,ax = plt.subplots(index,index, figsize = (index*15+5,index*15))\n",
    "        for i in range(index):\n",
    "            for j in range(index):\n",
    "                comms, c = TN.community(membership_neighborhood_update['interlayer=%.3f'%inters[i+m*index]][j+n*index], ax[i][j])\n",
    "                ax[i][j].set_xticks([i for i in range(layers)])\n",
    "                ax[i][j].set_yticks([i*10 for i in range(int(num_neurons/10)+1)])\n",
    "                ax[i][j].tick_params(axis = 'both', labelsize = 12)\n",
    "                ax[i][j].set_xlabel('Layers (Time)', fontsize = 25)\n",
    "                ax[i][j].set_ylabel('Neuron ID', fontsize = 25)\n",
    "                ax[i][j].set_title('%d Communities, interlayer:%.3f, resolution:%.3f'%(len(c),inters[i+m*index],resos[j+n*index]), fontsize=29)\n",
    "        plt.tight_layout()\n",
    "        plt.savefig(path_nbr_update + 'communities_%d.pdf'%((m*5)+n))"
   ]
  },
  {
   "cell_type": "code",
   "execution_count": null,
   "metadata": {},
   "outputs": [],
   "source": [
    "information_recovery(labels_neighborhood_update, comm_sizes, 'Scattered', inters, resos, 'merge')\n",
    "plt.savefig(path_nbr_update + 'info_recovery_scattered.pdf')"
   ]
  },
  {
   "cell_type": "code",
   "execution_count": null,
   "metadata": {},
   "outputs": [],
   "source": [
    "information_recovery(labels_neighborhood_update, comm_sizes, 'Integrated', inters, resos, 'merge')\n",
    "plt.savefig(path_nbr_update + 'info_recovery_integrated.pdf')"
   ]
  },
  {
   "cell_type": "code",
   "execution_count": null,
   "metadata": {},
   "outputs": [],
   "source": []
  },
  {
   "cell_type": "code",
   "execution_count": null,
   "metadata": {},
   "outputs": [],
   "source": []
  }
 ],
 "metadata": {
  "kernelspec": {
   "display_name": "Python 3",
   "language": "python",
   "name": "python3"
  },
  "language_info": {
   "codemirror_mode": {
    "name": "ipython",
    "version": 3
   },
   "file_extension": ".py",
   "mimetype": "text/x-python",
   "name": "python",
   "nbconvert_exporter": "python",
   "pygments_lexer": "ipython3",
   "version": "3.7.6"
  }
 },
 "nbformat": 4,
 "nbformat_minor": 4
}
