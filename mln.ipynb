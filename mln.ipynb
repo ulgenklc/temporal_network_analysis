{
 "cells": [
  {
   "cell_type": "code",
   "execution_count": 1,
   "metadata": {},
   "outputs": [],
   "source": [
    "import numpy as np\n",
    "import matplotlib.pyplot as plt"
   ]
  },
  {
   "cell_type": "code",
   "execution_count": 32,
   "metadata": {},
   "outputs": [],
   "source": [
    "class temporal_network:\n",
    "    \n",
    "    #node-aligned\n",
    "    #get binary edge pairs\n",
    "    def __init__(self, size, length, edge_list, kind = 'temporal', omega = 1):\n",
    "        \n",
    "        self.nodes = [i for i in range(size)]\n",
    "        self.time = length\n",
    "        self.size = size\n",
    "        adjacency = np.zeros((self.size*self.time,self.size*self.time))\n",
    "        multi_array = np.zeros((self.time,self.size,self.size))\n",
    "        \n",
    "        #edge list is binary in the format of (i,j,t): \n",
    "        #there is an edge between i and j on time t(and an edge between j and i)\n",
    "        for k,e in enumerate(edge_list):\n",
    "            i,j,t = e[0],e[1],e[2]\n",
    "            adjacency[self.size*(t-1)+i][self.size*(t-1)+j] = 1\n",
    "            adjacency[self.size*(t-1)+j][self.size*(t-1)+i] = 1\n",
    "            multi_array[t-1][i][j] = 1\n",
    "            multi_array[t-1][j][i] = 1\n",
    "            \n",
    "        ##filling off diagonal blocks\n",
    "        if kind == 'temporal':\n",
    "            for n in range(self.size*(self.time-1)):\n",
    "                adjacency[n][n+self.size] = omega\n",
    "                adjacency[n+self.size][n] = omega\n",
    "                \n",
    "        elif kind == 'multilayer':\n",
    "            i = 0\n",
    "            while self.time-i != 0:\n",
    "                i = i+1\n",
    "                for n in range(self.size*(self.time-i)):\n",
    "                    adjacency[n][n+i*self.size] = omega\n",
    "                    adjacency[n+i*self.size][n] = omega\n",
    "                    \n",
    "        self.supra_adjacency = adjacency\n",
    "        self.multi_array = multi_array\n",
    "        \n",
    "    def s_adjacency(self, multiarray, kind = 'temporal', omega=1):\n",
    "        #function converting a multi dimensional array into supra adjacency matrix\n",
    "        n = self.size\n",
    "        t = self.time\n",
    "        adjacency = np.zeros((self.size*self.time,self.size*self.time))\n",
    "        \n",
    "        for i,c in enumerate(multiarray[:]):\n",
    "            adjacency[i*n:i*n+n,i*n:i*n+n] = c     \n",
    "            \n",
    "        if kind == 'temporal':\n",
    "            for p in range(n*(t-1)):\n",
    "                adjacency[p][p+n] = omega\n",
    "                adjacency[p+n][p] = omega\n",
    "                \n",
    "        elif kind == 'multilayer':\n",
    "            i = 0\n",
    "            while t-i != 0:\n",
    "                i = i+1\n",
    "                for p in range(n*(t-i)):\n",
    "                    adjacency[p][p+i*n] = omega\n",
    "                    adjacency[p+i*n][p] = omega\n",
    "        return(adjacency)\n",
    "        \n",
    "    def aggragate(self, normalized = True):\n",
    "        t = self.time \n",
    "        n = self.size\n",
    "        aggragated = np.zeros((n,n))\n",
    "        for i,c in enumerate(self.multi_array[:]):\n",
    "            aggragated = aggragated + c\n",
    "        if normalized: return (aggragated/t)\n",
    "        else: return (aggragated)\n",
    "        \n",
    "    def modularity_matrix(self, omega, gamma):\n",
    "        N = self.size\n",
    "        T = self.time\n",
    "        B = np.zeros((N*T,N*T))\n",
    "        two_mu = 0\n",
    "        for i in range(T):\n",
    "            k = np.sum(self.multi_array[i],0)\n",
    "            two_m = np.sum(k,0)\n",
    "            two_mu = two_mu + two_m\n",
    "            B[i*N:(i+1)*N,i*N:(i+1)*N] = self.multi_array[i] - (gamma * k.T*k)/(two_m)\n",
    "        two_mu = two_mu + 2*omega*N*(T-1)\n",
    "        for p in range(N*(T-1)):\n",
    "            B[p][p+N] = omega \n",
    "            B[p+N][p] = omega\n",
    "        return(B)"
   ]
  },
  {
   "cell_type": "code",
   "execution_count": 30,
   "metadata": {},
   "outputs": [
    {
     "data": {
      "text/plain": [
       "array([[[0., 1., 0.],\n",
       "        [1., 0., 0.],\n",
       "        [0., 0., 0.]],\n",
       "\n",
       "       [[0., 1., 0.],\n",
       "        [1., 0., 1.],\n",
       "        [0., 1., 0.]],\n",
       "\n",
       "       [[0., 1., 1.],\n",
       "        [1., 0., 0.],\n",
       "        [1., 0., 0.]],\n",
       "\n",
       "       [[0., 1., 1.],\n",
       "        [1., 0., 1.],\n",
       "        [1., 1., 0.]]])"
      ]
     },
     "execution_count": 30,
     "metadata": {},
     "output_type": "execute_result"
    }
   ],
   "source": [
    "edges = [[0,1,1],[0,1,2],[1,2,2],[0,1,3],[0,2,3],[0,1,4],[0,2,4],[1,2,4]]\n",
    "T=temporal_network(3, 4, edges, kind = 'temporal', omega = 1)\n",
    "S=temporal_network(3, 4, edges, kind = 'temporal', omega = 1).supra_adjacency\n",
    "C=temporal_network(3, 4, edges, kind = 'temporal', omega = 1).multi_array\n",
    "C"
   ]
  },
  {
   "cell_type": "code",
   "execution_count": 33,
   "metadata": {},
   "outputs": [
    {
     "data": {
      "text/plain": [
       "array([[-0.5       ,  0.5       ,  0.        ,  1.        ,  0.        ,\n",
       "         0.        ,  0.        ,  0.        ,  0.        ,  0.        ,\n",
       "         0.        ,  0.        ],\n",
       "       [ 0.5       , -0.5       ,  0.        ,  0.        ,  1.        ,\n",
       "         0.        ,  0.        ,  0.        ,  0.        ,  0.        ,\n",
       "         0.        ,  0.        ],\n",
       "       [-0.5       , -0.5       ,  0.        ,  0.        ,  0.        ,\n",
       "         1.        ,  0.        ,  0.        ,  0.        ,  0.        ,\n",
       "         0.        ,  0.        ],\n",
       "       [ 1.        ,  0.        ,  0.        , -0.25      ,  0.        ,\n",
       "        -0.25      ,  1.        ,  0.        ,  0.        ,  0.        ,\n",
       "         0.        ,  0.        ],\n",
       "       [ 0.        ,  1.        ,  0.        ,  0.75      , -1.        ,\n",
       "         0.75      ,  0.        ,  1.        ,  0.        ,  0.        ,\n",
       "         0.        ,  0.        ],\n",
       "       [ 0.        ,  0.        ,  1.        , -0.25      ,  0.        ,\n",
       "        -0.25      ,  0.        ,  0.        ,  1.        ,  0.        ,\n",
       "         0.        ,  0.        ],\n",
       "       [ 0.        ,  0.        ,  0.        ,  1.        ,  0.        ,\n",
       "         0.        , -1.        ,  0.75      ,  0.75      ,  1.        ,\n",
       "         0.        ,  0.        ],\n",
       "       [ 0.        ,  0.        ,  0.        ,  0.        ,  1.        ,\n",
       "         0.        ,  0.        , -0.25      , -0.25      ,  0.        ,\n",
       "         1.        ,  0.        ],\n",
       "       [ 0.        ,  0.        ,  0.        ,  0.        ,  0.        ,\n",
       "         1.        ,  0.        , -0.25      , -0.25      ,  0.        ,\n",
       "         0.        ,  1.        ],\n",
       "       [ 0.        ,  0.        ,  0.        ,  0.        ,  0.        ,\n",
       "         0.        ,  1.        ,  0.        ,  0.        , -0.66666667,\n",
       "         0.33333333,  0.33333333],\n",
       "       [ 0.        ,  0.        ,  0.        ,  0.        ,  0.        ,\n",
       "         0.        ,  0.        ,  1.        ,  0.        ,  0.33333333,\n",
       "        -0.66666667,  0.33333333],\n",
       "       [ 0.        ,  0.        ,  0.        ,  0.        ,  0.        ,\n",
       "         0.        ,  0.        ,  0.        ,  1.        ,  0.33333333,\n",
       "         0.33333333, -0.66666667]])"
      ]
     },
     "execution_count": 33,
     "metadata": {},
     "output_type": "execute_result"
    }
   ],
   "source": [
    "T.modularity_matrix(1,1)"
   ]
  },
  {
   "cell_type": "code",
   "execution_count": null,
   "metadata": {},
   "outputs": [],
   "source": []
  },
  {
   "cell_type": "code",
   "execution_count": null,
   "metadata": {},
   "outputs": [],
   "source": []
  },
  {
   "cell_type": "code",
   "execution_count": null,
   "metadata": {},
   "outputs": [],
   "source": []
  }
 ],
 "metadata": {
  "kernelspec": {
   "display_name": "Python 3",
   "language": "python",
   "name": "python3"
  },
  "language_info": {
   "codemirror_mode": {
    "name": "ipython",
    "version": 3
   },
   "file_extension": ".py",
   "mimetype": "text/x-python",
   "name": "python",
   "nbconvert_exporter": "python",
   "pygments_lexer": "ipython3",
   "version": "3.7.6"
  }
 },
 "nbformat": 4,
 "nbformat_minor": 4
}
